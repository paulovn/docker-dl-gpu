{
 "cells": [
  {
   "cell_type": "markdown",
   "metadata": {},
   "source": [
    "# console capture and replay for notebooks\n",
    "\n",
    "This notebook shows an example of an small utility that can help capture the output sent to stdout by a long-running process in a notebook."
   ]
  },
  {
   "cell_type": "code",
   "execution_count": 1,
   "metadata": {
    "collapsed": false
   },
   "outputs": [],
   "source": [
    "from __future__ import print_function\n",
    "\n",
    "from  dl_utils import console_capture as cc"
   ]
  },
  {
   "cell_type": "markdown",
   "metadata": {},
   "source": [
    "A preliminary check: this cell should print\n",
    "\n",
    "  `789...`\n",
    "\n",
    "since the carriage return should make it overwrite all previous output. If not, this is possibly a [buggy notebook version](https://github.com/jupyter/notebook/issues/1970). Update notebook to at least 4.3.1\n"
   ]
  },
  {
   "cell_type": "code",
   "execution_count": 2,
   "metadata": {
    "collapsed": false
   },
   "outputs": [
    {
     "name": "stdout",
     "output_type": "stream",
     "text": [
      "123...\r",
      "456...\r",
      "789...\n"
     ]
    }
   ],
   "source": [
    "a = '123...\\r456...\\r789...'\n",
    "print(a)"
   ]
  },
  {
   "cell_type": "markdown",
   "metadata": {},
   "source": [
    "Backspaces are not correctly processed by notebooks, though (they are ignored). So this one will not print what it should:"
   ]
  },
  {
   "cell_type": "code",
   "execution_count": 3,
   "metadata": {
    "collapsed": false
   },
   "outputs": [
    {
     "name": "stdout",
     "output_type": "stream",
     "text": [
      "123...\r",
      "456...\r",
      "789\b\b\babc...\n"
     ]
    }
   ],
   "source": [
    "a = '123...\\r456...\\r789\\b\\b\\babc...'\n",
    "print(a)"
   ]
  },
  {
   "cell_type": "markdown",
   "metadata": {},
   "source": [
    "# High-level API"
   ]
  },
  {
   "cell_type": "markdown",
   "metadata": {},
   "source": [
    "## Process example\n",
    "\n",
    "To use the high-level API we need out processing task in the form of a [callable](https://docs.python.org/3/library/functions.html#callable)  (a function, method, or in general any object with a `__call__` [attribute](https://docs.python.org/3/reference/datamodel.html#object.__call__)), with arbitrary arguments"
   ]
  },
  {
   "cell_type": "code",
   "execution_count": 4,
   "metadata": {
    "collapsed": true
   },
   "outputs": [],
   "source": [
    "import time\n",
    "\n",
    "def processing_call( num, msg, **kwargs ):\n",
    "    '''\n",
    "    A function that basically does nothing, but takes its time to do \n",
    "    that nothing and prints out progress reports while it is doing it\n",
    "    '''\n",
    "    tic = time.time()\n",
    "    # Outer loop: 'num' times\n",
    "    for j in range(num):\n",
    "        # Inner loop: 10 times\n",
    "        for i in range(10):\n",
    "            # Print progress reports. Use control characters to overwrite the line\n",
    "            print( \"\\b\\b\\b\\b\\b\\b\\b\\b\\b\\b\\b\\r\", '{:2} {:2} {:5.2f}'.format( j+1, i+1, time.time() - tic ), end=' ' )\n",
    "            time.sleep(0.10)\n",
    "        print('<iteration done>') # next line\n",
    "        time.sleep(1)\n",
    "    print( \"Done! Msg={} Param={}\".format(msg,kwargs) )"
   ]
  },
  {
   "cell_type": "markdown",
   "metadata": {},
   "source": [
    "## Basic style\n",
    "The basic procedure is creating a wrap object by passing it the callable with its required arguments ..."
   ]
  },
  {
   "cell_type": "code",
   "execution_count": 5,
   "metadata": {
    "collapsed": false
   },
   "outputs": [],
   "source": [
    "p = cc.ProcessWrap( processing_call, 4, \"Hi\", param=\"I'm a process\" )"
   ]
  },
  {
   "cell_type": "markdown",
   "metadata": {},
   "source": [
    "... and then calling the `process()` method on that object. It appears to be the same as executing the callable directly: the process is carried out, the cell appears as **`[*]`** (i.e. working) and the notebook as _busy_ and the progress results printed by the callable are written back to the notebook."
   ]
  },
  {
   "cell_type": "code",
   "execution_count": 6,
   "metadata": {
    "collapsed": false
   },
   "outputs": [
    {
     "name": "stdout",
     "output_type": "stream",
     "text": [
      "Launching process ... \n",
      "  1 10  0.91 \b\b\b\b\b\b\b\b\b\b\b\b\b\b\b\b\b\b\b\b\b\b\b\b\b\b\b\b\b\b\b\b\b\b\b\b\b\b\b\b\b\b\b\b\b\b\b\b\b\b\b\b\b\b\b<iteration done>\n",
      "  2 10  2.92 \b\b\b\b\b\b\b\b\b\b\b\b\b\b\b\b\b\b\b\b\b\b\b\b\b\b\b\b\b\b\b\b\b\b\b\b\b\b\b\b\b\b\b\b\b\b\b\b\b\b\b\b\b\b\b<iteration done>\n",
      "  3 10  4.93 \b\b\b\b\b\b\b\b\b\b\b\b\b\b\b\b\b\b\b\b\b\b\b\b\b\b\b\b\b\b\b\b\b\b\b\b\b\b\b\b\b\b\b\b\b\b\b\b\b\b\b\b\b\b\b<iteration done>\n",
      "  4 10  6.93 \b\b\b\b\b\b\b\b\b\b\b\b\b\b\b\b\b\b\b\b\b\b\b\b\b\b\b\b\b\b\b\b\b\b\b\b\b\b\b\b\b\b\b\b\b\b\b\b\b\b\b\b\b\b\b<iteration done>\n",
      "Done! Msg=Hi Param={'param': \"I'm a process\"}\n"
     ]
    }
   ],
   "source": [
    "p.process()"
   ]
  },
  {
   "cell_type": "markdown",
   "metadata": {},
   "source": [
    "But behind the scenes, the printed data has been written to a temporal file, whose contents are automatically loaded upon termination as internal data object (and the file deleted), so they can be reprinted at will:"
   ]
  },
  {
   "cell_type": "code",
   "execution_count": 7,
   "metadata": {
    "collapsed": false
   },
   "outputs": [
    {
     "name": "stdout",
     "output_type": "stream",
     "text": [
      "\r",
      "----- DONE -----\n",
      "\b\b\b\b\b\b\b\b\b\b\b\r",
      "  1  1  0.00 \b\b\b\b\b\b\b\b\b\b\b\r",
      "  1  2  0.10 \b\b\b\b\b\b\b\b\b\b\b\r",
      "  1  3  0.20 \b\b\b\b\b\b\b\b\b\b\b\r",
      "  1  4  0.30 \b\b\b\b\b\b\b\b\b\b\b\r",
      "  1  5  0.40 \b\b\b\b\b\b\b\b\b\b\b\r",
      "  1  6  0.50 \b\b\b\b\b\b\b\b\b\b\b\r",
      "  1  7  0.61 \b\b\b\b\b\b\b\b\b\b\b\r",
      "  1  8  0.71 \b\b\b\b\b\b\b\b\b\b\b\r",
      "  1  9  0.81 \b\b\b\b\b\b\b\b\b\b\b\r",
      "  1 10  0.91 <iteration done>\n",
      "\b\b\b\b\b\b\b\b\b\b\b\r",
      "  2  1  2.01 \b\b\b\b\b\b\b\b\b\b\b\r",
      "  2  2  2.11 \b\b\b\b\b\b\b\b\b\b\b\r",
      "  2  3  2.21 \b\b\b\b\b\b\b\b\b\b\b\r",
      "  2  4  2.31 \b\b\b\b\b\b\b\b\b\b\b\r",
      "  2  5  2.41 \b\b\b\b\b\b\b\b\b\b\b\r",
      "  2  6  2.51 \b\b\b\b\b\b\b\b\b\b\b\r",
      "  2  7  2.61 \b\b\b\b\b\b\b\b\b\b\b\r",
      "  2  8  2.71 \b\b\b\b\b\b\b\b\b\b\b\r",
      "  2  9  2.82 \b\b\b\b\b\b\b\b\b\b\b\r",
      "  2 10  2.92 <iteration done>\n",
      "\b\b\b\b\b\b\b\b\b\b\b\r",
      "  3  1  4.02 \b\b\b\b\b\b\b\b\b\b\b\r",
      "  3  2  4.12 \b\b\b\b\b\b\b\b\b\b\b\r",
      "  3  3  4.22 \b\b\b\b\b\b\b\b\b\b\b\r",
      "  3  4  4.32 \b\b\b\b\b\b\b\b\b\b\b\r",
      "  3  5  4.42 \b\b\b\b\b\b\b\b\b\b\b\r",
      "  3  6  4.52 \b\b\b\b\b\b\b\b\b\b\b\r",
      "  3  7  4.62 \b\b\b\b\b\b\b\b\b\b\b\r",
      "  3  8  4.72 \b\b\b\b\b\b\b\b\b\b\b\r",
      "  3  9  4.82 \b\b\b\b\b\b\b\b\b\b\b\r",
      "  3 10  4.93 <iteration done>\n",
      "\b\b\b\b\b\b\b\b\b\b\b\r",
      "  4  1  6.03 \b\b\b\b\b\b\b\b\b\b\b\r",
      "  4  2  6.13 \b\b\b\b\b\b\b\b\b\b\b\r",
      "  4  3  6.23 \b\b\b\b\b\b\b\b\b\b\b\r",
      "  4  4  6.33 \b\b\b\b\b\b\b\b\b\b\b\r",
      "  4  5  6.43 \b\b\b\b\b\b\b\b\b\b\b\r",
      "  4  6  6.53 \b\b\b\b\b\b\b\b\b\b\b\r",
      "  4  7  6.63 \b\b\b\b\b\b\b\b\b\b\b\r",
      "  4  8  6.73 \b\b\b\b\b\b\b\b\b\b\b\r",
      "  4  9  6.83 \b\b\b\b\b\b\b\b\b\b\b\r",
      "  4 10  6.93 <iteration done>\n",
      "Done! Msg=Hi Param={'param': \"I'm a process\"}\n"
     ]
    }
   ],
   "source": [
    "p.show()"
   ]
  },
  {
   "cell_type": "markdown",
   "metadata": {},
   "source": [
    "### accessing raw data\n",
    "\n",
    "The same output is also available in raw form through the `data` attribute of the object:"
   ]
  },
  {
   "cell_type": "code",
   "execution_count": 8,
   "metadata": {
    "collapsed": false
   },
   "outputs": [
    {
     "data": {
      "text/plain": [
       "'\\x08\\x08\\x08\\x08\\x08\\x08\\x08\\x08\\x08\\x08\\x08\\r  1  1  0.00 \\x08\\x08\\x08\\x08\\x08\\x08\\x08\\x08\\x08\\x08\\x08\\r  1  2  0.10 \\x08\\x08\\x08\\x08\\x08\\x08\\x08\\x08\\x08\\x08\\x08\\r  1  3  0.20 \\x08\\x08\\x08\\x08\\x08\\x08\\x08\\x08\\x08\\x08\\x08\\r  1  4  0.30 \\x08\\x08\\x08\\x08\\x08\\x08\\x08\\x08\\x08\\x08\\x08\\r  1  5  0.40 \\x08\\x08\\x08\\x08\\x08\\x08\\x08\\x08\\x08\\x08\\x08\\r  1  6  0.50 \\x08\\x08\\x08\\x08\\x08\\x08\\x08\\x08\\x08\\x08\\x08\\r  1  7  0.61 \\x08\\x08\\x08\\x08\\x08\\x08\\x08\\x08\\x08\\x08\\x08\\r  1  8  0.71 \\x08\\x08\\x08\\x08\\x08\\x08\\x08\\x08\\x08\\x08\\x08\\r  1  9  0.81 \\x08\\x08\\x08\\x08\\x08\\x08\\x08\\x08\\x08\\x08\\x08\\r  1 10  0.91 <iteration done>\\n\\x08\\x08\\x08\\x08\\x08\\x08\\x08\\x08\\x08\\x08\\x08\\r  2  1  2.01 \\x08\\x08\\x08\\x08\\x08\\x08\\x08\\x08\\x08\\x08\\x08\\r  2  2  2.11 \\x08\\x08\\x08\\x08\\x08\\x08\\x08\\x08\\x08\\x08\\x08\\r  2  3  2.21 \\x08\\x08\\x08\\x08\\x08\\x08\\x08\\x08\\x08\\x08\\x08\\r  2  4  2.31 \\x08\\x08\\x08\\x08\\x08\\x08\\x08\\x08\\x08\\x08\\x08\\r  2  5  2.41 \\x08\\x08\\x08\\x08\\x08\\x08\\x08\\x08\\x08\\x08\\x08\\r  2  6  2.51 \\x08\\x08\\x08\\x08\\x08\\x08\\x08\\x08\\x08\\x08\\x08\\r  2  7  2.61 \\x08\\x08\\x08\\x08\\x08\\x08\\x08\\x08\\x08\\x08\\x08\\r  2  8  2.71 \\x08\\x08\\x08\\x08\\x08\\x08\\x08\\x08\\x08\\x08\\x08\\r  2  9  2.82 \\x08\\x08\\x08\\x08\\x08\\x08\\x08\\x08\\x08\\x08\\x08\\r  2 10  2.92 <iteration done>\\n\\x08\\x08\\x08\\x08\\x08\\x08\\x08\\x08\\x08\\x08\\x08\\r  3  1  4.02 \\x08\\x08\\x08\\x08\\x08\\x08\\x08\\x08\\x08\\x08\\x08\\r  3  2  4.12 \\x08\\x08\\x08\\x08\\x08\\x08\\x08\\x08\\x08\\x08\\x08\\r  3  3  4.22 \\x08\\x08\\x08\\x08\\x08\\x08\\x08\\x08\\x08\\x08\\x08\\r  3  4  4.32 \\x08\\x08\\x08\\x08\\x08\\x08\\x08\\x08\\x08\\x08\\x08\\r  3  5  4.42 \\x08\\x08\\x08\\x08\\x08\\x08\\x08\\x08\\x08\\x08\\x08\\r  3  6  4.52 \\x08\\x08\\x08\\x08\\x08\\x08\\x08\\x08\\x08\\x08\\x08\\r  3  7  4.62 \\x08\\x08\\x08\\x08\\x08\\x08\\x08\\x08\\x08\\x08\\x08\\r  3  8  4.72 \\x08\\x08\\x08\\x08\\x08\\x08\\x08\\x08\\x08\\x08\\x08\\r  3  9  4.82 \\x08\\x08\\x08\\x08\\x08\\x08\\x08\\x08\\x08\\x08\\x08\\r  3 10  4.93 <iteration done>\\n\\x08\\x08\\x08\\x08\\x08\\x08\\x08\\x08\\x08\\x08\\x08\\r  4  1  6.03 \\x08\\x08\\x08\\x08\\x08\\x08\\x08\\x08\\x08\\x08\\x08\\r  4  2  6.13 \\x08\\x08\\x08\\x08\\x08\\x08\\x08\\x08\\x08\\x08\\x08\\r  4  3  6.23 \\x08\\x08\\x08\\x08\\x08\\x08\\x08\\x08\\x08\\x08\\x08\\r  4  4  6.33 \\x08\\x08\\x08\\x08\\x08\\x08\\x08\\x08\\x08\\x08\\x08\\r  4  5  6.43 \\x08\\x08\\x08\\x08\\x08\\x08\\x08\\x08\\x08\\x08\\x08\\r  4  6  6.53 \\x08\\x08\\x08\\x08\\x08\\x08\\x08\\x08\\x08\\x08\\x08\\r  4  7  6.63 \\x08\\x08\\x08\\x08\\x08\\x08\\x08\\x08\\x08\\x08\\x08\\r  4  8  6.73 \\x08\\x08\\x08\\x08\\x08\\x08\\x08\\x08\\x08\\x08\\x08\\r  4  9  6.83 \\x08\\x08\\x08\\x08\\x08\\x08\\x08\\x08\\x08\\x08\\x08\\r  4 10  6.93 <iteration done>\\nDone! Msg=Hi Param={\\'param\\': \"I\\'m a process\"}\\n'"
      ]
     },
     "execution_count": 8,
     "metadata": {},
     "output_type": "execute_result"
    }
   ],
   "source": [
    "p.data"
   ]
  },
  {
   "cell_type": "markdown",
   "metadata": {},
   "source": [
    "Obviously all those control characters make the data a bit difficult to read. We can use the provided `clean_string()` function, which applies backspaces (`\\b`) and carriage returns (`\\r`) as they would be processed were the data sent to standard output:"
   ]
  },
  {
   "cell_type": "code",
   "execution_count": 9,
   "metadata": {
    "collapsed": false
   },
   "outputs": [
    {
     "data": {
      "text/plain": [
       "'  1 10  0.91 <iteration done>\\n  2 10  2.92 <iteration done>\\n  3 10  4.93 <iteration done>\\n  4 10  6.93 <iteration done>\\nDone! Msg=Hi Param={\\'param\\': \"I\\'m a process\"}\\n'"
      ]
     },
     "execution_count": 9,
     "metadata": {},
     "output_type": "execute_result"
    }
   ],
   "source": [
    "cc.clean_string( p.data )"
   ]
  },
  {
   "cell_type": "markdown",
   "metadata": {},
   "source": [
    "### closing and reopening the notebook window\n",
    "\n",
    "More importantly, the `process()` call, though it seems to be blocking it is doing so by actually looping over a check-sleep cycle. The actual process is being carried out in a **background thread**, which will continue saving its results to the temporal file even if the browser window is closed. \n",
    "\n",
    "Opening the notebook later on and executing the `show()` method will print out the results stored in the file. Moreover, it will reconnect the standard output of the process with the notebook cell, so that further output gets back to the notebook. We can test it with a longer running process:"
   ]
  },
  {
   "cell_type": "code",
   "execution_count": 10,
   "metadata": {
    "collapsed": true
   },
   "outputs": [],
   "source": [
    "p2 = cc.ProcessWrap( processing_call, 50, \"Hi\" )"
   ]
  },
  {
   "cell_type": "code",
   "execution_count": null,
   "metadata": {
    "collapsed": false
   },
   "outputs": [
    {
     "name": "stdout",
     "output_type": "stream",
     "text": [
      "Launching process ... \n",
      "  1 10  0.91 \b\b\b\b\b\b\b\b\b\b\b\b\b\b\b\b\b\b\b\b\b\b\b\b\b\b\b\b\b\b\b\b\b\b\b\b\b\b\b\b\b\b\b\b\b\b\b\b\b\b\b\b\b\b\b<iteration done>\n",
      "  2 10  2.92 \b\b\b\b\b\b\b\b\b\b\b\b\b\b\b\b\b\b\b\b\b\b\b\b\b\b\b\b\b\b\b\b\b\b\b\b\b\b\b\b\b\b\b\b\b\b\b\b\b\b\b\b\b\b\b<iteration done>\n",
      "  3 10  4.93 \b\b\b\b\b\b\b\b\b\b\b\b\b\b\b\b\b\b\b\b\b\b\b\b\b\b\b\b\b\b\b\b\b\b\b\b\b\b\b\b\b\b\b\b\b\b\b\b\b\b\b\b\b\b\b<iteration done>\n",
      "  4  2  6.13 \b\b\b\b\b\b\b\b\b\b\b"
     ]
    }
   ],
   "source": [
    "p2.process()  \n",
    "# after launching execution of this cell, save the notebook & close the browser window \n",
    "# (confirm the warning about leaving the page)"
   ]
  },
  {
   "cell_type": "code",
   "execution_count": 12,
   "metadata": {
    "collapsed": false
   },
   "outputs": [
    {
     "name": "stdout",
     "output_type": "stream",
     "text": [
      "----- RUNNING -----\n",
      "  1 10  0.91 <iteration done>\n",
      "  2 10  2.92 <iteration done>\n",
      "  3 10  4.93 <iteration done>\n",
      "  4 10  6.94 <iteration done>\n",
      "  5 10  8.95 <iteration done>\n",
      "  6 10 10.96 <iteration done>\n",
      "  7 10 12.97 <iteration done>\n",
      "  8 10 14.97 <iteration done>\n",
      "  9 10 16.98 <iteration done>\n",
      " 10 10 18.99 <iteration done>\n",
      " 11 10 21.00 <iteration done>\n",
      " 12 10 23.01 <iteration done>\n",
      " 13 10 25.02 <iteration done>\n",
      " 14 10 27.03 \b\b\b\b\b\b\b\b\b\b\b\b\b\b\b\b\b\b\b\b\b\b\b\b\b\b\b\b\b\b\b\b\b\b\b\b\b\b\b\b\b\b\b\b\b\b\b\b\b\b\b\b\b\b\b\b\b\b\b\b\b\b\b\b\b\b\b\b\b\b\b\b\b\b\b\b\b\b\b\b\b\b\b\b\b\b\b\b\b\b\b\b\b\b\b\b\b\b\b<iteration done>\n",
      " 15 10 29.04 \b\b\b\b\b\b\b\b\b\b\b\b\b\b\b\b\b\b\b\b\b\b\b\b\b\b\b\b\b\b\b\b\b\b\b\b\b\b\b\b\b\b\b\b\b\b\b\b\b\b\b\b\b\b\b<iteration done>\n",
      " 16 10 31.05 \b\b\b\b\b\b\b\b\b\b\b\b\b\b\b\b\b\b\b\b\b\b\b\b\b\b\b\b\b\b\b\b\b\b\b\b\b\b\b\b\b\b\b\b\b\b\b\b\b\b\b\b\b\b\b<iteration done>\n",
      " 17 10 33.05 \b\b\b\b\b\b\b\b\b\b\b\b\b\b\b\b\b\b\b\b\b\b\b\b\b\b\b\b\b\b\b\b\b\b\b\b\b\b\b\b\b\b\b\b\b\b\b\b\b\b\b\b\b\b\b<iteration done>\n",
      " 18 10 35.06 \b\b\b\b\b\b\b\b\b\b\b\b\b\b\b\b\b\b\b\b\b\b\b\b\b\b\b\b\b\b\b\b\b\b\b\b\b\b\b\b\b\b\b\b\b\b\b\b\b\b\b\b\b\b\b<iteration done>\n",
      " 19 10 37.07 \b\b\b\b\b\b\b\b\b\b\b\b\b\b\b\b\b\b\b\b\b\b\b\b\b\b\b\b\b\b\b\b\b\b\b\b\b\b\b\b\b\b\b\b\b\b\b\b\b\b\b\b\b\b\b<iteration done>\n",
      " 20 10 39.08 \b\b\b\b\b\b\b\b\b\b\b\b\b\b\b\b\b\b\b\b\b\b\b\b\b\b\b\b\b\b\b\b\b\b\b\b\b\b\b\b\b\b\b\b\b\b\b\b\b\b\b\b\b\b\b<iteration done>\n",
      " 21 10 41.09 \b\b\b\b\b\b\b\b\b\b\b\b\b\b\b\b\b\b\b\b\b\b\b\b\b\b\b\b\b\b\b\b\b\b\b\b\b\b\b\b\b\b\b\b\b\b\b\b\b\b\b\b\b\b\b<iteration done>\n",
      " 22 10 43.10 \b\b\b\b\b\b\b\b\b\b\b\b\b\b\b\b\b\b\b\b\b\b\b\b\b\b\b\b\b\b\b\b\b\b\b\b\b\b\b\b\b\b\b\b\b\b\b\b\b\b\b\b\b\b\b<iteration done>\n",
      " 23 10 45.11 \b\b\b\b\b\b\b\b\b\b\b\b\b\b\b\b\b\b\b\b\b\b\b\b\b\b\b\b\b\b\b\b\b\b\b\b\b\b\b\b\b\b\b\b\b\b\b\b\b\b\b\b\b\b\b<iteration done>\n",
      " 24 10 47.12 \b\b\b\b\b\b\b\b\b\b\b\b\b\b\b\b\b\b\b\b\b\b\b\b\b\b\b\b\b\b\b\b\b\b\b\b\b\b\b\b\b\b\b\b\b\b\b\b\b\b\b\b\b\b\b<iteration done>\n",
      " 25 10 49.13 \b\b\b\b\b\b\b\b\b\b\b\b\b\b\b\b\b\b\b\b\b\b\b\b\b\b\b\b\b\b\b\b\b\b\b\b\b\b\b\b\b\b\b\b\b\b\b\b\b\b\b\b\b\b\b<iteration done>\n",
      " 26 10 51.14 \b\b\b\b\b\b\b\b\b\b\b\b\b\b\b\b\b\b\b\b\b\b\b\b\b\b\b\b\b\b\b\b\b\b\b\b\b\b\b\b\b\b\b\b\b\b\b\b\b\b\b\b\b\b\b<iteration done>\n",
      " 27 10 53.14 \b\b\b\b\b\b\b\b\b\b\b\b\b\b\b\b\b\b\b\b\b\b\b\b\b\b\b\b\b\b\b\b\b\b\b\b\b\b\b\b\b\b\b\b\b\b\b\b\b\b\b\b\b\b\b<iteration done>\n",
      " 28 10 55.15 \b\b\b\b\b\b\b\b\b\b\b\b\b\b\b\b\b\b\b\b\b\b\b\b\b\b\b\b\b\b\b\b\b\b\b\b\b\b\b\b\b\b\b\b\b\b\b\b\b\b\b\b\b\b\b<iteration done>\n",
      " 29 10 57.16 \b\b\b\b\b\b\b\b\b\b\b\b\b\b\b\b\b\b\b\b\b\b\b\b\b\b\b\b\b\b\b\b\b\b\b\b\b\b\b\b\b\b\b\b\b\b\b\b\b\b\b\b\b\b\b<iteration done>\n",
      " 30 10 59.17 \b\b\b\b\b\b\b\b\b\b\b\b\b\b\b\b\b\b\b\b\b\b\b\b\b\b\b\b\b\b\b\b\b\b\b\b\b\b\b\b\b\b\b\b\b\b\b\b\b\b\b\b\b\b\b<iteration done>\n",
      " 31 10 61.18 \b\b\b\b\b\b\b\b\b\b\b\b\b\b\b\b\b\b\b\b\b\b\b\b\b\b\b\b\b\b\b\b\b\b\b\b\b\b\b\b\b\b\b\b\b\b\b\b\b\b\b\b\b\b\b<iteration done>\n",
      " 32 10 63.19 \b\b\b\b\b\b\b\b\b\b\b\b\b\b\b\b\b\b\b\b\b\b\b\b\b\b\b\b\b\b\b\b\b\b\b\b\b\b\b\b\b\b\b\b\b\b\b\b\b\b\b\b\b\b\b<iteration done>\n",
      " 33 10 65.20 \b\b\b\b\b\b\b\b\b\b\b\b\b\b\b\b\b\b\b\b\b\b\b\b\b\b\b\b\b\b\b\b\b\b\b\b\b\b\b\b\b\b\b\b\b\b\b\b\b\b\b\b\b\b\b<iteration done>\n",
      " 34 10 67.21 \b\b\b\b\b\b\b\b\b\b\b\b\b\b\b\b\b\b\b\b\b\b\b\b\b\b\b\b\b\b\b\b\b\b\b\b\b\b\b\b\b\b\b\b\b\b\b\b\b\b\b\b\b\b\b<iteration done>\n",
      " 35 10 69.22 \b\b\b\b\b\b\b\b\b\b\b\b\b\b\b\b\b\b\b\b\b\b\b\b\b\b\b\b\b\b\b\b\b\b\b\b\b\b\b\b\b\b\b\b\b\b\b\b\b\b\b\b\b\b\b<iteration done>\n",
      " 36 10 71.23 \b\b\b\b\b\b\b\b\b\b\b\b\b\b\b\b\b\b\b\b\b\b\b\b\b\b\b\b\b\b\b\b\b\b\b\b\b\b\b\b\b\b\b\b\b\b\b\b\b\b\b\b\b\b\b<iteration done>\n",
      " 37 10 73.24 \b\b\b\b\b\b\b\b\b\b\b\b\b\b\b\b\b\b\b\b\b\b\b\b\b\b\b\b\b\b\b\b\b\b\b\b\b\b\b\b\b\b\b\b\b\b\b\b\b\b\b\b\b\b\b<iteration done>\n",
      " 38 10 75.25 \b\b\b\b\b\b\b\b\b\b\b\b\b\b\b\b\b\b\b\b\b\b\b\b\b\b\b\b\b\b\b\b\b\b\b\b\b\b\b\b\b\b\b\b\b\b\b\b\b\b\b\b\b\b\b<iteration done>\n",
      " 39 10 77.26 \b\b\b\b\b\b\b\b\b\b\b\b\b\b\b\b\b\b\b\b\b\b\b\b\b\b\b\b\b\b\b\b\b\b\b\b\b\b\b\b\b\b\b\b\b\b\b\b\b\b\b\b\b\b\b<iteration done>\n",
      " 40 10 79.27 \b\b\b\b\b\b\b\b\b\b\b\b\b\b\b\b\b\b\b\b\b\b\b\b\b\b\b\b\b\b\b\b\b\b\b\b\b\b\b\b\b\b\b\b\b\b\b\b\b\b\b\b\b\b\b<iteration done>\n",
      " 41 10 81.28 \b\b\b\b\b\b\b\b\b\b\b\b\b\b\b\b\b\b\b\b\b\b\b\b\b\b\b\b\b\b\b\b\b\b\b\b\b\b\b\b\b\b\b\b\b\b\b\b\b\b\b\b\b\b\b<iteration done>\n",
      " 42 10 83.28 \b\b\b\b\b\b\b\b\b\b\b\b\b\b\b\b\b\b\b\b\b\b\b\b\b\b\b\b\b\b\b\b\b\b\b\b\b\b\b\b\b\b\b\b\b\b\b\b\b\b\b\b\b\b\b<iteration done>\n",
      " 43 10 85.29 \b\b\b\b\b\b\b\b\b\b\b\b\b\b\b\b\b\b\b\b\b\b\b\b\b\b\b\b\b\b\b\b\b\b\b\b\b\b\b\b\b\b\b\b\b\b\b\b\b\b\b\b\b\b\b<iteration done>\n",
      " 44 10 87.30 \b\b\b\b\b\b\b\b\b\b\b\b\b\b\b\b\b\b\b\b\b\b\b\b\b\b\b\b\b\b\b\b\b\b\b\b\b\b\b\b\b\b\b\b\b\b\b\b\b\b\b\b\b\b\b<iteration done>\n",
      " 45 10 89.31 \b\b\b\b\b\b\b\b\b\b\b\b\b\b\b\b\b\b\b\b\b\b\b\b\b\b\b\b\b\b\b\b\b\b\b\b\b\b\b\b\b\b\b\b\b\b\b\b\b\b\b\b\b\b\b<iteration done>\n",
      " 46 10 91.32 \b\b\b\b\b\b\b\b\b\b\b\b\b\b\b\b\b\b\b\b\b\b\b\b\b\b\b\b\b\b\b\b\b\b\b\b\b\b\b\b\b\b\b\b\b\b\b\b\b\b\b\b\b\b\b<iteration done>\n",
      " 47 10 93.33 \b\b\b\b\b\b\b\b\b\b\b\b\b\b\b\b\b\b\b\b\b\b\b\b\b\b\b\b\b\b\b\b\b\b\b\b\b\b\b\b\b\b\b\b\b\b\b\b\b\b\b\b\b\b\b<iteration done>\n",
      " 48 10 95.34 \b\b\b\b\b\b\b\b\b\b\b\b\b\b\b\b\b\b\b\b\b\b\b\b\b\b\b\b\b\b\b\b\b\b\b\b\b\b\b\b\b\b\b\b\b\b\b\b\b\b\b\b\b\b\b<iteration done>\n",
      " 49 10 97.35 \b\b\b\b\b\b\b\b\b\b\b\b\b\b\b\b\b\b\b\b\b\b\b\b\b\b\b\b\b\b\b\b\b\b\b\b\b\b\b\b\b\b\b\b\b\b\b\b\b\b\b\b\b\b\b<iteration done>\n",
      " 50 10 99.36 \b\b\b\b\b\b\b\b\b\b\b\b\b\b\b\b\b\b\b\b\b\b\b\b\b\b\b\b\b\b\b\b\b\b\b\b\b\b\b\b\b\b\b\b\b\b\b\b\b\b\b\b\b\b\b<iteration done>\n",
      "Done! Msg=Hi Param={}\n"
     ]
    }
   ],
   "source": [
    "# Then come back again here, INTERRUPT the kernel and execute this cell. \n",
    "# It should print all output received so far, and continue from there\n",
    "p2.show() "
   ]
  },
  {
   "cell_type": "markdown",
   "metadata": {},
   "source": [
    "There is one caveat: as seen in the previous cell, the `process()` call was blocking the notebook (by doing the mentioned check-sleep cycle), so coming back to the notebook (opening its window again) will make it appear unresponsive. \n",
    "\n",
    "You will need to _interrupt_ the kernel to stop that `process()` cell so that it is possible to execute a `show()` cell. This is not problematic, since what it is being interrupted is the foreground process, not the background thread that it is doing the real processing. But nevertheless if it is known for sure that the window will be closed and reopened, it will be better to use the non-blocking call below.\n",
    "\n",
    "## Non-blocking usage\n",
    "\n",
    "This modality works the same way, but adding the `block=False` parameter to the `process()` method: "
   ]
  },
  {
   "cell_type": "code",
   "execution_count": 13,
   "metadata": {
    "collapsed": false
   },
   "outputs": [],
   "source": [
    "pn = cc.ProcessWrap( processing_call, 50, \"Look! NonBlocking!\" )"
   ]
  },
  {
   "cell_type": "code",
   "execution_count": 14,
   "metadata": {
    "collapsed": false
   },
   "outputs": [
    {
     "name": "stdout",
     "output_type": "stream",
     "text": [
      "Launching process ... \n",
      "  1 10  0.91 \b\b\b\b\b\b\b\b\b\b\b\b\b\b\b\b\b\b\b\b\b\b\b\b\b\b\b\b\b\b\b\b\b\b\b\b\b\b\b\b\b\b\b\b\b\b\b\b\b\b\b\b\b\b\b\b\b\b\b\b\b\b\b\b\b\b\b\b\b\b\b\b\b\b\b\b\b\b\b\b\b\b\b\b\b\b\b\b\b\b\b\b\b\b\b\b\b\b\b<iteration done>\n",
      "  2 10  2.92 \b\b\b\b\b\b\b\b\b\b\b\b\b\b\b\b\b\b\b\b\b\b\b\b\b\b\b\b\b\b\b\b\b\b\b\b\b\b\b\b\b\b\b\b\b\b\b\b\b\b\b\b\b\b\b<iteration done>\n",
      "  3 10  4.93 \b\b\b\b\b\b\b\b\b\b\b\b\b\b\b\b\b\b\b\b\b\b\b\b\b\b\b\b\b\b\b\b\b\b\b\b\b\b\b\b\b\b\b\b\b\b\b\b\b\b\b\b\b\b\b"
     ]
    }
   ],
   "source": [
    "pn.process( block=False )\n",
    "# Now the notebook appears free to use (not busy), though the background thread \n",
    "# is still pushing text to the cell output\n",
    "# We can save & close the notebook here. There may or may not be a \"confirm\" warning now."
   ]
  },
  {
   "cell_type": "code",
   "execution_count": 15,
   "metadata": {
    "collapsed": false
   },
   "outputs": [
    {
     "name": "stdout",
     "output_type": "stream",
     "text": [
      "----- RUNNING -----\n",
      "  1 10  0.91 <iteration done>\n",
      "  2 10  2.92 <iteration done>\n",
      "  3 10  4.93 <iteration done>\n",
      "  4 10  6.94 <iteration done>\n",
      "  5 10  8.94 <iteration done>\n",
      "  6 10 10.95 <iteration done>\n",
      "  7 10 12.97 <iteration done>\n",
      "  8 10 14.98 <iteration done>\n",
      "  9 10 16.99 <iteration done>\n",
      " 10 10 19.00 <iteration done>\n",
      " 11 10 21.00 <iteration done>\n",
      " 12 10 23.01 <iteration done>\n",
      " 13 10 25.02 <iteration done>\n",
      " 14 10 27.03 <iteration done>\n",
      " 15 10 29.05 \b\b\b\b\b\b\b\b\b\b\b\b\b\b\b\b\b\b\b\b\b\b\b\b\b\b\b\b\b\b\b\b\b\b\b\b\b\b\b\b\b\b\b\b\b\b\b\b\b\b\b\b\b\b\b\b\b\b\b\b\b\b\b\b\b\b\b\b\b\b\b\b\b\b\b\b\b<iteration done>\n",
      " 16 10 31.06 \b\b\b\b\b\b\b\b\b\b\b\b\b\b\b\b\b\b\b\b\b\b\b\b\b\b\b\b\b\b\b\b\b\b\b\b\b\b\b\b\b\b\b\b\b\b\b\b\b\b\b\b\b\b\b<iteration done>\n",
      " 17 10 33.07 \b\b\b\b\b\b\b\b\b\b\b\b\b\b\b\b\b\b\b\b\b\b\b\b\b\b\b\b\b\b\b\b\b\b\b\b\b\b\b\b\b\b\b\b\b\b\b\b\b\b\b\b\b\b\b<iteration done>\n",
      " 18 10 35.08 \b\b\b\b\b\b\b\b\b\b\b\b\b\b\b\b\b\b\b\b\b\b\b\b\b\b\b\b\b\b\b\b\b\b\b\b\b\b\b\b\b\b\b\b\b\b\b\b\b\b\b\b\b\b\b<iteration done>\n",
      " 19 10 37.09 \b\b\b\b\b\b\b\b\b\b\b\b\b\b\b\b\b\b\b\b\b\b\b\b\b\b\b\b\b\b\b\b\b\b\b\b\b\b\b\b\b\b\b\b\b\b\b\b\b\b\b\b\b\b\b<iteration done>\n",
      " 20 10 39.10 \b\b\b\b\b\b\b\b\b\b\b\b\b\b\b\b\b\b\b\b\b\b\b\b\b\b\b\b\b\b\b\b\b\b\b\b\b\b\b\b\b\b\b\b\b\b\b\b\b\b\b\b\b\b\b<iteration done>\n",
      " 21 10 41.11 \b\b\b\b\b\b\b\b\b\b\b\b\b\b\b\b\b\b\b\b\b\b\b\b\b\b\b\b\b\b\b\b\b\b\b\b\b\b\b\b\b\b\b\b\b\b\b\b\b\b\b\b\b\b\b<iteration done>\n",
      " 22 10 43.11 \b\b\b\b\b\b\b\b\b\b\b\b\b\b\b\b\b\b\b\b\b\b\b\b\b\b\b\b\b\b\b\b\b\b\b\b\b\b\b\b\b\b\b\b\b\b\b\b\b\b\b\b\b\b\b<iteration done>\n",
      " 23 10 45.12 \b\b\b\b\b\b\b\b\b\b\b\b\b\b\b\b\b\b\b\b\b\b\b\b\b\b\b\b\b\b\b\b\b\b\b\b\b\b\b\b\b\b\b\b\b\b\b\b\b\b\b\b\b\b\b<iteration done>\n",
      " 24 10 47.13 \b\b\b\b\b\b\b\b\b\b\b\b\b\b\b\b\b\b\b\b\b\b\b\b\b\b\b\b\b\b\b\b\b\b\b\b\b\b\b\b\b\b\b\b\b\b\b\b\b\b\b\b\b\b\b<iteration done>\n",
      " 25 10 49.14 \b\b\b\b\b\b\b\b\b\b\b\b\b\b\b\b\b\b\b\b\b\b\b\b\b\b\b\b\b\b\b\b\b\b\b\b\b\b\b\b\b\b\b\b\b\b\b\b\b\b\b\b\b\b\b<iteration done>\n",
      " 26 10 51.15 \b\b\b\b\b\b\b\b\b\b\b\b\b\b\b\b\b\b\b\b\b\b\b\b\b\b\b\b\b\b\b\b\b\b\b\b\b\b\b\b\b\b\b\b\b\b\b\b\b\b\b\b\b\b\b<iteration done>\n",
      " 27 10 53.16 \b\b\b\b\b\b\b\b\b\b\b\b\b\b\b\b\b\b\b\b\b\b\b\b\b\b\b\b\b\b\b\b\b\b\b\b\b\b\b\b\b\b\b\b\b\b\b\b\b\b\b\b\b\b\b<iteration done>\n",
      " 28 10 55.17 \b\b\b\b\b\b\b\b\b\b\b\b\b\b\b\b\b\b\b\b\b\b\b\b\b\b\b\b\b\b\b\b\b\b\b\b\b\b\b\b\b\b\b\b\b\b\b\b\b\b\b\b\b\b\b<iteration done>\n",
      " 29 10 57.18 \b\b\b\b\b\b\b\b\b\b\b\b\b\b\b\b\b\b\b\b\b\b\b\b\b\b\b\b\b\b\b\b\b\b\b\b\b\b\b\b\b\b\b\b\b\b\b\b\b\b\b\b\b\b\b<iteration done>\n",
      " 30 10 59.19 \b\b\b\b\b\b\b\b\b\b\b\b\b\b\b\b\b\b\b\b\b\b\b\b\b\b\b\b\b\b\b\b\b\b\b\b\b\b\b\b\b\b\b\b\b\b\b\b\b\b\b\b\b\b\b<iteration done>\n",
      " 31 10 61.20 \b\b\b\b\b\b\b\b\b\b\b\b\b\b\b\b\b\b\b\b\b\b\b\b\b\b\b\b\b\b\b\b\b\b\b\b\b\b\b\b\b\b\b\b\b\b\b\b\b\b\b\b\b\b\b<iteration done>\n",
      " 32 10 63.21 \b\b\b\b\b\b\b\b\b\b\b\b\b\b\b\b\b\b\b\b\b\b\b\b\b\b\b\b\b\b\b\b\b\b\b\b\b\b\b\b\b\b\b\b\b\b\b\b\b\b\b\b\b\b\b<iteration done>\n",
      " 33 10 65.22 \b\b\b\b\b\b\b\b\b\b\b\b\b\b\b\b\b\b\b\b\b\b\b\b\b\b\b\b\b\b\b\b\b\b\b\b\b\b\b\b\b\b\b\b\b\b\b\b\b\b\b\b\b\b\b<iteration done>\n",
      " 34 10 67.23 \b\b\b\b\b\b\b\b\b\b\b\b\b\b\b\b\b\b\b\b\b\b\b\b\b\b\b\b\b\b\b\b\b\b\b\b\b\b\b\b\b\b\b\b\b\b\b\b\b\b\b\b\b\b\b<iteration done>\n",
      " 35 10 69.23 \b\b\b\b\b\b\b\b\b\b\b\b\b\b\b\b\b\b\b\b\b\b\b\b\b\b\b\b\b\b\b\b\b\b\b\b\b\b\b\b\b\b\b\b\b\b\b\b\b\b\b\b\b\b\b<iteration done>\n",
      " 36 10 71.24 \b\b\b\b\b\b\b\b\b\b\b\b\b\b\b\b\b\b\b\b\b\b\b\b\b\b\b\b\b\b\b\b\b\b\b\b\b\b\b\b\b\b\b\b\b\b\b\b\b\b\b\b\b\b\b<iteration done>\n",
      " 37 10 73.25 \b\b\b\b\b\b\b\b\b\b\b\b\b\b\b\b\b\b\b\b\b\b\b\b\b\b\b\b\b\b\b\b\b\b\b\b\b\b\b\b\b\b\b\b\b\b\b\b\b\b\b\b\b\b\b<iteration done>\n",
      " 38 10 75.26 \b\b\b\b\b\b\b\b\b\b\b\b\b\b\b\b\b\b\b\b\b\b\b\b\b\b\b\b\b\b\b\b\b\b\b\b\b\b\b\b\b\b\b\b\b\b\b\b\b\b\b\b\b\b\b<iteration done>\n",
      " 39 10 77.27 \b\b\b\b\b\b\b\b\b\b\b\b\b\b\b\b\b\b\b\b\b\b\b\b\b\b\b\b\b\b\b\b\b\b\b\b\b\b\b\b\b\b\b\b\b\b\b\b\b\b\b\b\b\b\b<iteration done>\n",
      " 40 10 79.28 \b\b\b\b\b\b\b\b\b\b\b\b\b\b\b\b\b\b\b\b\b\b\b\b\b\b\b\b\b\b\b\b\b\b\b\b\b\b\b\b\b\b\b\b\b\b\b\b\b\b\b\b\b\b\b<iteration done>\n",
      " 41 10 81.29 \b\b\b\b\b\b\b\b\b\b\b\b\b\b\b\b\b\b\b\b\b\b\b\b\b\b\b\b\b\b\b\b\b\b\b\b\b\b\b\b\b\b\b\b\b\b\b\b\b\b\b\b\b\b\b<iteration done>\n",
      " 42 10 83.30 \b\b\b\b\b\b\b\b\b\b\b\b\b\b\b\b\b\b\b\b\b\b\b\b\b\b\b\b\b\b\b\b\b\b\b\b\b\b\b\b\b\b\b\b\b\b\b\b\b\b\b\b\b\b\b<iteration done>\n",
      " 43 10 85.31 \b\b\b\b\b\b\b\b\b\b\b\b\b\b\b\b\b\b\b\b\b\b\b\b\b\b\b\b\b\b\b\b\b\b\b\b\b\b\b\b\b\b\b\b\b\b\b\b\b\b\b\b\b\b\b<iteration done>\n",
      " 44 10 87.32 \b\b\b\b\b\b\b\b\b\b\b\b\b\b\b\b\b\b\b\b\b\b\b\b\b\b\b\b\b\b\b\b\b\b\b\b\b\b\b\b\b\b\b\b\b\b\b\b\b\b\b\b\b\b\b<iteration done>\n",
      " 45 10 89.33 \b\b\b\b\b\b\b\b\b\b\b\b\b\b\b\b\b\b\b\b\b\b\b\b\b\b\b\b\b\b\b\b\b\b\b\b\b\b\b\b\b\b\b\b\b\b\b\b\b\b\b\b\b\b\b<iteration done>\n",
      " 46 10 91.33 \b\b\b\b\b\b\b\b\b\b\b\b\b\b\b\b\b\b\b\b\b\b\b\b\b\b\b\b\b\b\b\b\b\b\b\b\b\b\b\b\b\b\b\b\b\b\b\b\b\b\b\b\b\b\b<iteration done>\n",
      " 47 10 93.34 \b\b\b\b\b\b\b\b\b\b\b\b\b\b\b\b\b\b\b\b\b\b\b\b\b\b\b\b\b\b\b\b\b\b\b\b\b\b\b\b\b\b\b\b\b\b\b\b\b\b\b\b\b\b\b<iteration done>\n",
      " 48 10 95.35 \b\b\b\b\b\b\b\b\b\b\b\b\b\b\b\b\b\b\b\b\b\b\b\b\b\b\b\b\b\b\b\b\b\b\b\b\b\b\b\b\b\b\b\b\b\b\b\b\b\b\b\b\b\b\b<iteration done>\n",
      " 49 10 97.36 \b\b\b\b\b\b\b\b\b\b\b\b\b\b\b\b\b\b\b\b\b\b\b\b\b\b\b\b\b\b\b\b\b\b\b\b\b\b\b\b\b\b\b\b\b\b\b\b\b\b\b\b\b\b\b<iteration done>\n",
      " 50 10 99.37 \b\b\b\b\b\b\b\b\b\b\b\b\b\b\b\b\b\b\b\b\b\b\b\b\b\b\b\b\b\b\b\b\b\b\b\b\b\b\b\b\b\b\b\b\b\b\b\b\b\b\b\b\b\b\b<iteration done>\n",
      "Done! Msg=Look! NonBlocking! Param={}\n"
     ]
    }
   ],
   "source": [
    "# After coming back, in this modality it is no longer necessary to interrupt the kernel. \n",
    "# Just execute this cell to reconnect with the processing cell output\n",
    "pn.show()"
   ]
  },
  {
   "cell_type": "code",
   "execution_count": 20,
   "metadata": {
    "collapsed": false
   },
   "outputs": [
    {
     "name": "stdout",
     "output_type": "stream",
     "text": [
      "\r",
      "----- DONE -----\n",
      "\b\b\b\b\b\b\b\b\b\b\b\r",
      "  1  1  0.00 \b\b\b\b\b\b\b\b\b\b\b\r",
      "  1  2  0.10 \b\b\b\b\b\b\b\b\b\b\b\r",
      "  1  3  0.21 \b\b\b\b\b\b\b\b\b\b\b\r",
      "  1  4  0.31 \b\b\b\b\b\b\b\b\b\b\b\r",
      "  1  5  0.41 \b\b\b\b\b\b\b\b\b\b\b\r",
      "  1  6  0.52 \b\b\b\b\b\b\b\b\b\b\b\r",
      "  1  7  0.62 \b\b\b\b\b\b\b\b\b\b\b\r",
      "  1  8  0.72 \b\b\b\b\b\b\b\b\b\b\b\r",
      "  1  9  0.83 \b\b\b\b\b\b\b\b\b\b\b\r",
      "  1 10  0.93 <iteration done>\n",
      "\b\b\b\b\b\b\b\b\b\b\b\r",
      "  2  1  2.04 \b\b\b\b\b\b\b\b\b\b\b\r",
      "  2  2  2.14 \b\b\b\b\b\b\b\b\b\b\b\r",
      "  2  3  2.24 \b\b\b\b\b\b\b\b\b\b\b\r",
      "  2  4  2.35 \b\b\b\b\b\b\b\b\b\b\b\r",
      "  2  5  2.45 \b\b\b\b\b\b\b\b\b\b\b\r",
      "  2  6  2.55 \b\b\b\b\b\b\b\b\b\b\b\r",
      "  2  7  2.65 \b\b\b\b\b\b\b\b\b\b\b\r",
      "  2  8  2.76 \b\b\b\b\b\b\b\b\b\b\b\r",
      "  2  9  2.86 \b\b\b\b\b\b\b\b\b\b\b\r",
      "  2 10  2.96 <iteration done>\n",
      "\b\b\b\b\b\b\b\b\b\b\b\r",
      "  3  1  4.07 \b\b\b\b\b\b\b\b\b\b\b\r",
      "  3  2  4.17 \b\b\b\b\b\b\b\b\b\b\b\r",
      "  3  3  4.28 \b\b\b\b\b\b\b\b\b\b\b\r",
      "  3  4  4.38 \b\b\b\b\b\b\b\b\b\b\b\r",
      "  3  5  4.48 \b\b\b\b\b\b\b\b\b\b\b\r",
      "  3  6  4.58 \b\b\b\b\b\b\b\b\b\b\b\r",
      "  3  7  4.69 \b\b\b\b\b\b\b\b\b\b\b\r",
      "  3  8  4.79 \b\b\b\b\b\b\b\b\b\b\b\r",
      "  3  9  4.89 \b\b\b\b\b\b\b\b\b\b\b\r",
      "  3 10  4.99 <iteration done>\n",
      "\b\b\b\b\b\b\b\b\b\b\b\r",
      "  4  1  6.10 \b\b\b\b\b\b\b\b\b\b\b\r",
      "  4  2  6.20 \b\b\b\b\b\b\b\b\b\b\b\r",
      "  4  3  6.31 \b\b\b\b\b\b\b\b\b\b\b\r",
      "  4  4  6.41 \b\b\b\b\b\b\b\b\b\b\b\r",
      "  4  5  6.51 \b\b\b\b\b\b\b\b\b\b\b\r",
      "  4  6  6.61 \b\b\b\b\b\b\b\b\b\b\b\r",
      "  4  7  6.72 \b\b\b\b\b\b\b\b\b\b\b\r",
      "  4  8  6.82 \b\b\b\b\b\b\b\b\b\b\b\r",
      "  4  9  6.92 \b\b\b\b\b\b\b\b\b\b\b\r",
      "  4 10  7.02 <iteration done>\n",
      "\b\b\b\b\b\b\b\b\b\b\b\r",
      "  5  1  8.13 \b\b\b\b\b\b\b\b\b\b\b\r",
      "  5  2  8.23 \b\b\b\b\b\b\b\b\b\b\b\r",
      "  5  3  8.33 \b\b\b\b\b\b\b\b\b\b\b\r",
      "  5  4  8.43 \b\b\b\b\b\b\b\b\b\b\b\r",
      "  5  5  8.54 \b\b\b\b\b\b\b\b\b\b\b\r",
      "  5  6  8.64 \b\b\b\b\b\b\b\b\b\b\b\r",
      "  5  7  8.74 \b\b\b\b\b\b\b\b\b\b\b\r",
      "  5  8  8.84 \b\b\b\b\b\b\b\b\b\b\b\r",
      "  5  9  8.94 \b\b\b\b\b\b\b\b\b\b\b\r",
      "  5 10  9.05 <iteration done>\n",
      "\b\b\b\b\b\b\b\b\b\b\b\r",
      "  6  1 10.15 \b\b\b\b\b\b\b\b\b\b\b\r",
      "  6  2 10.25 \b\b\b\b\b\b\b\b\b\b\b\r",
      "  6  3 10.36 \b\b\b\b\b\b\b\b\b\b\b\r",
      "  6  4 10.46 \b\b\b\b\b\b\b\b\b\b\b\r",
      "  6  5 10.56 \b\b\b\b\b\b\b\b\b\b\b\r",
      "  6  6 10.66 \b\b\b\b\b\b\b\b\b\b\b\r",
      "  6  7 10.77 \b\b\b\b\b\b\b\b\b\b\b\r",
      "  6  8 10.87 \b\b\b\b\b\b\b\b\b\b\b\r",
      "  6  9 10.97 \b\b\b\b\b\b\b\b\b\b\b\r",
      "  6 10 11.07 <iteration done>\n",
      "\b\b\b\b\b\b\b\b\b\b\b\r",
      "  7  1 12.18 \b\b\b\b\b\b\b\b\b\b\b\r",
      "  7  2 12.28 \b\b\b\b\b\b\b\b\b\b\b\r",
      "  7  3 12.39 \b\b\b\b\b\b\b\b\b\b\b\r",
      "  7  4 12.49 \b\b\b\b\b\b\b\b\b\b\b\r",
      "  7  5 12.59 \b\b\b\b\b\b\b\b\b\b\b\r",
      "  7  6 12.69 \b\b\b\b\b\b\b\b\b\b\b\r",
      "  7  7 12.79 \b\b\b\b\b\b\b\b\b\b\b\r",
      "  7  8 12.89 \b\b\b\b\b\b\b\b\b\b\b\r",
      "  7  9 13.00 \b\b\b\b\b\b\b\b\b\b\b\r",
      "  7 10 13.10 <iteration done>\n",
      "\b\b\b\b\b\b\b\b\b\b\b\r",
      "  8  1 14.20 \b\b\b\b\b\b\b\b\b\b\b\r",
      "  8  2 14.30 \b\b\b\b\b\b\b\b\b\b\b\r",
      "  8  3 14.41 \b\b\b\b\b\b\b\b\b\b\b\r",
      "  8  4 14.51 \b\b\b\b\b\b\b\b\b\b\b\r",
      "  8  5 14.61 \b\b\b\b\b\b\b\b\b\b\b\r",
      "  8  6 14.71 \b\b\b\b\b\b\b\b\b\b\b\r",
      "  8  7 14.81 \b\b\b\b\b\b\b\b\b\b\b\r",
      "  8  8 14.91 \b\b\b\b\b\b\b\b\b\b\b\r",
      "  8  9 15.02 \b\b\b\b\b\b\b\b\b\b\b\r",
      "  8 10 15.13 <iteration done>\n",
      "\b\b\b\b\b\b\b\b\b\b\b\r",
      "  9  1 16.27 \b\b\b\b\b\b\b\b\b\b\b\r",
      "  9  2 16.38 \b\b\b\b\b\b\b\b\b\b\b\r",
      "  9  3 16.48 \b\b\b\b\b\b\b\b\b\b\b\r",
      "  9  4 16.58 \b\b\b\b\b\b\b\b\b\b\b\r",
      "  9  5 16.68 \b\b\b\b\b\b\b\b\b\b\b\r",
      "  9  6 16.78 \b\b\b\b\b\b\b\b\b\b\b\r",
      "  9  7 16.88 \b\b\b\b\b\b\b\b\b\b\b\r",
      "  9  8 16.98 \b\b\b\b\b\b\b\b\b\b\b\r",
      "  9  9 17.08 \b\b\b\b\b\b\b\b\b\b\b\r",
      "  9 10 17.19 <iteration done>\n",
      "\b\b\b\b\b\b\b\b\b\b\b\r",
      " 10  1 18.29 \b\b\b\b\b\b\b\b\b\b\b\r",
      " 10  2 18.39 \b\b\b\b\b\b\b\b\b\b\b\r",
      " 10  3 18.49 \b\b\b\b\b\b\b\b\b\b\b\r",
      " 10  4 18.59 \b\b\b\b\b\b\b\b\b\b\b\r",
      " 10  5 18.69 \b\b\b\b\b\b\b\b\b\b\b\r",
      " 10  6 18.79 \b\b\b\b\b\b\b\b\b\b\b\r",
      " 10  7 18.90 \b\b\b\b\b\b\b\b\b\b\b\r",
      " 10  8 19.00 \b\b\b\b\b\b\b\b\b\b\b\r",
      " 10  9 19.10 \b\b\b\b\b\b\b\b\b\b\b\r",
      " 10 10 19.20 <iteration done>\n",
      "\b\b\b\b\b\b\b\b\b\b\b\r",
      " 11  1 20.30 \b\b\b\b\b\b\b\b\b\b\b\r",
      " 11  2 20.41 \b\b\b\b\b\b\b\b\b\b\b\r",
      " 11  3 20.51 \b\b\b\b\b\b\b\b\b\b\b\r",
      " 11  4 20.61 \b\b\b\b\b\b\b\b\b\b\b\r",
      " 11  5 20.71 \b\b\b\b\b\b\b\b\b\b\b\r",
      " 11  6 20.82 \b\b\b\b\b\b\b\b\b\b\b\r",
      " 11  7 20.92 \b\b\b\b\b\b\b\b\b\b\b\r",
      " 11  8 21.02 \b\b\b\b\b\b\b\b\b\b\b\r",
      " 11  9 21.12 \b\b\b\b\b\b\b\b\b\b\b\r",
      " 11 10 21.23 <iteration done>\n",
      "\b\b\b\b\b\b\b\b\b\b\b\r",
      " 12  1 22.33 \b\b\b\b\b\b\b\b\b\b\b\r",
      " 12  2 22.44 \b\b\b\b\b\b\b\b\b\b\b\r",
      " 12  3 22.54 \b\b\b\b\b\b\b\b\b\b\b\r",
      " 12  4 22.64 \b\b\b\b\b\b\b\b\b\b\b\r",
      " 12  5 22.74 \b\b\b\b\b\b\b\b\b\b\b\r",
      " 12  6 22.85 \b\b\b\b\b\b\b\b\b\b\b\r",
      " 12  7 22.95 \b\b\b\b\b\b\b\b\b\b\b\r",
      " 12  8 23.05 \b\b\b\b\b\b\b\b\b\b\b\r",
      " 12  9 23.15 \b\b\b\b\b\b\b\b\b\b\b\r",
      " 12 10 23.26 <iteration done>\n",
      "\b\b\b\b\b\b\b\b\b\b\b\r",
      " 13  1 24.36 \b\b\b\b\b\b\b\b\b\b\b\r",
      " 13  2 24.47 \b\b\b\b\b\b\b\b\b\b\b\r",
      " 13  3 24.57 \b\b\b\b\b\b\b\b\b\b\b\r",
      " 13  4 24.67 \b\b\b\b\b\b\b\b\b\b\b\r",
      " 13  5 24.77 \b\b\b\b\b\b\b\b\b\b\b\r",
      " 13  6 24.88 \b\b\b\b\b\b\b\b\b\b\b\r",
      " 13  7 24.98 \b\b\b\b\b\b\b\b\b\b\b\r",
      " 13  8 25.08 \b\b\b\b\b\b\b\b\b\b\b\r",
      " 13  9 25.18 \b\b\b\b\b\b\b\b\b\b\b\r",
      " 13 10 25.29 <iteration done>\n",
      "\b\b\b\b\b\b\b\b\b\b\b\r",
      " 14  1 26.39 \b\b\b\b\b\b\b\b\b\b\b\r",
      " 14  2 26.50 \b\b\b\b\b\b\b\b\b\b\b\r",
      " 14  3 26.60 \b\b\b\b\b\b\b\b\b\b\b\r",
      " 14  4 26.70 \b\b\b\b\b\b\b\b\b\b\b\r",
      " 14  5 26.80 \b\b\b\b\b\b\b\b\b\b\b\r",
      " 14  6 26.91 \b\b\b\b\b\b\b\b\b\b\b\r",
      " 14  7 27.01 \b\b\b\b\b\b\b\b\b\b\b\r",
      " 14  8 27.11 \b\b\b\b\b\b\b\b\b\b\b\r",
      " 14  9 27.21 \b\b\b\b\b\b\b\b\b\b\b\r",
      " 14 10 27.31 <iteration done>\n",
      "\b\b\b\b\b\b\b\b\b\b\b\r",
      " 15  1 28.42 \b\b\b\b\b\b\b\b\b\b\b\r",
      " 15  2 28.52 \b\b\b\b\b\b\b\b\b\b\b\r",
      " 15  3 28.63 \b\b\b\b\b\b\b\b\b\b\b\r",
      " 15  4 28.73 \b\b\b\b\b\b\b\b\b\b\b\r",
      " 15  5 28.83 \b\b\b\b\b\b\b\b\b\b\b\r",
      " 15  6 28.93 \b\b\b\b\b\b\b\b\b\b\b\r",
      " 15  7 29.04 \b\b\b\b\b\b\b\b\b\b\b\r",
      " 15  8 29.14 \b\b\b\b\b\b\b\b\b\b\b\r",
      " 15  9 29.24 \b\b\b\b\b\b\b\b\b\b\b\r",
      " 15 10 29.34 <iteration done>\n",
      "\b\b\b\b\b\b\b\b\b\b\b\r",
      " 16  1 30.45 \b\b\b\b\b\b\b\b\b\b\b\r",
      " 16  2 30.55 \b\b\b\b\b\b\b\b\b\b\b\r",
      " 16  3 30.65 \b\b\b\b\b\b\b\b\b\b\b\r",
      " 16  4 30.76 \b\b\b\b\b\b\b\b\b\b\b\r",
      " 16  5 30.86 \b\b\b\b\b\b\b\b\b\b\b\r",
      " 16  6 30.96 \b\b\b\b\b\b\b\b\b\b\b\r",
      " 16  7 31.06 \b\b\b\b\b\b\b\b\b\b\b\r",
      " 16  8 31.16 \b\b\b\b\b\b\b\b\b\b\b\r",
      " 16  9 31.26 \b\b\b\b\b\b\b\b\b\b\b\r",
      " 16 10 31.37 <iteration done>\n",
      "\b\b\b\b\b\b\b\b\b\b\b\r",
      " 17  1 32.47 \b\b\b\b\b\b\b\b\b\b\b\r",
      " 17  2 32.57 \b\b\b\b\b\b\b\b\b\b\b\r",
      " 17  3 32.67 \b\b\b\b\b\b\b\b\b\b\b\r",
      " 17  4 32.77 \b\b\b\b\b\b\b\b\b\b\b\r",
      " 17  5 32.88 \b\b\b\b\b\b\b\b\b\b\b\r",
      " 17  6 32.98 \b\b\b\b\b\b\b\b\b\b\b\r",
      " 17  7 33.08 \b\b\b\b\b\b\b\b\b\b\b\r",
      " 17  8 33.18 \b\b\b\b\b\b\b\b\b\b\b\r",
      " 17  9 33.29 \b\b\b\b\b\b\b\b\b\b\b\r",
      " 17 10 33.39 <iteration done>\n",
      "\b\b\b\b\b\b\b\b\b\b\b\r",
      " 18  1 34.49 \b\b\b\b\b\b\b\b\b\b\b\r",
      " 18  2 34.60 \b\b\b\b\b\b\b\b\b\b\b\r",
      " 18  3 34.70 \b\b\b\b\b\b\b\b\b\b\b\r",
      " 18  4 34.80 \b\b\b\b\b\b\b\b\b\b\b\r",
      " 18  5 34.90 \b\b\b\b\b\b\b\b\b\b\b\r",
      " 18  6 35.01 \b\b\b\b\b\b\b\b\b\b\b\r",
      " 18  7 35.11 \b\b\b\b\b\b\b\b\b\b\b\r",
      " 18  8 35.21 \b\b\b\b\b\b\b\b\b\b\b\r",
      " 18  9 35.32 \b\b\b\b\b\b\b\b\b\b\b\r",
      " 18 10 35.42 <iteration done>\n",
      "\b\b\b\b\b\b\b\b\b\b\b\r",
      " 19  1 36.52 \b\b\b\b\b\b\b\b\b\b\b\r",
      " 19  2 36.63 \b\b\b\b\b\b\b\b\b\b\b\r",
      " 19  3 36.73 \b\b\b\b\b\b\b\b\b\b\b\r",
      " 19  4 36.83 \b\b\b\b\b\b\b\b\b\b\b\r",
      " 19  5 36.94 \b\b\b\b\b\b\b\b\b\b\b\r",
      " 19  6 37.04 \b\b\b\b\b\b\b\b\b\b\b\r",
      " 19  7 37.14 \b\b\b\b\b\b\b\b\b\b\b\r",
      " 19  8 37.24 \b\b\b\b\b\b\b\b\b\b\b\r",
      " 19  9 37.35 \b\b\b\b\b\b\b\b\b\b\b\r",
      " 19 10 37.45 <iteration done>\n",
      "\b\b\b\b\b\b\b\b\b\b\b\r",
      " 20  1 38.55 \b\b\b\b\b\b\b\b\b\b\b\r",
      " 20  2 38.66 \b\b\b\b\b\b\b\b\b\b\b\r",
      " 20  3 38.76 \b\b\b\b\b\b\b\b\b\b\b\r",
      " 20  4 38.86 \b\b\b\b\b\b\b\b\b\b\b\r",
      " 20  5 38.96 \b\b\b\b\b\b\b\b\b\b\b\r",
      " 20  6 39.06 \b\b\b\b\b\b\b\b\b\b\b\r",
      " 20  7 39.17 \b\b\b\b\b\b\b\b\b\b\b\r",
      " 20  8 39.27 \b\b\b\b\b\b\b\b\b\b\b\r",
      " 20  9 39.37 \b\b\b\b\b\b\b\b\b\b\b\r",
      " 20 10 39.48 <iteration done>\n",
      "\b\b\b\b\b\b\b\b\b\b\b\r",
      " 21  1 40.58 \b\b\b\b\b\b\b\b\b\b\b\r",
      " 21  2 40.68 \b\b\b\b\b\b\b\b\b\b\b\r",
      " 21  3 40.79 \b\b\b\b\b\b\b\b\b\b\b\r",
      " 21  4 40.89 \b\b\b\b\b\b\b\b\b\b\b\r",
      " 21  5 40.99 \b\b\b\b\b\b\b\b\b\b\b\r",
      " 21  6 41.09 \b\b\b\b\b\b\b\b\b\b\b\r",
      " 21  7 41.19 \b\b\b\b\b\b\b\b\b\b\b\r",
      " 21  8 41.29 \b\b\b\b\b\b\b\b\b\b\b\r",
      " 21  9 41.40 \b\b\b\b\b\b\b\b\b\b\b\r",
      " 21 10 41.50 <iteration done>\n",
      "\b\b\b\b\b\b\b\b\b\b\b\r",
      " 22  1 42.60 \b\b\b\b\b\b\b\b\b\b\b\r",
      " 22  2 42.71 \b\b\b\b\b\b\b\b\b\b\b\r",
      " 22  3 42.81 \b\b\b\b\b\b\b\b\b\b\b\r",
      " 22  4 42.91 \b\b\b\b\b\b\b\b\b\b\b\r",
      " 22  5 43.01 \b\b\b\b\b\b\b\b\b\b\b\r",
      " 22  6 43.12 \b\b\b\b\b\b\b\b\b\b\b\r",
      " 22  7 43.22 \b\b\b\b\b\b\b\b\b\b\b\r",
      " 22  8 43.32 \b\b\b\b\b\b\b\b\b\b\b\r",
      " 22  9 43.42 \b\b\b\b\b\b\b\b\b\b\b\r",
      " 22 10 43.52 <iteration done>\n",
      "\b\b\b\b\b\b\b\b\b\b\b\r",
      " 23  1 44.63 \b\b\b\b\b\b\b\b\b\b\b\r",
      " 23  2 44.73 \b\b\b\b\b\b\b\b\b\b\b\r",
      " 23  3 44.83 \b\b\b\b\b\b\b\b\b\b\b\r",
      " 23  4 44.94 \b\b\b\b\b\b\b\b\b\b\b\r",
      " 23  5 45.04 \b\b\b\b\b\b\b\b\b\b\b\r",
      " 23  6 45.14 \b\b\b\b\b\b\b\b\b\b\b\r",
      " 23  7 45.25 \b\b\b\b\b\b\b\b\b\b\b\r",
      " 23  8 45.35 \b\b\b\b\b\b\b\b\b\b\b\r",
      " 23  9 45.45 \b\b\b\b\b\b\b\b\b\b\b\r",
      " 23 10 45.55 <iteration done>\n",
      "\b\b\b\b\b\b\b\b\b\b\b\r",
      " 24  1 46.66 \b\b\b\b\b\b\b\b\b\b\b\r",
      " 24  2 46.76 \b\b\b\b\b\b\b\b\b\b\b\r",
      " 24  3 46.87 \b\b\b\b\b\b\b\b\b\b\b\r",
      " 24  4 46.97 \b\b\b\b\b\b\b\b\b\b\b\r",
      " 24  5 47.07 \b\b\b\b\b\b\b\b\b\b\b\r",
      " 24  6 47.17 \b\b\b\b\b\b\b\b\b\b\b\r",
      " 24  7 47.27 \b\b\b\b\b\b\b\b\b\b\b\r",
      " 24  8 47.38 \b\b\b\b\b\b\b\b\b\b\b\r",
      " 24  9 47.48 \b\b\b\b\b\b\b\b\b\b\b\r",
      " 24 10 47.58 <iteration done>\n",
      "\b\b\b\b\b\b\b\b\b\b\b\r",
      " 25  1 48.69 \b\b\b\b\b\b\b\b\b\b\b\r",
      " 25  2 48.79 \b\b\b\b\b\b\b\b\b\b\b\r",
      " 25  3 48.89 \b\b\b\b\b\b\b\b\b\b\b\r",
      " 25  4 49.00 \b\b\b\b\b\b\b\b\b\b\b\r",
      " 25  5 49.10 \b\b\b\b\b\b\b\b\b\b\b\r",
      " 25  6 49.20 \b\b\b\b\b\b\b\b\b\b\b\r",
      " 25  7 49.30 \b\b\b\b\b\b\b\b\b\b\b\r",
      " 25  8 49.41 \b\b\b\b\b\b\b\b\b\b\b\r",
      " 25  9 49.51 \b\b\b\b\b\b\b\b\b\b\b\r",
      " 25 10 49.61 <iteration done>\n",
      "\b\b\b\b\b\b\b\b\b\b\b\r",
      " 26  1 50.72 \b\b\b\b\b\b\b\b\b\b\b\r",
      " 26  2 50.82 \b\b\b\b\b\b\b\b\b\b\b\r",
      " 26  3 50.92 \b\b\b\b\b\b\b\b\b\b\b\r",
      " 26  4 51.03 \b\b\b\b\b\b\b\b\b\b\b\r",
      " 26  5 51.13 \b\b\b\b\b\b\b\b\b\b\b\r",
      " 26  6 51.23 \b\b\b\b\b\b\b\b\b\b\b\r",
      " 26  7 51.33 \b\b\b\b\b\b\b\b\b\b\b\r",
      " 26  8 51.43 \b\b\b\b\b\b\b\b\b\b\b\r",
      " 26  9 51.54 \b\b\b\b\b\b\b\b\b\b\b\r",
      " 26 10 51.64 <iteration done>\n",
      "\b\b\b\b\b\b\b\b\b\b\b\r",
      " 27  1 52.75 \b\b\b\b\b\b\b\b\b\b\b\r",
      " 27  2 52.85 \b\b\b\b\b\b\b\b\b\b\b\r",
      " 27  3 52.95 \b\b\b\b\b\b\b\b\b\b\b\r",
      " 27  4 53.05 \b\b\b\b\b\b\b\b\b\b\b\r",
      " 27  5 53.16 \b\b\b\b\b\b\b\b\b\b\b\r",
      " 27  6 53.26 \b\b\b\b\b\b\b\b\b\b\b\r",
      " 27  7 53.36 \b\b\b\b\b\b\b\b\b\b\b\r",
      " 27  8 53.46 \b\b\b\b\b\b\b\b\b\b\b\r",
      " 27  9 53.57 \b\b\b\b\b\b\b\b\b\b\b\r",
      " 27 10 53.67 <iteration done>\n",
      "\b\b\b\b\b\b\b\b\b\b\b\r",
      " 28  1 54.77 \b\b\b\b\b\b\b\b\b\b\b\r",
      " 28  2 54.88 \b\b\b\b\b\b\b\b\b\b\b\r",
      " 28  3 54.98 \b\b\b\b\b\b\b\b\b\b\b\r",
      " 28  4 55.08 \b\b\b\b\b\b\b\b\b\b\b\r",
      " 28  5 55.18 \b\b\b\b\b\b\b\b\b\b\b\r",
      " 28  6 55.29 \b\b\b\b\b\b\b\b\b\b\b\r",
      " 28  7 55.39 \b\b\b\b\b\b\b\b\b\b\b\r",
      " 28  8 55.49 \b\b\b\b\b\b\b\b\b\b\b\r",
      " 28  9 55.59 \b\b\b\b\b\b\b\b\b\b\b\r",
      " 28 10 55.70 <iteration done>\n",
      "\b\b\b\b\b\b\b\b\b\b\b\r",
      " 29  1 56.80 \b\b\b\b\b\b\b\b\b\b\b\r",
      " 29  2 56.91 \b\b\b\b\b\b\b\b\b\b\b\r",
      " 29  3 57.01 \b\b\b\b\b\b\b\b\b\b\b\r",
      " 29  4 57.11 \b\b\b\b\b\b\b\b\b\b\b\r",
      " 29  5 57.22 \b\b\b\b\b\b\b\b\b\b\b\r",
      " 29  6 57.32 \b\b\b\b\b\b\b\b\b\b\b\r",
      " 29  7 57.42 \b\b\b\b\b\b\b\b\b\b\b\r",
      " 29  8 57.52 \b\b\b\b\b\b\b\b\b\b\b\r",
      " 29  9 57.63 \b\b\b\b\b\b\b\b\b\b\b\r",
      " 29 10 57.73 <iteration done>\n",
      "\b\b\b\b\b\b\b\b\b\b\b\r",
      " 30  1 58.83 \b\b\b\b\b\b\b\b\b\b\b\r",
      " 30  2 58.94 \b\b\b\b\b\b\b\b\b\b\b\r",
      " 30  3 59.04 \b\b\b\b\b\b\b\b\b\b\b\r",
      " 30  4 59.14 \b\b\b\b\b\b\b\b\b\b\b\r",
      " 30  5 59.24 \b\b\b\b\b\b\b\b\b\b\b\r",
      " 30  6 59.35 \b\b\b\b\b\b\b\b\b\b\b\r",
      " 30  7 59.45 \b\b\b\b\b\b\b\b\b\b\b\r",
      " 30  8 59.55 \b\b\b\b\b\b\b\b\b\b\b\r",
      " 30  9 59.65 \b\b\b\b\b\b\b\b\b\b\b\r",
      " 30 10 59.75 <iteration done>\n",
      "\b\b\b\b\b\b\b\b\b\b\b\r",
      " 31  1 60.86 \b\b\b\b\b\b\b\b\b\b\b\r",
      " 31  2 60.96 \b\b\b\b\b\b\b\b\b\b\b\r",
      " 31  3 61.06 \b\b\b\b\b\b\b\b\b\b\b\r",
      " 31  4 61.16 \b\b\b\b\b\b\b\b\b\b\b\r",
      " 31  5 61.27 \b\b\b\b\b\b\b\b\b\b\b\r",
      " 31  6 61.37 \b\b\b\b\b\b\b\b\b\b\b\r",
      " 31  7 61.47 \b\b\b\b\b\b\b\b\b\b\b\r",
      " 31  8 61.57 \b\b\b\b\b\b\b\b\b\b\b\r",
      " 31  9 61.67 \b\b\b\b\b\b\b\b\b\b\b\r",
      " 31 10 61.77 <iteration done>\n",
      "\b\b\b\b\b\b\b\b\b\b\b\r",
      " 32  1 62.88 \b\b\b\b\b\b\b\b\b\b\b\r",
      " 32  2 62.98 \b\b\b\b\b\b\b\b\b\b\b\r",
      " 32  3 63.08 \b\b\b\b\b\b\b\b\b\b\b\r",
      " 32  4 63.19 \b\b\b\b\b\b\b\b\b\b\b\r",
      " 32  5 63.29 \b\b\b\b\b\b\b\b\b\b\b\r",
      " 32  6 63.39 \b\b\b\b\b\b\b\b\b\b\b\r",
      " 32  7 63.49 \b\b\b\b\b\b\b\b\b\b\b\r",
      " 32  8 63.60 \b\b\b\b\b\b\b\b\b\b\b\r",
      " 32  9 63.70 \b\b\b\b\b\b\b\b\b\b\b\r",
      " 32 10 63.80 <iteration done>\n",
      "\b\b\b\b\b\b\b\b\b\b\b\r",
      " 33  1 64.91 \b\b\b\b\b\b\b\b\b\b\b\r",
      " 33  2 65.01 \b\b\b\b\b\b\b\b\b\b\b\r",
      " 33  3 65.11 \b\b\b\b\b\b\b\b\b\b\b\r",
      " 33  4 65.21 \b\b\b\b\b\b\b\b\b\b\b\r",
      " 33  5 65.32 \b\b\b\b\b\b\b\b\b\b\b\r",
      " 33  6 65.42 \b\b\b\b\b\b\b\b\b\b\b\r",
      " 33  7 65.52 \b\b\b\b\b\b\b\b\b\b\b\r",
      " 33  8 65.62 \b\b\b\b\b\b\b\b\b\b\b\r",
      " 33  9 65.73 \b\b\b\b\b\b\b\b\b\b\b\r",
      " 33 10 65.83 <iteration done>\n",
      "\b\b\b\b\b\b\b\b\b\b\b\r",
      " 34  1 66.93 \b\b\b\b\b\b\b\b\b\b\b\r",
      " 34  2 67.04 \b\b\b\b\b\b\b\b\b\b\b\r",
      " 34  3 67.14 \b\b\b\b\b\b\b\b\b\b\b\r",
      " 34  4 67.24 \b\b\b\b\b\b\b\b\b\b\b\r",
      " 34  5 67.34 \b\b\b\b\b\b\b\b\b\b\b\r",
      " 34  6 67.45 \b\b\b\b\b\b\b\b\b\b\b\r",
      " 34  7 67.55 \b\b\b\b\b\b\b\b\b\b\b\r",
      " 34  8 67.65 \b\b\b\b\b\b\b\b\b\b\b\r",
      " 34  9 67.75 \b\b\b\b\b\b\b\b\b\b\b\r",
      " 34 10 67.86 <iteration done>\n",
      "\b\b\b\b\b\b\b\b\b\b\b\r",
      " 35  1 68.96 \b\b\b\b\b\b\b\b\b\b\b\r",
      " 35  2 69.06 \b\b\b\b\b\b\b\b\b\b\b\r",
      " 35  3 69.17 \b\b\b\b\b\b\b\b\b\b\b\r",
      " 35  4 69.27 \b\b\b\b\b\b\b\b\b\b\b\r",
      " 35  5 69.37 \b\b\b\b\b\b\b\b\b\b\b\r",
      " 35  6 69.47 \b\b\b\b\b\b\b\b\b\b\b\r",
      " 35  7 69.58 \b\b\b\b\b\b\b\b\b\b\b\r",
      " 35  8 69.68 \b\b\b\b\b\b\b\b\b\b\b\r",
      " 35  9 69.78 \b\b\b\b\b\b\b\b\b\b\b\r",
      " 35 10 69.88 <iteration done>\n",
      "\b\b\b\b\b\b\b\b\b\b\b\r",
      " 36  1 70.99 \b\b\b\b\b\b\b\b\b\b\b\r",
      " 36  2 71.09 \b\b\b\b\b\b\b\b\b\b\b\r",
      " 36  3 71.20 \b\b\b\b\b\b\b\b\b\b\b\r",
      " 36  4 71.30 \b\b\b\b\b\b\b\b\b\b\b\r",
      " 36  5 71.40 \b\b\b\b\b\b\b\b\b\b\b\r",
      " 36  6 71.51 \b\b\b\b\b\b\b\b\b\b\b\r",
      " 36  7 71.61 \b\b\b\b\b\b\b\b\b\b\b\r",
      " 36  8 71.71 \b\b\b\b\b\b\b\b\b\b\b\r",
      " 36  9 71.81 \b\b\b\b\b\b\b\b\b\b\b\r",
      " 36 10 71.92 <iteration done>\n",
      "\b\b\b\b\b\b\b\b\b\b\b\r",
      " 37  1 73.02 \b\b\b\b\b\b\b\b\b\b\b\r",
      " 37  2 73.13 \b\b\b\b\b\b\b\b\b\b\b\r",
      " 37  3 73.23 \b\b\b\b\b\b\b\b\b\b\b\r",
      " 37  4 73.33 \b\b\b\b\b\b\b\b\b\b\b\r",
      " 37  5 73.43 \b\b\b\b\b\b\b\b\b\b\b\r",
      " 37  6 73.54 \b\b\b\b\b\b\b\b\b\b\b\r",
      " 37  7 73.64 \b\b\b\b\b\b\b\b\b\b\b\r",
      " 37  8 73.74 \b\b\b\b\b\b\b\b\b\b\b\r",
      " 37  9 73.84 \b\b\b\b\b\b\b\b\b\b\b\r",
      " 37 10 73.94 <iteration done>\n",
      "\b\b\b\b\b\b\b\b\b\b\b\r",
      " 38  1 75.05 \b\b\b\b\b\b\b\b\b\b\b\r",
      " 38  2 75.15 \b\b\b\b\b\b\b\b\b\b\b\r",
      " 38  3 75.26 \b\b\b\b\b\b\b\b\b\b\b\r",
      " 38  4 75.36 \b\b\b\b\b\b\b\b\b\b\b\r",
      " 38  5 75.46 \b\b\b\b\b\b\b\b\b\b\b\r",
      " 38  6 75.56 \b\b\b\b\b\b\b\b\b\b\b\r",
      " 38  7 75.66 \b\b\b\b\b\b\b\b\b\b\b\r",
      " 38  8 75.77 \b\b\b\b\b\b\b\b\b\b\b\r",
      " 38  9 75.87 \b\b\b\b\b\b\b\b\b\b\b\r",
      " 38 10 75.97 <iteration done>\n",
      "\b\b\b\b\b\b\b\b\b\b\b\r",
      " 39  1 77.08 \b\b\b\b\b\b\b\b\b\b\b\r",
      " 39  2 77.18 \b\b\b\b\b\b\b\b\b\b\b\r",
      " 39  3 77.28 \b\b\b\b\b\b\b\b\b\b\b\r",
      " 39  4 77.39 \b\b\b\b\b\b\b\b\b\b\b\r",
      " 39  5 77.49 \b\b\b\b\b\b\b\b\b\b\b\r",
      " 39  6 77.59 \b\b\b\b\b\b\b\b\b\b\b\r",
      " 39  7 77.70 \b\b\b\b\b\b\b\b\b\b\b\r",
      " 39  8 77.80 \b\b\b\b\b\b\b\b\b\b\b\r",
      " 39  9 77.90 \b\b\b\b\b\b\b\b\b\b\b\r",
      " 39 10 78.00 <iteration done>\n",
      "\b\b\b\b\b\b\b\b\b\b\b\r",
      " 40  1 79.11 \b\b\b\b\b\b\b\b\b\b\b\r",
      " 40  2 79.21 \b\b\b\b\b\b\b\b\b\b\b\r",
      " 40  3 79.32 \b\b\b\b\b\b\b\b\b\b\b\r",
      " 40  4 79.42 \b\b\b\b\b\b\b\b\b\b\b\r",
      " 40  5 79.52 \b\b\b\b\b\b\b\b\b\b\b\r",
      " 40  6 79.62 \b\b\b\b\b\b\b\b\b\b\b\r",
      " 40  7 79.73 \b\b\b\b\b\b\b\b\b\b\b\r",
      " 40  8 79.83 \b\b\b\b\b\b\b\b\b\b\b\r",
      " 40  9 79.94 \b\b\b\b\b\b\b\b\b\b\b\r",
      " 40 10 80.04 <iteration done>\n",
      "\b\b\b\b\b\b\b\b\b\b\b\r",
      " 41  1 81.15 \b\b\b\b\b\b\b\b\b\b\b\r",
      " 41  2 81.25 \b\b\b\b\b\b\b\b\b\b\b\r",
      " 41  3 81.35 \b\b\b\b\b\b\b\b\b\b\b\r",
      " 41  4 81.45 \b\b\b\b\b\b\b\b\b\b\b\r",
      " 41  5 81.56 \b\b\b\b\b\b\b\b\b\b\b\r",
      " 41  6 81.66 \b\b\b\b\b\b\b\b\b\b\b\r",
      " 41  7 81.76 \b\b\b\b\b\b\b\b\b\b\b\r",
      " 41  8 81.86 \b\b\b\b\b\b\b\b\b\b\b\r",
      " 41  9 81.97 \b\b\b\b\b\b\b\b\b\b\b\r",
      " 41 10 82.07 <iteration done>\n",
      "\b\b\b\b\b\b\b\b\b\b\b\r",
      " 42  1 83.18 \b\b\b\b\b\b\b\b\b\b\b\r",
      " 42  2 83.28 \b\b\b\b\b\b\b\b\b\b\b\r",
      " 42  3 83.38 \b\b\b\b\b\b\b\b\b\b\b\r",
      " 42  4 83.49 \b\b\b\b\b\b\b\b\b\b\b\r",
      " 42  5 83.59 \b\b\b\b\b\b\b\b\b\b\b\r",
      " 42  6 83.69 \b\b\b\b\b\b\b\b\b\b\b\r",
      " 42  7 83.79 \b\b\b\b\b\b\b\b\b\b\b\r",
      " 42  8 83.90 \b\b\b\b\b\b\b\b\b\b\b\r",
      " 42  9 84.00 \b\b\b\b\b\b\b\b\b\b\b\r",
      " 42 10 84.10 <iteration done>\n",
      "\b\b\b\b\b\b\b\b\b\b\b\r",
      " 43  1 85.21 \b\b\b\b\b\b\b\b\b\b\b\r",
      " 43  2 85.31 \b\b\b\b\b\b\b\b\b\b\b\r",
      " 43  3 85.42 \b\b\b\b\b\b\b\b\b\b\b\r",
      " 43  4 85.52 \b\b\b\b\b\b\b\b\b\b\b\r",
      " 43  5 85.62 \b\b\b\b\b\b\b\b\b\b\b\r",
      " 43  6 85.72 \b\b\b\b\b\b\b\b\b\b\b\r",
      " 43  7 85.83 \b\b\b\b\b\b\b\b\b\b\b\r",
      " 43  8 85.93 \b\b\b\b\b\b\b\b\b\b\b\r",
      " 43  9 86.03 \b\b\b\b\b\b\b\b\b\b\b\r",
      " 43 10 86.13 <iteration done>\n",
      "\b\b\b\b\b\b\b\b\b\b\b\r",
      " 44  1 87.24 \b\b\b\b\b\b\b\b\b\b\b\r",
      " 44  2 87.34 \b\b\b\b\b\b\b\b\b\b\b\r",
      " 44  3 87.44 \b\b\b\b\b\b\b\b\b\b\b\r",
      " 44  4 87.54 \b\b\b\b\b\b\b\b\b\b\b\r",
      " 44  5 87.65 \b\b\b\b\b\b\b\b\b\b\b\r",
      " 44  6 87.75 \b\b\b\b\b\b\b\b\b\b\b\r",
      " 44  7 87.85 \b\b\b\b\b\b\b\b\b\b\b\r",
      " 44  8 87.96 \b\b\b\b\b\b\b\b\b\b\b\r",
      " 44  9 88.06 \b\b\b\b\b\b\b\b\b\b\b\r",
      " 44 10 88.16 <iteration done>\n",
      "\b\b\b\b\b\b\b\b\b\b\b\r",
      " 45  1 89.27 \b\b\b\b\b\b\b\b\b\b\b\r",
      " 45  2 89.37 \b\b\b\b\b\b\b\b\b\b\b\r",
      " 45  3 89.47 \b\b\b\b\b\b\b\b\b\b\b\r",
      " 45  4 89.58 \b\b\b\b\b\b\b\b\b\b\b\r",
      " 45  5 89.68 \b\b\b\b\b\b\b\b\b\b\b\r",
      " 45  6 89.78 \b\b\b\b\b\b\b\b\b\b\b\r",
      " 45  7 89.88 \b\b\b\b\b\b\b\b\b\b\b\r",
      " 45  8 89.99 \b\b\b\b\b\b\b\b\b\b\b\r",
      " 45  9 90.09 \b\b\b\b\b\b\b\b\b\b\b\r",
      " 45 10 90.19 <iteration done>\n",
      "\b\b\b\b\b\b\b\b\b\b\b\r",
      " 46  1 91.30 \b\b\b\b\b\b\b\b\b\b\b\r",
      " 46  2 91.40 \b\b\b\b\b\b\b\b\b\b\b\r",
      " 46  3 91.50 \b\b\b\b\b\b\b\b\b\b\b\r",
      " 46  4 91.61 \b\b\b\b\b\b\b\b\b\b\b\r",
      " 46  5 91.71 \b\b\b\b\b\b\b\b\b\b\b\r",
      " 46  6 91.81 \b\b\b\b\b\b\b\b\b\b\b\r",
      " 46  7 91.92 \b\b\b\b\b\b\b\b\b\b\b\r",
      " 46  8 92.02 \b\b\b\b\b\b\b\b\b\b\b\r",
      " 46  9 92.12 \b\b\b\b\b\b\b\b\b\b\b\r",
      " 46 10 92.23 <iteration done>\n",
      "\b\b\b\b\b\b\b\b\b\b\b\r",
      " 47  1 93.33 \b\b\b\b\b\b\b\b\b\b\b\r",
      " 47  2 93.43 \b\b\b\b\b\b\b\b\b\b\b\r",
      " 47  3 93.54 \b\b\b\b\b\b\b\b\b\b\b\r",
      " 47  4 93.64 \b\b\b\b\b\b\b\b\b\b\b\r",
      " 47  5 93.74 \b\b\b\b\b\b\b\b\b\b\b\r",
      " 47  6 93.84 \b\b\b\b\b\b\b\b\b\b\b\r",
      " 47  7 93.95 \b\b\b\b\b\b\b\b\b\b\b\r",
      " 47  8 94.05 \b\b\b\b\b\b\b\b\b\b\b\r",
      " 47  9 94.15 \b\b\b\b\b\b\b\b\b\b\b\r",
      " 47 10 94.25 <iteration done>\n",
      "\b\b\b\b\b\b\b\b\b\b\b\r",
      " 48  1 95.36 \b\b\b\b\b\b\b\b\b\b\b\r",
      " 48  2 95.47 \b\b\b\b\b\b\b\b\b\b\b\r",
      " 48  3 95.57 \b\b\b\b\b\b\b\b\b\b\b\r",
      " 48  4 95.68 \b\b\b\b\b\b\b\b\b\b\b\r",
      " 48  5 95.78 \b\b\b\b\b\b\b\b\b\b\b\r",
      " 48  6 95.88 \b\b\b\b\b\b\b\b\b\b\b\r",
      " 48  7 95.99 \b\b\b\b\b\b\b\b\b\b\b\r",
      " 48  8 96.09 \b\b\b\b\b\b\b\b\b\b\b\r",
      " 48  9 96.19 \b\b\b\b\b\b\b\b\b\b\b\r",
      " 48 10 96.30 <iteration done>\n",
      "\b\b\b\b\b\b\b\b\b\b\b\r",
      " 49  1 97.41 \b\b\b\b\b\b\b\b\b\b\b\r",
      " 49  2 97.51 \b\b\b\b\b\b\b\b\b\b\b\r",
      " 49  3 97.61 \b\b\b\b\b\b\b\b\b\b\b\r",
      " 49  4 97.72 \b\b\b\b\b\b\b\b\b\b\b\r",
      " 49  5 97.82 \b\b\b\b\b\b\b\b\b\b\b\r",
      " 49  6 97.92 \b\b\b\b\b\b\b\b\b\b\b\r",
      " 49  7 98.02 \b\b\b\b\b\b\b\b\b\b\b\r",
      " 49  8 98.13 \b\b\b\b\b\b\b\b\b\b\b\r",
      " 49  9 98.23 \b\b\b\b\b\b\b\b\b\b\b\r",
      " 49 10 98.33 <iteration done>\n",
      "\b\b\b\b\b\b\b\b\b\b\b\r",
      " 50  1 99.44 \b\b\b\b\b\b\b\b\b\b\b\r",
      " 50  2 99.54 \b\b\b\b\b\b\b\b\b\b\b\r",
      " 50  3 99.65 \b\b\b\b\b\b\b\b\b\b\b\r",
      " 50  4 99.75 \b\b\b\b\b\b\b\b\b\b\b\r",
      " 50  5 99.85 \b\b\b\b\b\b\b\b\b\b\b\r",
      " 50  6 99.96 \b\b\b\b\b\b\b\b\b\b\b\r",
      " 50  7 100.06 \b\b\b\b\b\b\b\b\b\b\b\r",
      " 50  8 100.16 \b\b\b\b\b\b\b\b\b\b\b\r",
      " 50  9 100.26 \b\b\b\b\b\b\b\b\b\b\b\r",
      " 50 10 100.37 <iteration done>\n",
      "Done! Msg=Look! NonBlocking! Param={}\n"
     ]
    }
   ],
   "source": [
    "# We can still print the collected output, after it has finished\n",
    "pn.show()"
   ]
  },
  {
   "cell_type": "markdown",
   "metadata": {},
   "source": [
    "## Additional options\n",
    "\n",
    "### verbose\n",
    "\n",
    "Adding `verbose=False` to the `process()` method will suppress output (but still save to the temporal file)"
   ]
  },
  {
   "cell_type": "code",
   "execution_count": 16,
   "metadata": {
    "collapsed": true
   },
   "outputs": [],
   "source": [
    "pq = cc.ProcessWrap( processing_call, 3, \"Now Quiet!\" )\n",
    "pq.process( verbose=False )\n",
    "# This will take a few seconds, with no output"
   ]
  },
  {
   "cell_type": "code",
   "execution_count": 17,
   "metadata": {
    "collapsed": false
   },
   "outputs": [
    {
     "name": "stdout",
     "output_type": "stream",
     "text": [
      "\r",
      "----- DONE -----\n",
      "\b\b\b\b\b\b\b\b\b\b\b\r",
      "  1  1  0.00 \b\b\b\b\b\b\b\b\b\b\b\r",
      "  1  2  0.10 \b\b\b\b\b\b\b\b\b\b\b\r",
      "  1  3  0.20 \b\b\b\b\b\b\b\b\b\b\b\r",
      "  1  4  0.30 \b\b\b\b\b\b\b\b\b\b\b\r",
      "  1  5  0.40 \b\b\b\b\b\b\b\b\b\b\b\r",
      "  1  6  0.50 \b\b\b\b\b\b\b\b\b\b\b\r",
      "  1  7  0.60 \b\b\b\b\b\b\b\b\b\b\b\r",
      "  1  8  0.70 \b\b\b\b\b\b\b\b\b\b\b\r",
      "  1  9  0.80 \b\b\b\b\b\b\b\b\b\b\b\r",
      "  1 10  0.90 <iteration done>\n",
      "\b\b\b\b\b\b\b\b\b\b\b\r",
      "  2  1  2.00 \b\b\b\b\b\b\b\b\b\b\b\r",
      "  2  2  2.10 \b\b\b\b\b\b\b\b\b\b\b\r",
      "  2  3  2.20 \b\b\b\b\b\b\b\b\b\b\b\r",
      "  2  4  2.30 \b\b\b\b\b\b\b\b\b\b\b\r",
      "  2  5  2.40 \b\b\b\b\b\b\b\b\b\b\b\r",
      "  2  6  2.50 \b\b\b\b\b\b\b\b\b\b\b\r",
      "  2  7  2.60 \b\b\b\b\b\b\b\b\b\b\b\r",
      "  2  8  2.71 \b\b\b\b\b\b\b\b\b\b\b\r",
      "  2  9  2.81 \b\b\b\b\b\b\b\b\b\b\b\r",
      "  2 10  2.91 <iteration done>\n",
      "\b\b\b\b\b\b\b\b\b\b\b\r",
      "  3  1  4.01 \b\b\b\b\b\b\b\b\b\b\b\r",
      "  3  2  4.11 \b\b\b\b\b\b\b\b\b\b\b\r",
      "  3  3  4.21 \b\b\b\b\b\b\b\b\b\b\b\r",
      "  3  4  4.31 \b\b\b\b\b\b\b\b\b\b\b\r",
      "  3  5  4.41 \b\b\b\b\b\b\b\b\b\b\b\r",
      "  3  6  4.51 \b\b\b\b\b\b\b\b\b\b\b\r",
      "  3  7  4.61 \b\b\b\b\b\b\b\b\b\b\b\r",
      "  3  8  4.71 \b\b\b\b\b\b\b\b\b\b\b\r",
      "  3  9  4.81 \b\b\b\b\b\b\b\b\b\b\b\r",
      "  3 10  4.91 <iteration done>\n",
      "Done! Msg=Now Quiet! Param={}\n"
     ]
    }
   ],
   "source": [
    "# We can still access the data\n",
    "pq.show()"
   ]
  },
  {
   "cell_type": "markdown",
   "metadata": {},
   "source": [
    "### delete\n",
    "\n",
    "The temporal file is automatically deleted upon task termination. This is usually not a problem because the data in the file is loaded onto the `ProcessWrap` object, and it can be printed via `show()` (or retrieved through the `data` attribute). But of course it will be lost if the notebook kernel is terminated. If the processing is very long or important, as a safety measure the `delete=False` parameter to `process()` will cancel file removal."
   ]
  },
  {
   "cell_type": "code",
   "execution_count": 18,
   "metadata": {
    "collapsed": false
   },
   "outputs": [
    {
     "name": "stdout",
     "output_type": "stream",
     "text": [
      "Launching process ... \n",
      "  1 10  0.91 \b\b\b\b\b\b\b\b\b\b\b\b\b\b\b\b\b\b\b\b\b\b\b\b\b\b\b\b\b\b\b\b\b\b\b\b\b\b\b\b\b\b\b\b\b\b\b\b\b\b\b\b\b\b\b<iteration done>\n",
      "  2 10  2.92 \b\b\b\b\b\b\b\b\b\b\b\b\b\b\b\b\b\b\b\b\b\b\b\b\b\b\b\b\b\b\b\b\b\b\b\b\b\b\b\b\b\b\b\b\b\b\b\b\b\b\b\b\b\b\b<iteration done>\n",
      "  3 10  4.93 \b\b\b\b\b\b\b\b\b\b\b\b\b\b\b\b\b\b\b\b\b\b\b\b\b\b\b\b\b\b\b\b\b\b\b\b\b\b\b\b\b\b\b\b\b\b\b\b\b\b\b\b\b\b\b<iteration done>\n",
      "Done! Msg=Not deleted! Param={}\n"
     ]
    }
   ],
   "source": [
    "pk = cc.ProcessWrap( processing_call, 3, \"Not deleted!\" )\n",
    "pk.process( delete=False )"
   ]
  },
  {
   "cell_type": "code",
   "execution_count": 19,
   "metadata": {
    "collapsed": false
   },
   "outputs": [
    {
     "data": {
      "text/plain": [
       "'/home/paulo/ML/IPNB/DL/notebook-Vgc932.log'"
      ]
     },
     "execution_count": 19,
     "metadata": {},
     "output_type": "execute_result"
    }
   ],
   "source": [
    "# See the filename that was used\n",
    "pk.logname"
   ]
  },
  {
   "cell_type": "code",
   "execution_count": 21,
   "metadata": {
    "collapsed": false
   },
   "outputs": [
    {
     "name": "stdout",
     "output_type": "stream",
     "text": [
      "\b\b\b\b\b\b\b\b\b\b\b\r",
      "  1  1  0.00 \b\b\b\b\b\b\b\b\b\b\b\r",
      "  1  2  0.10 \b\b\b\b\b\b\b\b\b\b\b\r",
      "  1  3  0.20 \b\b\b\b\b\b\b\b\b\b\b\r",
      "  1  4  0.30 \b\b\b\b\b\b\b\b\b\b\b\r",
      "  1  5  0.40 \b\b\b\b\b\b\b\b\b\b\b\r",
      "  1  6  0.50 \b\b\b\b\b\b\b\b\b\b\b\r",
      "  1  7  0.61 \b\b\b\b\b\b\b\b\b\b\b\r",
      "  1  8  0.71 \b\b\b\b\b\b\b\b\b\b\b\r",
      "  1  9  0.81 \b\b\b\b\b\b\b\b\b\b\b\r",
      "  1 10  0.91 <iteration done>\n",
      "\b\b\b\b\b\b\b\b\b\b\b\r",
      "  2  1  2.01 \b\b\b\b\b\b\b\b\b\b\b\r",
      "  2  2  2.11 \b\b\b\b\b\b\b\b\b\b\b\r",
      "  2  3  2.21 \b\b\b\b\b\b\b\b\b\b\b\r",
      "  2  4  2.31 \b\b\b\b\b\b\b\b\b\b\b\r",
      "  2  5  2.41 \b\b\b\b\b\b\b\b\b\b\b\r",
      "  2  6  2.51 \b\b\b\b\b\b\b\b\b\b\b\r",
      "  2  7  2.61 \b\b\b\b\b\b\b\b\b\b\b\r",
      "  2  8  2.71 \b\b\b\b\b\b\b\b\b\b\b\r",
      "  2  9  2.82 \b\b\b\b\b\b\b\b\b\b\b\r",
      "  2 10  2.92 <iteration done>\n",
      "\b\b\b\b\b\b\b\b\b\b\b\r",
      "  3  1  4.02 \b\b\b\b\b\b\b\b\b\b\b\r",
      "  3  2  4.12 \b\b\b\b\b\b\b\b\b\b\b\r",
      "  3  3  4.22 \b\b\b\b\b\b\b\b\b\b\b\r",
      "  3  4  4.32 \b\b\b\b\b\b\b\b\b\b\b\r",
      "  3  5  4.42 \b\b\b\b\b\b\b\b\b\b\b\r",
      "  3  6  4.52 \b\b\b\b\b\b\b\b\b\b\b\r",
      "  3  7  4.62 \b\b\b\b\b\b\b\b\b\b\b\r",
      "  3  8  4.72 \b\b\b\b\b\b\b\b\b\b\b\r",
      "  3  9  4.82 \b\b\b\b\b\b\b\b\b\b\b\r",
      "  3 10  4.93 <iteration done>\n",
      "Done! Msg=Not deleted! Param={}\n",
      "\n"
     ]
    }
   ],
   "source": [
    "# The data is there for posterity\n",
    "with open(pk.logname,\"r\") as f:\n",
    "    print( f.read() )"
   ]
  },
  {
   "cell_type": "code",
   "execution_count": 22,
   "metadata": {
    "collapsed": true
   },
   "outputs": [],
   "source": [
    "# Or perhaps not\n",
    "import os\n",
    "os.unlink( pk.logname )"
   ]
  },
  {
   "cell_type": "markdown",
   "metadata": {},
   "source": [
    "# Low level API\n",
    "The `ProcessWrap` object functionality is implemented via lower level objects:\n",
    "\n",
    "* `OutputDest` is a file-like object that substitutes _stdout_ & _stderr_ to perform the data capture\n",
    "* `ConsoleCapture` provides an object that uses `OutputDest`, and `ConsoleCaptureCtx` a context manager for it\n",
    "* `ProcessingThread` provides the processing thread that encapsulates its output via `ConsoleCaptureCtx`\n",
    "\n",
    "These objects can be used directly if more specialised treatment is needed\n",
    "\n",
    "### ConsoleCaptureCtx\n"
   ]
  },
  {
   "cell_type": "code",
   "execution_count": 4,
   "metadata": {
    "collapsed": false
   },
   "outputs": [],
   "source": [
    "import datetime\n",
    "\n",
    "with cc.ConsoleCaptureCtx(verbose=False) as ll1:\n",
    "    for i in range(20):\n",
    "        print( '{:3}  {}'.format(i+1, datetime.datetime.now()) )"
   ]
  },
  {
   "cell_type": "code",
   "execution_count": 5,
   "metadata": {
    "collapsed": false
   },
   "outputs": [
    {
     "name": "stdout",
     "output_type": "stream",
     "text": [
      "  1  2016-12-23 20:44:56.716750\n",
      "  2  2016-12-23 20:44:56.716888\n",
      "  3  2016-12-23 20:44:56.716934\n",
      "  4  2016-12-23 20:44:56.716964\n",
      "  5  2016-12-23 20:44:56.716990\n",
      "  6  2016-12-23 20:44:56.717015\n",
      "  7  2016-12-23 20:44:56.717041\n",
      "  8  2016-12-23 20:44:56.717066\n",
      "  9  2016-12-23 20:44:56.717091\n",
      " 10  2016-12-23 20:44:56.717116\n",
      " 11  2016-12-23 20:44:56.717216\n",
      " 12  2016-12-23 20:44:56.717250\n",
      " 13  2016-12-23 20:44:56.717276\n",
      " 14  2016-12-23 20:44:56.717301\n",
      " 15  2016-12-23 20:44:56.717326\n",
      " 16  2016-12-23 20:44:56.717351\n",
      " 17  2016-12-23 20:44:56.717376\n",
      " 18  2016-12-23 20:44:56.717401\n",
      " 19  2016-12-23 20:44:56.717427\n",
      " 20  2016-12-23 20:44:56.717452\n"
     ]
    }
   ],
   "source": [
    "ll1.reprint()"
   ]
  },
  {
   "cell_type": "code",
   "execution_count": 6,
   "metadata": {
    "collapsed": false
   },
   "outputs": [
    {
     "data": {
      "text/plain": [
       "'  1  2016-12-23 20:44:56.716750\\n  2  2016-12-23 20:44:56.716888\\n  3  2016-12-23 20:44:56.716934\\n  4  2016-12-23 20:44:56.716964\\n  5  2016-12-23 20:44:56.716990\\n  6  2016-12-23 20:44:56.717015\\n  7  2016-12-23 20:44:56.717041\\n  8  2016-12-23 20:44:56.717066\\n  9  2016-12-23 20:44:56.717091\\n 10  2016-12-23 20:44:56.717116\\n 11  2016-12-23 20:44:56.717216\\n 12  2016-12-23 20:44:56.717250\\n 13  2016-12-23 20:44:56.717276\\n 14  2016-12-23 20:44:56.717301\\n 15  2016-12-23 20:44:56.717326\\n 16  2016-12-23 20:44:56.717351\\n 17  2016-12-23 20:44:56.717376\\n 18  2016-12-23 20:44:56.717401\\n 19  2016-12-23 20:44:56.717427\\n 20  2016-12-23 20:44:56.717452\\n'"
      ]
     },
     "execution_count": 6,
     "metadata": {},
     "output_type": "execute_result"
    }
   ],
   "source": [
    "ll1.data"
   ]
  },
  {
   "cell_type": "markdown",
   "metadata": {},
   "source": [
    "### ConsoleCapture"
   ]
  },
  {
   "cell_type": "code",
   "execution_count": 15,
   "metadata": {
    "collapsed": false
   },
   "outputs": [],
   "source": [
    "ll2 = cc.ConsoleCapture()"
   ]
  },
  {
   "cell_type": "code",
   "execution_count": 16,
   "metadata": {
    "collapsed": false
   },
   "outputs": [
    {
     "name": "stdout",
     "output_type": "stream",
     "text": [
      "A\n",
      "B\n"
     ]
    }
   ],
   "source": [
    "print( \"A\")\n",
    "print( \"B\" )"
   ]
  },
  {
   "cell_type": "code",
   "execution_count": 17,
   "metadata": {
    "collapsed": false,
    "scrolled": true
   },
   "outputs": [
    {
     "name": "stdout",
     "output_type": "stream",
     "text": [
      "CDE...\r",
      "...FGH\n",
      "IJK\n"
     ]
    }
   ],
   "source": [
    "ll2.start()\n",
    "\n",
    "print( \"CDE...\\r\", end='')\n",
    "print( \"...FGH\")\n",
    "print( \"IJK\")\n",
    "\n",
    "ll2.stop();"
   ]
  },
  {
   "cell_type": "code",
   "execution_count": 18,
   "metadata": {
    "collapsed": false
   },
   "outputs": [
    {
     "name": "stdout",
     "output_type": "stream",
     "text": [
      "CDE...\r",
      "...FGH\n",
      "IJK\n"
     ]
    }
   ],
   "source": [
    "ll2.reprint().remove();"
   ]
  },
  {
   "cell_type": "code",
   "execution_count": null,
   "metadata": {
    "collapsed": true
   },
   "outputs": [],
   "source": []
  }
 ],
 "metadata": {
  "kernelspec": {
   "display_name": "Python 2",
   "language": "python",
   "name": "python2"
  },
  "language_info": {
   "codemirror_mode": {
    "name": "ipython",
    "version": 2
   },
   "file_extension": ".py",
   "mimetype": "text/x-python",
   "name": "python",
   "nbconvert_exporter": "python",
   "pygments_lexer": "ipython2",
   "version": "2.7.5"
  }
 },
 "nbformat": 4,
 "nbformat_minor": 2
}
