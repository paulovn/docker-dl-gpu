{
 "cells": [
  {
   "cell_type": "markdown",
   "metadata": {},
   "source": [
    "# console capture and replay for notebooks\n",
    "\n",
    "This notebook shows an example of an small utility that can help capture the output sent to stdout by a long-running process in a notebook."
   ]
  },
  {
   "cell_type": "code",
   "execution_count": 1,
   "metadata": {
    "collapsed": false
   },
   "outputs": [],
   "source": [
    "from __future__ import print_function\n",
    "\n",
    "from dl_utils import console_capture as cc"
   ]
  },
  {
   "cell_type": "markdown",
   "metadata": {},
   "source": [
    "A preliminary check: this cell should print\n",
    "\n",
    "  `789...`\n",
    "\n",
    "since the carriage return should make it overwrite all previous output. If not, this is possibly a [buggy notebook version](https://github.com/jupyter/notebook/issues/1970). Update notebook to at least 4.3.1\n"
   ]
  },
  {
   "cell_type": "code",
   "execution_count": 2,
   "metadata": {
    "collapsed": false
   },
   "outputs": [
    {
     "name": "stdout",
     "output_type": "stream",
     "text": [
      "123...\r",
      "456...\r",
      "789...\n"
     ]
    }
   ],
   "source": [
    "a = '123...\\r456...\\r789...'\n",
    "print(a)"
   ]
  },
  {
   "cell_type": "markdown",
   "metadata": {},
   "source": [
    "Backspaces are not correctly processed by notebooks, though (they are ignored). So this one should print\n",
    "\n",
    "   `abc...`\n",
    "\n",
    "but it will not:"
   ]
  },
  {
   "cell_type": "code",
   "execution_count": 3,
   "metadata": {
    "collapsed": false
   },
   "outputs": [
    {
     "name": "stdout",
     "output_type": "stream",
     "text": [
      "123...\r",
      "456...\r",
      "789\b\b\babc...\n"
     ]
    }
   ],
   "source": [
    "a = '123...\\r456...\\r789\\b\\b\\babc...'\n",
    "print(a)"
   ]
  },
  {
   "cell_type": "markdown",
   "metadata": {},
   "source": [
    "# High-level API"
   ]
  },
  {
   "cell_type": "markdown",
   "metadata": {},
   "source": [
    "## Process example\n",
    "\n",
    "To use the high-level API we need to express our processing task in the form of a [callable](https://docs.python.org/3/library/functions.html#callable)  (a function, method, or in general any object with a `__call__` [attribute](https://docs.python.org/3/reference/datamodel.html#object.__call__)). The callable can take arbitrary arguments (as we need to parametrize the processing or send options)."
   ]
  },
  {
   "cell_type": "code",
   "execution_count": 4,
   "metadata": {
    "collapsed": true
   },
   "outputs": [],
   "source": [
    "import time\n",
    "\n",
    "def processing_call( num, msg, **kwargs ):\n",
    "    '''\n",
    "    A function that basically does nothing, but takes its time to do \n",
    "    that nothing and prints out progress reports while it is doing it\n",
    "      :param num: how many empty iterations to do\n",
    "      :param msg: Message to be printed at processing end\n",
    "      :param kwargs: Additional unused arguments, also to be printed at processing end\n",
    "    '''\n",
    "    start = time.time()\n",
    "    # Outer loop: 'num' times\n",
    "    for j in range(num):\n",
    "        # Inner loop: 10 times\n",
    "        for i in range(10):\n",
    "            # Print progress reports. Use control characters to overwrite the line\n",
    "            print( \"\\b\\b\\b\\b\\b\\b\\b\\b\\b\\b\\b\\r\", '{:2} {:2} {:5.2f}'.format( j+1, i+1, time.time()-start ), end=' ' )\n",
    "            time.sleep(0.10)\n",
    "        print('<iteration done>') # next line\n",
    "        time.sleep(1)\n",
    "    print( \"Done! Msg={} Param={}\".format(msg,kwargs) )"
   ]
  },
  {
   "cell_type": "markdown",
   "metadata": {},
   "source": [
    "## Basic style\n",
    "The basic procedure is creating a wrap object by passing it the callable with its required arguments ..."
   ]
  },
  {
   "cell_type": "code",
   "execution_count": 5,
   "metadata": {
    "collapsed": false
   },
   "outputs": [],
   "source": [
    "p = cc.ProcessWrap( processing_call, 4, \"Hi\", param=\"I'm a process\" )"
   ]
  },
  {
   "cell_type": "markdown",
   "metadata": {},
   "source": [
    "... and then calling the `process()` method on that object. It appears to be the same as executing the callable directly: the process is carried out, the cell appears as **`[*]`** (i.e. working) and the notebook as _busy_ and the progress results printed by the callable are written back to the notebook."
   ]
  },
  {
   "cell_type": "code",
   "execution_count": 6,
   "metadata": {
    "collapsed": false
   },
   "outputs": [
    {
     "name": "stdout",
     "output_type": "stream",
     "text": [
      "Launching process ... \n",
      "  1 10  0.91 \b\b\b\b\b\b\b\b\b\b\b\b\b\b\b\b\b\b\b\b\b\b\b\b\b\b\b\b\b\b\b\b\b\b\b\b\b\b\b\b\b\b\b\b\b\b\b\b\b\b\b\b\b\b\b<iteration done>\n",
      "  2 10  2.92 \b\b\b\b\b\b\b\b\b\b\b\b\b\b\b\b\b\b\b\b\b\b\b\b\b\b\b\b\b\b\b\b\b\b\b\b\b\b\b\b\b\b\b\b\b\b\b\b\b\b\b\b\b\b\b<iteration done>\n",
      "  3 10  4.94 \b\b\b\b\b\b\b\b\b\b\b\b\b\b\b\b\b\b\b\b\b\b\b\b\b\b\b\b\b\b\b\b\b\b\b\b\b\b\b\b\b\b\b\b\b\b\b\b\b\b\b\b\b\b\b<iteration done>\n",
      "  4 10  6.96 \b\b\b\b\b\b\b\b\b\b\b\b\b\b\b\b\b\b\b\b\b\b\b\b\b\b\b\b\b\b\b\b\b\b\b\b\b\b\b\b\b\b\b\b\b\b\b\b\b\b\b\b\b\b\b<iteration done>\n",
      "Done! Msg=Hi Param={'param': \"I'm a process\"}\n"
     ]
    }
   ],
   "source": [
    "p.process()"
   ]
  },
  {
   "cell_type": "markdown",
   "metadata": {},
   "source": [
    "But behind the scenes, the printed data has been written to a temporal file, whose contents are automatically loaded upon termination as an internal data object (and the file is also automatically deleted), so they can be reprinted at will:"
   ]
  },
  {
   "cell_type": "code",
   "execution_count": 7,
   "metadata": {
    "collapsed": false
   },
   "outputs": [
    {
     "name": "stdout",
     "output_type": "stream",
     "text": [
      "\r",
      "----- DONE -----\n",
      "\b\b\b\b\b\b\b\b\b\b\b\r",
      "  1  1  0.00 \b\b\b\b\b\b\b\b\b\b\b\r",
      "  1  2  0.10 \b\b\b\b\b\b\b\b\b\b\b\r",
      "  1  3  0.20 \b\b\b\b\b\b\b\b\b\b\b\r",
      "  1  4  0.30 \b\b\b\b\b\b\b\b\b\b\b\r",
      "  1  5  0.40 \b\b\b\b\b\b\b\b\b\b\b\r",
      "  1  6  0.51 \b\b\b\b\b\b\b\b\b\b\b\r",
      "  1  7  0.61 \b\b\b\b\b\b\b\b\b\b\b\r",
      "  1  8  0.71 \b\b\b\b\b\b\b\b\b\b\b\r",
      "  1  9  0.81 \b\b\b\b\b\b\b\b\b\b\b\r",
      "  1 10  0.91 <iteration done>\n",
      "\b\b\b\b\b\b\b\b\b\b\b\r",
      "  2  1  2.01 \b\b\b\b\b\b\b\b\b\b\b\r",
      "  2  2  2.11 \b\b\b\b\b\b\b\b\b\b\b\r",
      "  2  3  2.21 \b\b\b\b\b\b\b\b\b\b\b\r",
      "  2  4  2.32 \b\b\b\b\b\b\b\b\b\b\b\r",
      "  2  5  2.42 \b\b\b\b\b\b\b\b\b\b\b\r",
      "  2  6  2.52 \b\b\b\b\b\b\b\b\b\b\b\r",
      "  2  7  2.62 \b\b\b\b\b\b\b\b\b\b\b\r",
      "  2  8  2.72 \b\b\b\b\b\b\b\b\b\b\b\r",
      "  2  9  2.82 \b\b\b\b\b\b\b\b\b\b\b\r",
      "  2 10  2.92 <iteration done>\n",
      "\b\b\b\b\b\b\b\b\b\b\b\r",
      "  3  1  4.02 \b\b\b\b\b\b\b\b\b\b\b\r",
      "  3  2  4.13 \b\b\b\b\b\b\b\b\b\b\b\r",
      "  3  3  4.23 \b\b\b\b\b\b\b\b\b\b\b\r",
      "  3  4  4.33 \b\b\b\b\b\b\b\b\b\b\b\r",
      "  3  5  4.43 \b\b\b\b\b\b\b\b\b\b\b\r",
      "  3  6  4.53 \b\b\b\b\b\b\b\b\b\b\b\r",
      "  3  7  4.63 \b\b\b\b\b\b\b\b\b\b\b\r",
      "  3  8  4.74 \b\b\b\b\b\b\b\b\b\b\b\r",
      "  3  9  4.84 \b\b\b\b\b\b\b\b\b\b\b\r",
      "  3 10  4.94 <iteration done>\n",
      "\b\b\b\b\b\b\b\b\b\b\b\r",
      "  4  1  6.04 \b\b\b\b\b\b\b\b\b\b\b\r",
      "  4  2  6.14 \b\b\b\b\b\b\b\b\b\b\b\r",
      "  4  3  6.25 \b\b\b\b\b\b\b\b\b\b\b\r",
      "  4  4  6.35 \b\b\b\b\b\b\b\b\b\b\b\r",
      "  4  5  6.45 \b\b\b\b\b\b\b\b\b\b\b\r",
      "  4  6  6.55 \b\b\b\b\b\b\b\b\b\b\b\r",
      "  4  7  6.65 \b\b\b\b\b\b\b\b\b\b\b\r",
      "  4  8  6.75 \b\b\b\b\b\b\b\b\b\b\b\r",
      "  4  9  6.85 \b\b\b\b\b\b\b\b\b\b\b\r",
      "  4 10  6.96 <iteration done>\n",
      "Done! Msg=Hi Param={'param': \"I'm a process\"}\n"
     ]
    }
   ],
   "source": [
    "p.show()"
   ]
  },
  {
   "cell_type": "markdown",
   "metadata": {},
   "source": [
    "### accessing raw data\n",
    "\n",
    "The same output is also available in raw form through the `data` attribute of the object:"
   ]
  },
  {
   "cell_type": "code",
   "execution_count": 8,
   "metadata": {
    "collapsed": false
   },
   "outputs": [
    {
     "data": {
      "text/plain": [
       "'\\x08\\x08\\x08\\x08\\x08\\x08\\x08\\x08\\x08\\x08\\x08\\r  1  1  0.00 \\x08\\x08\\x08\\x08\\x08\\x08\\x08\\x08\\x08\\x08\\x08\\r  1  2  0.10 \\x08\\x08\\x08\\x08\\x08\\x08\\x08\\x08\\x08\\x08\\x08\\r  1  3  0.20 \\x08\\x08\\x08\\x08\\x08\\x08\\x08\\x08\\x08\\x08\\x08\\r  1  4  0.30 \\x08\\x08\\x08\\x08\\x08\\x08\\x08\\x08\\x08\\x08\\x08\\r  1  5  0.40 \\x08\\x08\\x08\\x08\\x08\\x08\\x08\\x08\\x08\\x08\\x08\\r  1  6  0.51 \\x08\\x08\\x08\\x08\\x08\\x08\\x08\\x08\\x08\\x08\\x08\\r  1  7  0.61 \\x08\\x08\\x08\\x08\\x08\\x08\\x08\\x08\\x08\\x08\\x08\\r  1  8  0.71 \\x08\\x08\\x08\\x08\\x08\\x08\\x08\\x08\\x08\\x08\\x08\\r  1  9  0.81 \\x08\\x08\\x08\\x08\\x08\\x08\\x08\\x08\\x08\\x08\\x08\\r  1 10  0.91 <iteration done>\\n\\x08\\x08\\x08\\x08\\x08\\x08\\x08\\x08\\x08\\x08\\x08\\r  2  1  2.01 \\x08\\x08\\x08\\x08\\x08\\x08\\x08\\x08\\x08\\x08\\x08\\r  2  2  2.11 \\x08\\x08\\x08\\x08\\x08\\x08\\x08\\x08\\x08\\x08\\x08\\r  2  3  2.21 \\x08\\x08\\x08\\x08\\x08\\x08\\x08\\x08\\x08\\x08\\x08\\r  2  4  2.32 \\x08\\x08\\x08\\x08\\x08\\x08\\x08\\x08\\x08\\x08\\x08\\r  2  5  2.42 \\x08\\x08\\x08\\x08\\x08\\x08\\x08\\x08\\x08\\x08\\x08\\r  2  6  2.52 \\x08\\x08\\x08\\x08\\x08\\x08\\x08\\x08\\x08\\x08\\x08\\r  2  7  2.62 \\x08\\x08\\x08\\x08\\x08\\x08\\x08\\x08\\x08\\x08\\x08\\r  2  8  2.72 \\x08\\x08\\x08\\x08\\x08\\x08\\x08\\x08\\x08\\x08\\x08\\r  2  9  2.82 \\x08\\x08\\x08\\x08\\x08\\x08\\x08\\x08\\x08\\x08\\x08\\r  2 10  2.92 <iteration done>\\n\\x08\\x08\\x08\\x08\\x08\\x08\\x08\\x08\\x08\\x08\\x08\\r  3  1  4.02 \\x08\\x08\\x08\\x08\\x08\\x08\\x08\\x08\\x08\\x08\\x08\\r  3  2  4.13 \\x08\\x08\\x08\\x08\\x08\\x08\\x08\\x08\\x08\\x08\\x08\\r  3  3  4.23 \\x08\\x08\\x08\\x08\\x08\\x08\\x08\\x08\\x08\\x08\\x08\\r  3  4  4.33 \\x08\\x08\\x08\\x08\\x08\\x08\\x08\\x08\\x08\\x08\\x08\\r  3  5  4.43 \\x08\\x08\\x08\\x08\\x08\\x08\\x08\\x08\\x08\\x08\\x08\\r  3  6  4.53 \\x08\\x08\\x08\\x08\\x08\\x08\\x08\\x08\\x08\\x08\\x08\\r  3  7  4.63 \\x08\\x08\\x08\\x08\\x08\\x08\\x08\\x08\\x08\\x08\\x08\\r  3  8  4.74 \\x08\\x08\\x08\\x08\\x08\\x08\\x08\\x08\\x08\\x08\\x08\\r  3  9  4.84 \\x08\\x08\\x08\\x08\\x08\\x08\\x08\\x08\\x08\\x08\\x08\\r  3 10  4.94 <iteration done>\\n\\x08\\x08\\x08\\x08\\x08\\x08\\x08\\x08\\x08\\x08\\x08\\r  4  1  6.04 \\x08\\x08\\x08\\x08\\x08\\x08\\x08\\x08\\x08\\x08\\x08\\r  4  2  6.14 \\x08\\x08\\x08\\x08\\x08\\x08\\x08\\x08\\x08\\x08\\x08\\r  4  3  6.25 \\x08\\x08\\x08\\x08\\x08\\x08\\x08\\x08\\x08\\x08\\x08\\r  4  4  6.35 \\x08\\x08\\x08\\x08\\x08\\x08\\x08\\x08\\x08\\x08\\x08\\r  4  5  6.45 \\x08\\x08\\x08\\x08\\x08\\x08\\x08\\x08\\x08\\x08\\x08\\r  4  6  6.55 \\x08\\x08\\x08\\x08\\x08\\x08\\x08\\x08\\x08\\x08\\x08\\r  4  7  6.65 \\x08\\x08\\x08\\x08\\x08\\x08\\x08\\x08\\x08\\x08\\x08\\r  4  8  6.75 \\x08\\x08\\x08\\x08\\x08\\x08\\x08\\x08\\x08\\x08\\x08\\r  4  9  6.85 \\x08\\x08\\x08\\x08\\x08\\x08\\x08\\x08\\x08\\x08\\x08\\r  4 10  6.96 <iteration done>\\nDone! Msg=Hi Param={\\'param\\': \"I\\'m a process\"}\\n'"
      ]
     },
     "execution_count": 8,
     "metadata": {},
     "output_type": "execute_result"
    }
   ],
   "source": [
    "p.data"
   ]
  },
  {
   "cell_type": "markdown",
   "metadata": {},
   "source": [
    "Obviously all those control characters make the data a bit difficult to read. We can use the provided `clean_string()` function, which applies backspaces (`\\b`) and carriage returns (`\\r`) as they would be processed were the data sent to standard output:"
   ]
  },
  {
   "cell_type": "code",
   "execution_count": 9,
   "metadata": {
    "collapsed": false
   },
   "outputs": [
    {
     "data": {
      "text/plain": [
       "'  1 10  0.91 <iteration done>\\n  2 10  2.92 <iteration done>\\n  3 10  4.94 <iteration done>\\n  4 10  6.96 <iteration done>\\nDone! Msg=Hi Param={\\'param\\': \"I\\'m a process\"}\\n'"
      ]
     },
     "execution_count": 9,
     "metadata": {},
     "output_type": "execute_result"
    }
   ],
   "source": [
    "cc.clean_string( p.data )"
   ]
  },
  {
   "cell_type": "markdown",
   "metadata": {},
   "source": [
    "### closing and reopening the notebook window\n",
    "\n",
    "More importantly, the `process()` call, though it seems to be blocking it is doing so by actually looping over a check-sleep cycle. The actual process is being carried out in a **background thread**, which will continue saving its results to the temporal file even if the browser window is closed. \n",
    "\n",
    "Opening the notebook later on and executing the `show()` method will print out the results stored in the file. Moreover, it will reconnect the standard output of the process with the notebook cell, so that further output gets back to the notebook. We can test it with a longer running process:"
   ]
  },
  {
   "cell_type": "code",
   "execution_count": 10,
   "metadata": {
    "collapsed": true
   },
   "outputs": [],
   "source": [
    "p2 = cc.ProcessWrap( processing_call, 50, \"Hi\" )"
   ]
  },
  {
   "cell_type": "code",
   "execution_count": null,
   "metadata": {
    "collapsed": false
   },
   "outputs": [
    {
     "name": "stdout",
     "output_type": "stream",
     "text": [
      "Launching process ... \n",
      "  1 10  0.91 \b\b\b\b\b\b\b\b\b\b\b\b\b\b\b\b\b\b\b\b\b\b\b\b\b\b\b\b\b\b\b\b\b\b\b\b\b\b\b\b\b\b\b\b\b\b\b\b\b\b\b\b\b\b\b<iteration done>\n",
      "  2 10  2.93 \b\b\b\b\b\b\b\b\b\b\b\b\b\b\b\b\b\b\b\b\b\b\b\b\b\b\b\b\b\b\b\b\b\b\b\b\b\b\b\b\b\b\b\b\b\b\b\b\b\b\b\b\b\b\b<iteration done>\n",
      "  3 10  4.94 \b\b\b\b\b\b\b\b\b\b\b\b\b\b\b\b\b\b\b\b\b\b\b\b\b\b\b\b\b\b\b\b\b\b\b\b\b\b\b\b\b\b\b\b\b\b\b\b\b\b\b\b\b\b\b<iteration done>\n"
     ]
    }
   ],
   "source": [
    "p2.process()  \n",
    "# after launching execution of this cell, save the notebook & close the browser window \n",
    "# (confirm the warning about leaving the page)"
   ]
  },
  {
   "cell_type": "code",
   "execution_count": 12,
   "metadata": {
    "collapsed": false
   },
   "outputs": [
    {
     "name": "stdout",
     "output_type": "stream",
     "text": [
      "<iteration done>\n",
      "----- RUNNING -----\n",
      "  1 10  0.91 <iteration done>\n",
      "  2 10  2.93 <iteration done>\n",
      "  3 10  4.94 <iteration done>\n",
      "  4 10  6.95 <iteration done>\n",
      "  5 10  8.96 <iteration done>\n",
      "  6 10 10.97 <iteration done>\n",
      "  7 10 12.98 <iteration done>\n",
      "  8 10 14.99 <iteration done>\n",
      "  9 10 17.00 <iteration done>\n",
      " 10 10 19.02 <iteration done>\n",
      " 11 10 21.03 <iteration done>\n",
      " 12 10 23.04 <iteration done>\n",
      " 13 10 25.05 <iteration done>\n",
      " 14 10 27.07 <iteration done>\n",
      " 15 10 29.08 <iteration done>\n",
      " 16 10 31.10 <iteration done>\n",
      " 17 10 33.11 <iteration done>\n",
      " 18 10 35.13 <iteration done>\n",
      " 19 10 37.14 <iteration done>\n",
      " 20 10 39.16 <iteration done>\n",
      " 21 10 41.17 <iteration done>\n",
      " 22 10 43.18 <iteration done>\n",
      " 23 10 45.20 <iteration done>\n",
      " 24 10 47.21 <iteration done>\n",
      " 25 10 49.23 <iteration done>\n",
      " 26 10 51.24 \b\b\b\b\b\b\b\b\b\b\b\b\b\b\b\b\b\b\b\b\b\b\b\b\b\b\b\b\b\b\b\b\b\b\b\b\b\b\b\b\b\b\b\b\b\b\b\b\b\b\b\b\b\b\b<iteration done>\n",
      " 27 10 53.25 \b\b\b\b\b\b\b\b\b\b\b\b\b\b\b\b\b\b\b\b\b\b\b\b\b\b\b\b\b\b\b\b\b\b\b\b\b\b\b\b\b\b\b\b\b\b\b\b\b\b\b\b\b\b\b<iteration done>\n",
      " 28 10 55.27 \b\b\b\b\b\b\b\b\b\b\b\b\b\b\b\b\b\b\b\b\b\b\b\b\b\b\b\b\b\b\b\b\b\b\b\b\b\b\b\b\b\b\b\b\b\b\b\b\b\b\b\b\b\b\b<iteration done>\n",
      " 29 10 57.28 \b\b\b\b\b\b\b\b\b\b\b\b\b\b\b\b\b\b\b\b\b\b\b\b\b\b\b\b\b\b\b\b\b\b\b\b\b\b\b\b\b\b\b\b\b\b\b\b\b\b\b\b\b\b\b<iteration done>\n",
      " 30 10 59.30 \b\b\b\b\b\b\b\b\b\b\b\b\b\b\b\b\b\b\b\b\b\b\b\b\b\b\b\b\b\b\b\b\b\b\b\b\b\b\b\b\b\b\b\b\b\b\b\b\b\b\b\b\b\b\b<iteration done>\n",
      " 31 10 61.32 \b\b\b\b\b\b\b\b\b\b\b\b\b\b\b\b\b\b\b\b\b\b\b\b\b\b\b\b\b\b\b\b\b\b\b\b\b\b\b\b\b\b\b\b\b\b\b\b\b\b\b\b\b\b\b<iteration done>\n",
      " 32 10 63.33 \b\b\b\b\b\b\b\b\b\b\b\b\b\b\b\b\b\b\b\b\b\b\b\b\b\b\b\b\b\b\b\b\b\b\b\b\b\b\b\b\b\b\b\b\b\b\b\b\b\b\b\b\b\b\b<iteration done>\n",
      " 33 10 65.34 \b\b\b\b\b\b\b\b\b\b\b\b\b\b\b\b\b\b\b\b\b\b\b\b\b\b\b\b\b\b\b\b\b\b\b\b\b\b\b\b\b\b\b\b\b\b\b\b\b\b\b\b\b\b\b<iteration done>\n",
      " 34 10 67.36 \b\b\b\b\b\b\b\b\b\b\b\b\b\b\b\b\b\b\b\b\b\b\b\b\b\b\b\b\b\b\b\b\b\b\b\b\b\b\b\b\b\b\b\b\b\b\b\b\b\b\b\b\b\b\b<iteration done>\n",
      " 35 10 69.37 \b\b\b\b\b\b\b\b\b\b\b\b\b\b\b\b\b\b\b\b\b\b\b\b\b\b\b\b\b\b\b\b\b\b\b\b\b\b\b\b\b\b\b\b\b\b\b\b\b\b\b\b\b\b\b<iteration done>\n",
      " 36 10 71.39 \b\b\b\b\b\b\b\b\b\b\b\b\b\b\b\b\b\b\b\b\b\b\b\b\b\b\b\b\b\b\b\b\b\b\b\b\b\b\b\b\b\b\b\b\b\b\b\b\b\b\b\b\b\b\b<iteration done>\n",
      " 37 10 73.40 \b\b\b\b\b\b\b\b\b\b\b\b\b\b\b\b\b\b\b\b\b\b\b\b\b\b\b\b\b\b\b\b\b\b\b\b\b\b\b\b\b\b\b\b\b\b\b\b\b\b\b\b\b\b\b<iteration done>\n",
      " 38 10 75.42 \b\b\b\b\b\b\b\b\b\b\b\b\b\b\b\b\b\b\b\b\b\b\b\b\b\b\b\b\b\b\b\b\b\b\b\b\b\b\b\b\b\b\b\b\b\b\b\b\b\b\b\b\b\b\b<iteration done>\n",
      " 39 10 77.43 \b\b\b\b\b\b\b\b\b\b\b\b\b\b\b\b\b\b\b\b\b\b\b\b\b\b\b\b\b\b\b\b\b\b\b\b\b\b\b\b\b\b\b\b\b\b\b\b\b\b\b\b\b\b\b<iteration done>\n",
      " 40 10 79.45 \b\b\b\b\b\b\b\b\b\b\b\b\b\b\b\b\b\b\b\b\b\b\b\b\b\b\b\b\b\b\b\b\b\b\b\b\b\b\b\b\b\b\b\b\b\b\b\b\b\b\b\b\b\b\b<iteration done>\n",
      " 41 10 81.46 \b\b\b\b\b\b\b\b\b\b\b\b\b\b\b\b\b\b\b\b\b\b\b\b\b\b\b\b\b\b\b\b\b\b\b\b\b\b\b\b\b\b\b\b\b\b\b\b\b\b\b\b\b\b\b<iteration done>\n",
      " 42 10 83.48 \b\b\b\b\b\b\b\b\b\b\b\b\b\b\b\b\b\b\b\b\b\b\b\b\b\b\b\b\b\b\b\b\b\b\b\b\b\b\b\b\b\b\b\b\b\b\b\b\b\b\b\b\b\b\b<iteration done>\n",
      " 43 10 85.49 \b\b\b\b\b\b\b\b\b\b\b\b\b\b\b\b\b\b\b\b\b\b\b\b\b\b\b\b\b\b\b\b\b\b\b\b\b\b\b\b\b\b\b\b\b\b\b\b\b\b\b\b\b\b\b<iteration done>\n",
      " 44 10 87.51 \b\b\b\b\b\b\b\b\b\b\b\b\b\b\b\b\b\b\b\b\b\b\b\b\b\b\b\b\b\b\b\b\b\b\b\b\b\b\b\b\b\b\b\b\b\b\b\b\b\b\b\b\b\b\b<iteration done>\n",
      " 45 10 89.52 \b\b\b\b\b\b\b\b\b\b\b\b\b\b\b\b\b\b\b\b\b\b\b\b\b\b\b\b\b\b\b\b\b\b\b\b\b\b\b\b\b\b\b\b\b\b\b\b\b\b\b\b\b\b\b<iteration done>\n",
      " 46 10 91.54 \b\b\b\b\b\b\b\b\b\b\b\b\b\b\b\b\b\b\b\b\b\b\b\b\b\b\b\b\b\b\b\b\b\b\b\b\b\b\b\b\b\b\b\b\b\b\b\b\b\b\b\b\b\b\b<iteration done>\n",
      " 47 10 93.55 \b\b\b\b\b\b\b\b\b\b\b\b\b\b\b\b\b\b\b\b\b\b\b\b\b\b\b\b\b\b\b\b\b\b\b\b\b\b\b\b\b\b\b\b\b\b\b\b\b\b\b\b\b\b\b<iteration done>\n",
      " 48 10 95.57 \b\b\b\b\b\b\b\b\b\b\b\b\b\b\b\b\b\b\b\b\b\b\b\b\b\b\b\b\b\b\b\b\b\b\b\b\b\b\b\b\b\b\b\b\b\b\b\b\b\b\b\b\b\b\b<iteration done>\n",
      " 49 10 97.59 \b\b\b\b\b\b\b\b\b\b\b\b\b\b\b\b\b\b\b\b\b\b\b\b\b\b\b\b\b\b\b\b\b\b\b\b\b\b\b\b\b\b\b\b\b\b\b\b\b\b\b\b\b\b\b<iteration done>\n",
      " 50 10 99.60 \b\b\b\b\b\b\b\b\b\b\b\b\b\b\b\b\b\b\b\b\b\b\b\b\b\b\b\b\b\b\b\b\b\b\b\b\b\b\b\b\b\b\b\b\b\b\b\b\b\b\b\b\b\b\b<iteration done>\n",
      "Done! Msg=Hi Param={}\n"
     ]
    }
   ],
   "source": [
    "# Then come back again here, INTERRUPT the kernel and execute this cell. \n",
    "# It should print all output received so far, and continue from there\n",
    "p2.show() "
   ]
  },
  {
   "cell_type": "markdown",
   "metadata": {},
   "source": [
    "There is one caveat: as seen in the previous cell, the `process()` call was blocking the notebook (by doing the mentioned check-sleep cycle), so coming back to the notebook (opening its window again) will make it appear unresponsive. \n",
    "\n",
    "You will need to **interrupt** the kernel to stop that `process()` cell so that it is possible to execute a `show()` cell. This is not as disruptive as it seems, since what it is being interrupted is *the foreground process*, not the background thread that it is doing the real processing. But nevertheless if it is known for sure that the window will be closed and reopened, it will be better to use the non-blocking call below.\n",
    "\n",
    "## Non-blocking usage\n",
    "\n",
    "This modality works the same way, but adding the `block=False` parameter to the `process()` method: "
   ]
  },
  {
   "cell_type": "code",
   "execution_count": 13,
   "metadata": {
    "collapsed": false
   },
   "outputs": [],
   "source": [
    "pn = cc.ProcessWrap( processing_call, 50, \"Look! NonBlocking!\" )"
   ]
  },
  {
   "cell_type": "code",
   "execution_count": 14,
   "metadata": {
    "collapsed": false
   },
   "outputs": [
    {
     "name": "stdout",
     "output_type": "stream",
     "text": [
      "Launching process ... \n",
      "  1 10  0.91 \b\b\b\b\b\b\b\b\b\b\b\b\b\b\b\b\b\b\b\b\b\b\b\b\b\b\b\b\b\b\b\b\b\b\b\b\b\b\b\b\b\b\b\b\b\b\b\b\b\b\b\b\b\b\b\b\b\b\b\b\b\b\b\b\b\b\b\b\b\b\b\b\b\b\b\b\b\b\b\b\b\b\b\b\b\b\b\b\b\b\b\b\b\b\b\b\b\b\b<iteration done>\n",
      "  2 10  2.92 <iteration done>\b\b\b\b\b\b\b\b\b\b\b\b\b\b\b\b\b\b\b\b\b\b\b\b\b\b\b\b\b\b\b\b\b\b\b\b\b\b\b\n",
      "  3 10  4.94 \b\b\b\b\b\b\b\b\b\b\b\b\b\b\b\b\b\b\b\b\b\b\b\b\b\b\b\b\b\b\b\b\b\b\b\b\b\b\b\b\b\b\b\b\b\b\b\b\b\b\b\b\b\b\b<iteration done>\n",
      "  4 10  6.95 \b\b\b\b\b\b\b\b\b\b\b\b\b\b\b\b\b\b\b\b\b\b\b\b\b\b\b\b\b\b\b\b\b\b\b\b\b\b\b\b\b\b\b\b\b\b\b\b\b\b\b\b\b\b\b<iteration done>\n",
      "  5 10  8.97 \b\b\b\b\b\b\b\b\b\b\b\b\b\b\b\b\b\b\b\b\b\b\b\b\b\b\b\b\b\b\b\b\b\b\b\b\b\b\b\b\b\b\b\b\b\b\b\b\b\b\b\b\b\b\b<iteration done>\n",
      "  6 10 10.98 \b\b\b\b\b\b\b\b\b\b\b\b\b\b\b\b\b\b\b\b\b\b\b\b\b\b\b\b\b\b\b\b\b\b\b\b\b\b\b\b\b\b\b\b\b\b\b\b\b\b\b\b\b\b\b<iteration done>\n"
     ]
    }
   ],
   "source": [
    "pn.process( block=False )\n",
    "# Now the notebook appears free to use (not busy), though the background thread \n",
    "# is still pushing text to the cell output\n",
    "# We can save & close the notebook here. There will still be a \"confirm\" warning, probably."
   ]
  },
  {
   "cell_type": "code",
   "execution_count": 15,
   "metadata": {
    "collapsed": false
   },
   "outputs": [
    {
     "name": "stdout",
     "output_type": "stream",
     "text": [
      "----- RUNNING -----\n",
      "  1 10  0.91 <iteration done>\n",
      "  2 10  2.92 <iteration done>\n",
      "  3 10  4.94 <iteration done>\n",
      "  4 10  6.95 <iteration done>\n",
      "  5 10  8.97 <iteration done>\n",
      "  6 10 10.98 <iteration done>\n",
      "  7 10 12.99 <iteration done>\n",
      "  8 10 15.00 <iteration done>\n",
      "  9 10 17.01 <iteration done>\n",
      " 10 10 19.02 <iteration done>\n",
      " 11 10 21.03 <iteration done>\n",
      " 12 10 23.04 <iteration done>\n",
      " 13 10 25.05 <iteration done>\n",
      " 14 10 27.07 \b\b\b\b\b\b\b\b\b\b\b\b\b\b\b\b\b\b\b\b\b\b\b\b\b\b\b\b\b\b\b\b\b\b\b\b\b\b\b\b\b\b\b\b\b\b\b\b\b\b\b\b\b\b\b<iteration done>\n",
      " 15 10 29.08 \b\b\b\b\b\b\b\b\b\b\b\b\b\b\b\b\b\b\b\b\b\b\b\b\b\b\b\b\b\b\b\b\b\b\b\b\b\b\b\b\b\b\b\b\b\b\b\b\b\b\b\b\b\b\b<iteration done>\n",
      " 16 10 31.09 \b\b\b\b\b\b\b\b\b\b\b\b\b\b\b\b\b\b\b\b\b\b\b\b\b\b\b\b\b\b\b\b\b\b\b\b\b\b\b\b\b\b\b\b\b\b\b\b\b\b\b\b\b\b\b<iteration done>\n",
      " 17 10 33.10 \b\b\b\b\b\b\b\b\b\b\b\b\b\b\b\b\b\b\b\b\b\b\b\b\b\b\b\b\b\b\b\b\b\b\b\b\b\b\b\b\b\b\b\b\b\b\b\b\b\b\b\b\b\b\b<iteration done>\n",
      " 18 10 35.11 \b\b\b\b\b\b\b\b\b\b\b\b\b\b\b\b\b\b\b\b\b\b\b\b\b\b\b\b\b\b\b\b\b\b\b\b\b\b\b\b\b\b\b\b\b\b\b\b\b\b\b\b\b\b\b<iteration done>\n",
      " 19 10 37.13 \b\b\b\b\b\b\b\b\b\b\b\b\b\b\b\b\b\b\b\b\b\b\b\b\b\b\b\b\b\b\b\b\b\b\b\b\b\b\b\b\b\b\b\b\b\b\b\b\b\b\b\b\b\b\b<iteration done>\n",
      " 20 10 39.14 \b\b\b\b\b\b\b\b\b\b\b\b\b\b\b\b\b\b\b\b\b\b\b\b\b\b\b\b\b\b\b\b\b\b\b\b\b\b\b\b\b\b\b\b\b\b\b\b\b\b\b\b\b\b\b<iteration done>\n",
      " 21 10 41.16 \b\b\b\b\b\b\b\b\b\b\b\b\b\b\b\b\b\b\b\b\b\b\b\b\b\b\b\b\b\b\b\b\b\b\b\b\b\b\b\b\b\b\b\b\b\b\b\b\b\b\b\b\b\b\b<iteration done>\n",
      " 22 10 43.17 \b\b\b\b\b\b\b\b\b\b\b\b\b\b\b\b\b\b\b\b\b\b\b\b\b\b\b\b\b\b\b\b\b\b\b\b\b\b\b\b\b\b\b\b\b\b\b\b\b\b\b\b\b\b\b<iteration done>\n",
      " 23 10 45.19 \b\b\b\b\b\b\b\b\b\b\b\b\b\b\b\b\b\b\b\b\b\b\b\b\b\b\b\b\b\b\b\b\b\b\b\b\b\b\b\b\b\b\b\b\b\b\b\b\b\b\b\b\b\b\b<iteration done>\n",
      " 24 10 47.20 \b\b\b\b\b\b\b\b\b\b\b\b\b\b\b\b\b\b\b\b\b\b\b\b\b\b\b\b\b\b\b\b\b\b\b\b\b\b\b\b\b\b\b\b\b\b\b\b\b\b\b\b\b\b\b<iteration done>\n",
      " 25 10 49.22 \b\b\b\b\b\b\b\b\b\b\b\b\b\b\b\b\b\b\b\b\b\b\b\b\b\b\b\b\b\b\b\b\b\b\b\b\b\b\b\b\b\b\b\b\b\b\b\b\b\b\b\b\b\b\b<iteration done>\n",
      " 26 10 51.24 \b\b\b\b\b\b\b\b\b\b\b\b\b\b\b\b\b\b\b\b\b\b\b\b\b\b\b\b\b\b\b\b\b\b\b\b\b\b\b\b\b\b\b\b\b\b\b\b\b\b\b\b\b\b\b<iteration done>\n",
      " 27 10 53.25 \b\b\b\b\b\b\b\b\b\b\b\b\b\b\b\b\b\b\b\b\b\b\b\b\b\b\b\b\b\b\b\b\b\b\b\b\b\b\b\b\b\b\b\b\b\b\b\b\b\b\b\b\b\b\b<iteration done>\n",
      " 28 10 55.27 \b\b\b\b\b\b\b\b\b\b\b\b\b\b\b\b\b\b\b\b\b\b\b\b\b\b\b\b\b\b\b\b\b\b\b\b\b\b\b\b\b\b\b\b\b\b\b\b\b\b\b\b\b\b\b<iteration done>\n",
      " 29 10 57.28 \b\b\b\b\b\b\b\b\b\b\b\b\b\b\b\b\b\b\b\b\b\b\b\b\b\b\b\b\b\b\b\b\b\b\b\b\b\b\b\b\b\b\b\b\b\b\b\b\b\b\b\b\b\b\b<iteration done>\n",
      " 30 10 59.30 \b\b\b\b\b\b\b\b\b\b\b\b\b\b\b\b\b\b\b\b\b\b\b\b\b\b\b\b\b\b\b\b\b\b\b\b\b\b\b\b\b\b\b\b\b\b\b\b\b\b\b\b\b\b\b<iteration done>\n",
      " 31 10 61.31 \b\b\b\b\b\b\b\b\b\b\b\b\b\b\b\b\b\b\b\b\b\b\b\b\b\b\b\b\b\b\b\b\b\b\b\b\b\b\b\b\b\b\b\b\b\b\b\b\b\b\b\b\b\b\b<iteration done>\n",
      " 32 10 63.33 \b\b\b\b\b\b\b\b\b\b\b\b\b\b\b\b\b\b\b\b\b\b\b\b\b\b\b\b\b\b\b\b\b\b\b\b\b\b\b\b\b\b\b\b\b\b\b\b\b\b\b\b\b\b\b<iteration done>\n",
      " 33 10 65.35 \b\b\b\b\b\b\b\b\b\b\b\b\b\b\b\b\b\b\b\b\b\b\b\b\b\b\b\b\b\b\b\b\b\b\b\b\b\b\b\b\b\b\b\b\b\b\b\b\b\b\b\b\b\b\b<iteration done>\n",
      " 34 10 67.36 \b\b\b\b\b\b\b\b\b\b\b\b\b\b\b\b\b\b\b\b\b\b\b\b\b\b\b\b\b\b\b\b\b\b\b\b\b\b\b\b\b\b\b\b\b\b\b\b\b\b\b\b\b\b\b<iteration done>\n",
      " 35 10 69.38 \b\b\b\b\b\b\b\b\b\b\b\b\b\b\b\b\b\b\b\b\b\b\b\b\b\b\b\b\b\b\b\b\b\b\b\b\b\b\b\b\b\b\b\b<iteration done>\n",
      " 36 10 71.39 \b\b\b\b\b\b\b\b\b\b\b\b\b\b\b\b\b\b\b\b\b\b\b\b\b\b\b\b\b\b\b\b\b\b\b\b\b\b\b\b\b\b\b\b\b\b\b\b\b\b\b\b\b\b\b<iteration done>\n",
      " 37 10 73.41 \b\b\b\b\b\b\b\b\b\b\b\b\b\b\b\b\b\b\b\b\b\b\b\b\b\b\b\b\b\b\b\b\b\b\b\b\b\b\b\b\b\b\b\b\b\b\b\b\b\b\b\b\b\b\b<iteration done>\n",
      " 38 10 75.42 \b\b\b\b\b\b\b\b\b\b\b\b\b\b\b\b\b\b\b\b\b\b\b\b\b\b\b\b\b\b\b\b\b\b\b\b\b\b\b\b\b\b\b\b\b\b\b\b\b\b\b\b\b\b\b<iteration done>\n",
      " 39 10 77.44 \b\b\b\b\b\b\b\b\b\b\b\b\b\b\b\b\b\b\b\b\b\b\b\b\b\b\b\b\b\b\b\b\b\b\b\b\b\b\b\b\b\b\b\b\b\b\b\b\b\b\b\b\b\b\b<iteration done>\n",
      " 40 10 79.45 \b\b\b\b\b\b\b\b\b\b\b\b\b\b\b\b\b\b\b\b\b\b\b\b\b\b\b\b\b\b\b\b\b\b\b\b\b\b\b\b\b\b\b\b\b\b\b\b\b\b\b\b\b\b\b<iteration done>\n",
      " 41 10 81.47 \b\b\b\b\b\b\b\b\b\b\b\b\b\b\b\b\b\b\b\b\b\b\b\b\b\b\b\b\b\b\b\b\b\b\b\b\b\b\b\b\b\b\b\b\b\b\b\b\b\b\b\b\b\b\b<iteration done>\n",
      " 42 10 83.48 \b\b\b\b\b\b\b\b\b\b\b\b\b\b\b\b\b\b\b\b\b\b\b\b\b\b\b\b\b\b\b\b\b\b\b\b\b\b\b\b\b\b\b\b\b\b\b\b\b\b\b\b\b\b\b<iteration done>\n",
      " 43 10 85.50 \b\b\b\b\b\b\b\b\b\b\b\b\b\b\b\b\b\b\b\b\b\b\b\b\b\b\b\b\b\b\b\b\b\b\b\b\b\b\b\b\b\b\b\b\b\b\b\b\b\b\b\b\b\b\b<iteration done>\n",
      " 44 10 87.51 \b\b\b\b\b\b\b\b\b\b\b\b\b\b\b\b\b\b\b\b\b\b\b\b\b\b\b\b\b\b\b\b\b\b\b\b\b\b\b\b\b\b\b\b\b\b\b\b\b\b\b\b\b\b\b<iteration done>\n",
      " 45 10 89.53 \b\b\b\b\b\b\b\b\b\b\b\b\b\b\b\b\b\b\b\b\b\b\b\b\b\b\b\b\b\b\b\b\b\b\b\b\b\b\b\b\b\b\b\b\b\b\b\b\b\b\b\b\b\b\b<iteration done>\n",
      " 46 10 91.54 \b\b\b\b\b\b\b\b\b\b\b\b\b\b\b\b\b\b\b\b\b\b\b\b\b\b\b\b\b\b\b\b\b\b\b\b\b\b\b\b\b\b\b\b\b\b\b\b\b\b\b\b\b\b\b<iteration done>\n",
      " 47 10 93.56 \b\b\b\b\b\b\b\b\b\b\b\b\b\b\b\b\b\b\b\b\b\b\b\b\b\b\b\b\b\b\b\b\b\b\b\b\b\b\b\b\b\b\b\b\b\b\b\b\b\b\b\b\b\b\b<iteration done>\n",
      " 48 10 95.57 \b\b\b\b\b\b\b\b\b\b\b\b\b\b\b\b\b\b\b\b\b\b\b\b\b\b\b\b\b\b\b\b\b\b\b\b\b\b\b\b\b\b\b\b\b\b\b\b\b\b\b\b\b\b\b<iteration done>\n",
      " 49 10 97.59 \b\b\b\b\b\b\b\b\b\b\b\b\b\b\b\b\b\b\b\b\b\b\b\b\b\b\b\b\b\b\b\b\b\b\b\b\b\b\b\b\b\b\b\b\b\b\b\b\b\b\b\b\b\b\b<iteration done>\n",
      " 50 10 99.60 \b\b\b\b\b\b\b\b\b\b\b\b\b\b\b\b\b\b\b\b\b\b\b\b\b\b\b\b\b\b\b\b\b\b\b\b\b\b\b\b\b\b\b\b\b\b\b\b\b\b\b\b\b\b\b<iteration done>\n",
      "Done! Msg=Look! NonBlocking! Param={}\n"
     ]
    }
   ],
   "source": [
    "# After coming back to the notebook, in this modality it is no longer necessary to interrupt the kernel. \n",
    "# Just execute this cell to reconnect with the processing cell output\n",
    "pn.show()"
   ]
  },
  {
   "cell_type": "code",
   "execution_count": 16,
   "metadata": {
    "collapsed": false
   },
   "outputs": [
    {
     "name": "stdout",
     "output_type": "stream",
     "text": [
      "\r",
      "----- DONE -----\n",
      "\b\b\b\b\b\b\b\b\b\b\b\r",
      "  1  1  0.00 \b\b\b\b\b\b\b\b\b\b\b\r",
      "  1  2  0.10 \b\b\b\b\b\b\b\b\b\b\b\r",
      "  1  3  0.20 \b\b\b\b\b\b\b\b\b\b\b\r",
      "  1  4  0.30 \b\b\b\b\b\b\b\b\b\b\b\r",
      "  1  5  0.40 \b\b\b\b\b\b\b\b\b\b\b\r",
      "  1  6  0.51 \b\b\b\b\b\b\b\b\b\b\b\r",
      "  1  7  0.61 \b\b\b\b\b\b\b\b\b\b\b\r",
      "  1  8  0.71 \b\b\b\b\b\b\b\b\b\b\b\r",
      "  1  9  0.81 \b\b\b\b\b\b\b\b\b\b\b\r",
      "  1 10  0.91 <iteration done>\n",
      "\b\b\b\b\b\b\b\b\b\b\b\r",
      "  2  1  2.01 \b\b\b\b\b\b\b\b\b\b\b\r",
      "  2  2  2.11 \b\b\b\b\b\b\b\b\b\b\b\r",
      "  2  3  2.22 \b\b\b\b\b\b\b\b\b\b\b\r",
      "  2  4  2.32 \b\b\b\b\b\b\b\b\b\b\b\r",
      "  2  5  2.42 \b\b\b\b\b\b\b\b\b\b\b\r",
      "  2  6  2.52 \b\b\b\b\b\b\b\b\b\b\b\r",
      "  2  7  2.62 \b\b\b\b\b\b\b\b\b\b\b\r",
      "  2  8  2.72 \b\b\b\b\b\b\b\b\b\b\b\r",
      "  2  9  2.82 \b\b\b\b\b\b\b\b\b\b\b\r",
      "  2 10  2.92 <iteration done>\n",
      "\b\b\b\b\b\b\b\b\b\b\b\r",
      "  3  1  4.02 \b\b\b\b\b\b\b\b\b\b\b\r",
      "  3  2  4.13 \b\b\b\b\b\b\b\b\b\b\b\r",
      "  3  3  4.23 \b\b\b\b\b\b\b\b\b\b\b\r",
      "  3  4  4.33 \b\b\b\b\b\b\b\b\b\b\b\r",
      "  3  5  4.43 \b\b\b\b\b\b\b\b\b\b\b\r",
      "  3  6  4.53 \b\b\b\b\b\b\b\b\b\b\b\r",
      "  3  7  4.63 \b\b\b\b\b\b\b\b\b\b\b\r",
      "  3  8  4.74 \b\b\b\b\b\b\b\b\b\b\b\r",
      "  3  9  4.84 \b\b\b\b\b\b\b\b\b\b\b\r",
      "  3 10  4.94 <iteration done>\n",
      "\b\b\b\b\b\b\b\b\b\b\b\r",
      "  4  1  6.04 \b\b\b\b\b\b\b\b\b\b\b\r",
      "  4  2  6.14 \b\b\b\b\b\b\b\b\b\b\b\r",
      "  4  3  6.24 \b\b\b\b\b\b\b\b\b\b\b\r",
      "  4  4  6.35 \b\b\b\b\b\b\b\b\b\b\b\r",
      "  4  5  6.45 \b\b\b\b\b\b\b\b\b\b\b\r",
      "  4  6  6.55 \b\b\b\b\b\b\b\b\b\b\b\r",
      "  4  7  6.65 \b\b\b\b\b\b\b\b\b\b\b\r",
      "  4  8  6.75 \b\b\b\b\b\b\b\b\b\b\b\r",
      "  4  9  6.85 \b\b\b\b\b\b\b\b\b\b\b\r",
      "  4 10  6.95 <iteration done>\n",
      "\b\b\b\b\b\b\b\b\b\b\b\r",
      "  5  1  8.06 \b\b\b\b\b\b\b\b\b\b\b\r",
      "  5  2  8.16 \b\b\b\b\b\b\b\b\b\b\b\r",
      "  5  3  8.26 \b\b\b\b\b\b\b\b\b\b\b\r",
      "  5  4  8.36 \b\b\b\b\b\b\b\b\b\b\b\r",
      "  5  5  8.46 \b\b\b\b\b\b\b\b\b\b\b\r",
      "  5  6  8.56 \b\b\b\b\b\b\b\b\b\b\b\r",
      "  5  7  8.66 \b\b\b\b\b\b\b\b\b\b\b\r",
      "  5  8  8.76 \b\b\b\b\b\b\b\b\b\b\b\r",
      "  5  9  8.87 \b\b\b\b\b\b\b\b\b\b\b\r",
      "  5 10  8.97 <iteration done>\n",
      "\b\b\b\b\b\b\b\b\b\b\b\r",
      "  6  1 10.07 \b\b\b\b\b\b\b\b\b\b\b\r",
      "  6  2 10.17 \b\b\b\b\b\b\b\b\b\b\b\r",
      "  6  3 10.27 \b\b\b\b\b\b\b\b\b\b\b\r",
      "  6  4 10.37 \b\b\b\b\b\b\b\b\b\b\b\r",
      "  6  5 10.48 \b\b\b\b\b\b\b\b\b\b\b\r",
      "  6  6 10.58 \b\b\b\b\b\b\b\b\b\b\b\r",
      "  6  7 10.68 \b\b\b\b\b\b\b\b\b\b\b\r",
      "  6  8 10.78 \b\b\b\b\b\b\b\b\b\b\b\r",
      "  6  9 10.88 \b\b\b\b\b\b\b\b\b\b\b\r",
      "  6 10 10.98 <iteration done>\n",
      "\b\b\b\b\b\b\b\b\b\b\b\r",
      "  7  1 12.08 \b\b\b\b\b\b\b\b\b\b\b\r",
      "  7  2 12.18 \b\b\b\b\b\b\b\b\b\b\b\r",
      "  7  3 12.29 \b\b\b\b\b\b\b\b\b\b\b\r",
      "  7  4 12.39 \b\b\b\b\b\b\b\b\b\b\b\r",
      "  7  5 12.49 \b\b\b\b\b\b\b\b\b\b\b\r",
      "  7  6 12.59 \b\b\b\b\b\b\b\b\b\b\b\r",
      "  7  7 12.69 \b\b\b\b\b\b\b\b\b\b\b\r",
      "  7  8 12.79 \b\b\b\b\b\b\b\b\b\b\b\r",
      "  7  9 12.89 \b\b\b\b\b\b\b\b\b\b\b\r",
      "  7 10 12.99 <iteration done>\n",
      "\b\b\b\b\b\b\b\b\b\b\b\r",
      "  8  1 14.10 \b\b\b\b\b\b\b\b\b\b\b\r",
      "  8  2 14.20 \b\b\b\b\b\b\b\b\b\b\b\r",
      "  8  3 14.30 \b\b\b\b\b\b\b\b\b\b\b\r",
      "  8  4 14.40 \b\b\b\b\b\b\b\b\b\b\b\r",
      "  8  5 14.50 \b\b\b\b\b\b\b\b\b\b\b\r",
      "  8  6 14.60 \b\b\b\b\b\b\b\b\b\b\b\r",
      "  8  7 14.70 \b\b\b\b\b\b\b\b\b\b\b\r",
      "  8  8 14.80 \b\b\b\b\b\b\b\b\b\b\b\r",
      "  8  9 14.90 \b\b\b\b\b\b\b\b\b\b\b\r",
      "  8 10 15.00 <iteration done>\n",
      "\b\b\b\b\b\b\b\b\b\b\b\r",
      "  9  1 16.10 \b\b\b\b\b\b\b\b\b\b\b\r",
      "  9  2 16.20 \b\b\b\b\b\b\b\b\b\b\b\r",
      "  9  3 16.31 \b\b\b\b\b\b\b\b\b\b\b\r",
      "  9  4 16.41 \b\b\b\b\b\b\b\b\b\b\b\r",
      "  9  5 16.51 \b\b\b\b\b\b\b\b\b\b\b\r",
      "  9  6 16.61 \b\b\b\b\b\b\b\b\b\b\b\r",
      "  9  7 16.71 \b\b\b\b\b\b\b\b\b\b\b\r",
      "  9  8 16.81 \b\b\b\b\b\b\b\b\b\b\b\r",
      "  9  9 16.91 \b\b\b\b\b\b\b\b\b\b\b\r",
      "  9 10 17.01 <iteration done>\n",
      "\b\b\b\b\b\b\b\b\b\b\b\r",
      " 10  1 18.11 \b\b\b\b\b\b\b\b\b\b\b\r",
      " 10  2 18.21 \b\b\b\b\b\b\b\b\b\b\b\r",
      " 10  3 18.31 \b\b\b\b\b\b\b\b\b\b\b\r",
      " 10  4 18.41 \b\b\b\b\b\b\b\b\b\b\b\r",
      " 10  5 18.51 \b\b\b\b\b\b\b\b\b\b\b\r",
      " 10  6 18.61 \b\b\b\b\b\b\b\b\b\b\b\r",
      " 10  7 18.72 \b\b\b\b\b\b\b\b\b\b\b\r",
      " 10  8 18.82 \b\b\b\b\b\b\b\b\b\b\b\r",
      " 10  9 18.92 \b\b\b\b\b\b\b\b\b\b\b\r",
      " 10 10 19.02 <iteration done>\n",
      "\b\b\b\b\b\b\b\b\b\b\b\r",
      " 11  1 20.12 \b\b\b\b\b\b\b\b\b\b\b\r",
      " 11  2 20.22 \b\b\b\b\b\b\b\b\b\b\b\r",
      " 11  3 20.32 \b\b\b\b\b\b\b\b\b\b\b\r",
      " 11  4 20.42 \b\b\b\b\b\b\b\b\b\b\b\r",
      " 11  5 20.52 \b\b\b\b\b\b\b\b\b\b\b\r",
      " 11  6 20.63 \b\b\b\b\b\b\b\b\b\b\b\r",
      " 11  7 20.73 \b\b\b\b\b\b\b\b\b\b\b\r",
      " 11  8 20.83 \b\b\b\b\b\b\b\b\b\b\b\r",
      " 11  9 20.93 \b\b\b\b\b\b\b\b\b\b\b\r",
      " 11 10 21.03 <iteration done>\n",
      "\b\b\b\b\b\b\b\b\b\b\b\r",
      " 12  1 22.13 \b\b\b\b\b\b\b\b\b\b\b\r",
      " 12  2 22.23 \b\b\b\b\b\b\b\b\b\b\b\r",
      " 12  3 22.33 \b\b\b\b\b\b\b\b\b\b\b\r",
      " 12  4 22.44 \b\b\b\b\b\b\b\b\b\b\b\r",
      " 12  5 22.54 \b\b\b\b\b\b\b\b\b\b\b\r",
      " 12  6 22.64 \b\b\b\b\b\b\b\b\b\b\b\r",
      " 12  7 22.74 \b\b\b\b\b\b\b\b\b\b\b\r",
      " 12  8 22.84 \b\b\b\b\b\b\b\b\b\b\b\r",
      " 12  9 22.94 \b\b\b\b\b\b\b\b\b\b\b\r",
      " 12 10 23.04 <iteration done>\n",
      "\b\b\b\b\b\b\b\b\b\b\b\r",
      " 13  1 24.15 \b\b\b\b\b\b\b\b\b\b\b\r",
      " 13  2 24.25 \b\b\b\b\b\b\b\b\b\b\b\r",
      " 13  3 24.35 \b\b\b\b\b\b\b\b\b\b\b\r",
      " 13  4 24.45 \b\b\b\b\b\b\b\b\b\b\b\r",
      " 13  5 24.55 \b\b\b\b\b\b\b\b\b\b\b\r",
      " 13  6 24.65 \b\b\b\b\b\b\b\b\b\b\b\r",
      " 13  7 24.75 \b\b\b\b\b\b\b\b\b\b\b\r",
      " 13  8 24.85 \b\b\b\b\b\b\b\b\b\b\b\r",
      " 13  9 24.95 \b\b\b\b\b\b\b\b\b\b\b\r",
      " 13 10 25.05 <iteration done>\n",
      "\b\b\b\b\b\b\b\b\b\b\b\r",
      " 14  1 26.16 \b\b\b\b\b\b\b\b\b\b\b\r",
      " 14  2 26.26 \b\b\b\b\b\b\b\b\b\b\b\r",
      " 14  3 26.36 \b\b\b\b\b\b\b\b\b\b\b\r",
      " 14  4 26.46 \b\b\b\b\b\b\b\b\b\b\b\r",
      " 14  5 26.56 \b\b\b\b\b\b\b\b\b\b\b\r",
      " 14  6 26.66 \b\b\b\b\b\b\b\b\b\b\b\r",
      " 14  7 26.76 \b\b\b\b\b\b\b\b\b\b\b\r",
      " 14  8 26.86 \b\b\b\b\b\b\b\b\b\b\b\r",
      " 14  9 26.97 \b\b\b\b\b\b\b\b\b\b\b\r",
      " 14 10 27.07 <iteration done>\n",
      "\b\b\b\b\b\b\b\b\b\b\b\r",
      " 15  1 28.17 \b\b\b\b\b\b\b\b\b\b\b\r",
      " 15  2 28.27 \b\b\b\b\b\b\b\b\b\b\b\r",
      " 15  3 28.37 \b\b\b\b\b\b\b\b\b\b\b\r",
      " 15  4 28.47 \b\b\b\b\b\b\b\b\b\b\b\r",
      " 15  5 28.57 \b\b\b\b\b\b\b\b\b\b\b\r",
      " 15  6 28.67 \b\b\b\b\b\b\b\b\b\b\b\r",
      " 15  7 28.77 \b\b\b\b\b\b\b\b\b\b\b\r",
      " 15  8 28.87 \b\b\b\b\b\b\b\b\b\b\b\r",
      " 15  9 28.98 \b\b\b\b\b\b\b\b\b\b\b\r",
      " 15 10 29.08 <iteration done>\n",
      "\b\b\b\b\b\b\b\b\b\b\b\r",
      " 16  1 30.18 \b\b\b\b\b\b\b\b\b\b\b\r",
      " 16  2 30.28 \b\b\b\b\b\b\b\b\b\b\b\r",
      " 16  3 30.38 \b\b\b\b\b\b\b\b\b\b\b\r",
      " 16  4 30.48 \b\b\b\b\b\b\b\b\b\b\b\r",
      " 16  5 30.58 \b\b\b\b\b\b\b\b\b\b\b\r",
      " 16  6 30.68 \b\b\b\b\b\b\b\b\b\b\b\r",
      " 16  7 30.79 \b\b\b\b\b\b\b\b\b\b\b\r",
      " 16  8 30.89 \b\b\b\b\b\b\b\b\b\b\b\r",
      " 16  9 30.99 \b\b\b\b\b\b\b\b\b\b\b\r",
      " 16 10 31.09 <iteration done>\n",
      "\b\b\b\b\b\b\b\b\b\b\b\r",
      " 17  1 32.19 \b\b\b\b\b\b\b\b\b\b\b\r",
      " 17  2 32.29 \b\b\b\b\b\b\b\b\b\b\b\r",
      " 17  3 32.39 \b\b\b\b\b\b\b\b\b\b\b\r",
      " 17  4 32.50 \b\b\b\b\b\b\b\b\b\b\b\r",
      " 17  5 32.60 \b\b\b\b\b\b\b\b\b\b\b\r",
      " 17  6 32.70 \b\b\b\b\b\b\b\b\b\b\b\r",
      " 17  7 32.80 \b\b\b\b\b\b\b\b\b\b\b\r",
      " 17  8 32.90 \b\b\b\b\b\b\b\b\b\b\b\r",
      " 17  9 33.00 \b\b\b\b\b\b\b\b\b\b\b\r",
      " 17 10 33.10 <iteration done>\n",
      "\b\b\b\b\b\b\b\b\b\b\b\r",
      " 18  1 34.20 \b\b\b\b\b\b\b\b\b\b\b\r",
      " 18  2 34.31 \b\b\b\b\b\b\b\b\b\b\b\r",
      " 18  3 34.41 \b\b\b\b\b\b\b\b\b\b\b\r",
      " 18  4 34.51 \b\b\b\b\b\b\b\b\b\b\b\r",
      " 18  5 34.61 \b\b\b\b\b\b\b\b\b\b\b\r",
      " 18  6 34.71 \b\b\b\b\b\b\b\b\b\b\b\r",
      " 18  7 34.81 \b\b\b\b\b\b\b\b\b\b\b\r",
      " 18  8 34.91 \b\b\b\b\b\b\b\b\b\b\b\r",
      " 18  9 35.01 \b\b\b\b\b\b\b\b\b\b\b\r",
      " 18 10 35.11 <iteration done>\n",
      "\b\b\b\b\b\b\b\b\b\b\b\r",
      " 19  1 36.22 \b\b\b\b\b\b\b\b\b\b\b\r",
      " 19  2 36.32 \b\b\b\b\b\b\b\b\b\b\b\r",
      " 19  3 36.42 \b\b\b\b\b\b\b\b\b\b\b\r",
      " 19  4 36.52 \b\b\b\b\b\b\b\b\b\b\b\r",
      " 19  5 36.62 \b\b\b\b\b\b\b\b\b\b\b\r",
      " 19  6 36.72 \b\b\b\b\b\b\b\b\b\b\b\r",
      " 19  7 36.83 \b\b\b\b\b\b\b\b\b\b\b\r",
      " 19  8 36.93 \b\b\b\b\b\b\b\b\b\b\b\r",
      " 19  9 37.03 \b\b\b\b\b\b\b\b\b\b\b\r",
      " 19 10 37.13 <iteration done>\n",
      "\b\b\b\b\b\b\b\b\b\b\b\r",
      " 20  1 38.23 \b\b\b\b\b\b\b\b\b\b\b\r",
      " 20  2 38.33 \b\b\b\b\b\b\b\b\b\b\b\r",
      " 20  3 38.44 \b\b\b\b\b\b\b\b\b\b\b\r",
      " 20  4 38.54 \b\b\b\b\b\b\b\b\b\b\b\r",
      " 20  5 38.64 \b\b\b\b\b\b\b\b\b\b\b\r",
      " 20  6 38.74 \b\b\b\b\b\b\b\b\b\b\b\r",
      " 20  7 38.84 \b\b\b\b\b\b\b\b\b\b\b\r",
      " 20  8 38.94 \b\b\b\b\b\b\b\b\b\b\b\r",
      " 20  9 39.04 \b\b\b\b\b\b\b\b\b\b\b\r",
      " 20 10 39.14 <iteration done>\n",
      "\b\b\b\b\b\b\b\b\b\b\b\r",
      " 21  1 40.25 \b\b\b\b\b\b\b\b\b\b\b\r",
      " 21  2 40.35 \b\b\b\b\b\b\b\b\b\b\b\r",
      " 21  3 40.45 \b\b\b\b\b\b\b\b\b\b\b\r",
      " 21  4 40.55 \b\b\b\b\b\b\b\b\b\b\b\r",
      " 21  5 40.65 \b\b\b\b\b\b\b\b\b\b\b\r",
      " 21  6 40.76 \b\b\b\b\b\b\b\b\b\b\b\r",
      " 21  7 40.86 \b\b\b\b\b\b\b\b\b\b\b\r",
      " 21  8 40.96 \b\b\b\b\b\b\b\b\b\b\b\r",
      " 21  9 41.06 \b\b\b\b\b\b\b\b\b\b\b\r",
      " 21 10 41.16 <iteration done>\n",
      "\b\b\b\b\b\b\b\b\b\b\b\r",
      " 22  1 42.26 \b\b\b\b\b\b\b\b\b\b\b\r",
      " 22  2 42.36 \b\b\b\b\b\b\b\b\b\b\b\r",
      " 22  3 42.47 \b\b\b\b\b\b\b\b\b\b\b\r",
      " 22  4 42.57 \b\b\b\b\b\b\b\b\b\b\b\r",
      " 22  5 42.67 \b\b\b\b\b\b\b\b\b\b\b\r",
      " 22  6 42.77 \b\b\b\b\b\b\b\b\b\b\b\r",
      " 22  7 42.87 \b\b\b\b\b\b\b\b\b\b\b\r",
      " 22  8 42.97 \b\b\b\b\b\b\b\b\b\b\b\r",
      " 22  9 43.07 \b\b\b\b\b\b\b\b\b\b\b\r",
      " 22 10 43.17 <iteration done>\n",
      "\b\b\b\b\b\b\b\b\b\b\b\r",
      " 23  1 44.28 \b\b\b\b\b\b\b\b\b\b\b\r",
      " 23  2 44.38 \b\b\b\b\b\b\b\b\b\b\b\r",
      " 23  3 44.48 \b\b\b\b\b\b\b\b\b\b\b\r",
      " 23  4 44.58 \b\b\b\b\b\b\b\b\b\b\b\r",
      " 23  5 44.68 \b\b\b\b\b\b\b\b\b\b\b\r",
      " 23  6 44.78 \b\b\b\b\b\b\b\b\b\b\b\r",
      " 23  7 44.88 \b\b\b\b\b\b\b\b\b\b\b\r",
      " 23  8 44.99 \b\b\b\b\b\b\b\b\b\b\b\r",
      " 23  9 45.09 \b\b\b\b\b\b\b\b\b\b\b\r",
      " 23 10 45.19 <iteration done>\n",
      "\b\b\b\b\b\b\b\b\b\b\b\r",
      " 24  1 46.29 \b\b\b\b\b\b\b\b\b\b\b\r",
      " 24  2 46.39 \b\b\b\b\b\b\b\b\b\b\b\r",
      " 24  3 46.49 \b\b\b\b\b\b\b\b\b\b\b\r",
      " 24  4 46.60 \b\b\b\b\b\b\b\b\b\b\b\r",
      " 24  5 46.70 \b\b\b\b\b\b\b\b\b\b\b\r",
      " 24  6 46.80 \b\b\b\b\b\b\b\b\b\b\b\r",
      " 24  7 46.90 \b\b\b\b\b\b\b\b\b\b\b\r",
      " 24  8 47.00 \b\b\b\b\b\b\b\b\b\b\b\r",
      " 24  9 47.10 \b\b\b\b\b\b\b\b\b\b\b\r",
      " 24 10 47.20 <iteration done>\n",
      "\b\b\b\b\b\b\b\b\b\b\b\r",
      " 25  1 48.31 \b\b\b\b\b\b\b\b\b\b\b\r",
      " 25  2 48.41 \b\b\b\b\b\b\b\b\b\b\b\r",
      " 25  3 48.51 \b\b\b\b\b\b\b\b\b\b\b\r",
      " 25  4 48.61 \b\b\b\b\b\b\b\b\b\b\b\r",
      " 25  5 48.71 \b\b\b\b\b\b\b\b\b\b\b\r",
      " 25  6 48.82 \b\b\b\b\b\b\b\b\b\b\b\r",
      " 25  7 48.92 \b\b\b\b\b\b\b\b\b\b\b\r",
      " 25  8 49.02 \b\b\b\b\b\b\b\b\b\b\b\r",
      " 25  9 49.12 \b\b\b\b\b\b\b\b\b\b\b\r",
      " 25 10 49.22 <iteration done>\n",
      "\b\b\b\b\b\b\b\b\b\b\b\r",
      " 26  1 50.32 \b\b\b\b\b\b\b\b\b\b\b\r",
      " 26  2 50.43 \b\b\b\b\b\b\b\b\b\b\b\r",
      " 26  3 50.53 \b\b\b\b\b\b\b\b\b\b\b\r",
      " 26  4 50.63 \b\b\b\b\b\b\b\b\b\b\b\r",
      " 26  5 50.73 \b\b\b\b\b\b\b\b\b\b\b\r",
      " 26  6 50.83 \b\b\b\b\b\b\b\b\b\b\b\r",
      " 26  7 50.93 \b\b\b\b\b\b\b\b\b\b\b\r",
      " 26  8 51.03 \b\b\b\b\b\b\b\b\b\b\b\r",
      " 26  9 51.14 \b\b\b\b\b\b\b\b\b\b\b\r",
      " 26 10 51.24 <iteration done>\n",
      "\b\b\b\b\b\b\b\b\b\b\b\r",
      " 27  1 52.34 \b\b\b\b\b\b\b\b\b\b\b\r",
      " 27  2 52.44 \b\b\b\b\b\b\b\b\b\b\b\r",
      " 27  3 52.54 \b\b\b\b\b\b\b\b\b\b\b\r",
      " 27  4 52.65 \b\b\b\b\b\b\b\b\b\b\b\r",
      " 27  5 52.75 \b\b\b\b\b\b\b\b\b\b\b\r",
      " 27  6 52.85 \b\b\b\b\b\b\b\b\b\b\b\r",
      " 27  7 52.95 \b\b\b\b\b\b\b\b\b\b\b\r",
      " 27  8 53.05 \b\b\b\b\b\b\b\b\b\b\b\r",
      " 27  9 53.15 \b\b\b\b\b\b\b\b\b\b\b\r",
      " 27 10 53.25 <iteration done>\n",
      "\b\b\b\b\b\b\b\b\b\b\b\r",
      " 28  1 54.36 \b\b\b\b\b\b\b\b\b\b\b\r",
      " 28  2 54.46 \b\b\b\b\b\b\b\b\b\b\b\r",
      " 28  3 54.56 \b\b\b\b\b\b\b\b\b\b\b\r",
      " 28  4 54.66 \b\b\b\b\b\b\b\b\b\b\b\r",
      " 28  5 54.76 \b\b\b\b\b\b\b\b\b\b\b\r",
      " 28  6 54.86 \b\b\b\b\b\b\b\b\b\b\b\r",
      " 28  7 54.96 \b\b\b\b\b\b\b\b\b\b\b\r",
      " 28  8 55.07 \b\b\b\b\b\b\b\b\b\b\b\r",
      " 28  9 55.17 \b\b\b\b\b\b\b\b\b\b\b\r",
      " 28 10 55.27 <iteration done>\n",
      "\b\b\b\b\b\b\b\b\b\b\b\r",
      " 29  1 56.37 \b\b\b\b\b\b\b\b\b\b\b\r",
      " 29  2 56.47 \b\b\b\b\b\b\b\b\b\b\b\r",
      " 29  3 56.57 \b\b\b\b\b\b\b\b\b\b\b\r",
      " 29  4 56.68 \b\b\b\b\b\b\b\b\b\b\b\r",
      " 29  5 56.78 \b\b\b\b\b\b\b\b\b\b\b\r",
      " 29  6 56.88 \b\b\b\b\b\b\b\b\b\b\b\r",
      " 29  7 56.98 \b\b\b\b\b\b\b\b\b\b\b\r",
      " 29  8 57.08 \b\b\b\b\b\b\b\b\b\b\b\r",
      " 29  9 57.18 \b\b\b\b\b\b\b\b\b\b\b\r",
      " 29 10 57.28 <iteration done>\n",
      "\b\b\b\b\b\b\b\b\b\b\b\r",
      " 30  1 58.39 \b\b\b\b\b\b\b\b\b\b\b\r",
      " 30  2 58.49 \b\b\b\b\b\b\b\b\b\b\b\r",
      " 30  3 58.59 \b\b\b\b\b\b\b\b\b\b\b\r",
      " 30  4 58.69 \b\b\b\b\b\b\b\b\b\b\b\r",
      " 30  5 58.79 \b\b\b\b\b\b\b\b\b\b\b\r",
      " 30  6 58.89 \b\b\b\b\b\b\b\b\b\b\b\r",
      " 30  7 59.00 \b\b\b\b\b\b\b\b\b\b\b\r",
      " 30  8 59.10 \b\b\b\b\b\b\b\b\b\b\b\r",
      " 30  9 59.20 \b\b\b\b\b\b\b\b\b\b\b\r",
      " 30 10 59.30 <iteration done>\n",
      "\b\b\b\b\b\b\b\b\b\b\b\r",
      " 31  1 60.40 \b\b\b\b\b\b\b\b\b\b\b\r",
      " 31  2 60.50 \b\b\b\b\b\b\b\b\b\b\b\r",
      " 31  3 60.60 \b\b\b\b\b\b\b\b\b\b\b\r",
      " 31  4 60.71 \b\b\b\b\b\b\b\b\b\b\b\r",
      " 31  5 60.81 \b\b\b\b\b\b\b\b\b\b\b\r",
      " 31  6 60.91 \b\b\b\b\b\b\b\b\b\b\b\r",
      " 31  7 61.01 \b\b\b\b\b\b\b\b\b\b\b\r",
      " 31  8 61.11 \b\b\b\b\b\b\b\b\b\b\b\r",
      " 31  9 61.21 \b\b\b\b\b\b\b\b\b\b\b\r",
      " 31 10 61.31 <iteration done>\n",
      "\b\b\b\b\b\b\b\b\b\b\b\r",
      " 32  1 62.42 \b\b\b\b\b\b\b\b\b\b\b\r",
      " 32  2 62.52 \b\b\b\b\b\b\b\b\b\b\b\r",
      " 32  3 62.62 \b\b\b\b\b\b\b\b\b\b\b\r",
      " 32  4 62.72 \b\b\b\b\b\b\b\b\b\b\b\r",
      " 32  5 62.82 \b\b\b\b\b\b\b\b\b\b\b\r",
      " 32  6 62.92 \b\b\b\b\b\b\b\b\b\b\b\r",
      " 32  7 63.02 \b\b\b\b\b\b\b\b\b\b\b\r",
      " 32  8 63.13 \b\b\b\b\b\b\b\b\b\b\b\r",
      " 32  9 63.23 \b\b\b\b\b\b\b\b\b\b\b\r",
      " 32 10 63.33 <iteration done>\n",
      "\b\b\b\b\b\b\b\b\b\b\b\r",
      " 33  1 64.43 \b\b\b\b\b\b\b\b\b\b\b\r",
      " 33  2 64.53 \b\b\b\b\b\b\b\b\b\b\b\r",
      " 33  3 64.64 \b\b\b\b\b\b\b\b\b\b\b\r",
      " 33  4 64.74 \b\b\b\b\b\b\b\b\b\b\b\r",
      " 33  5 64.84 \b\b\b\b\b\b\b\b\b\b\b\r",
      " 33  6 64.94 \b\b\b\b\b\b\b\b\b\b\b\r",
      " 33  7 65.04 \b\b\b\b\b\b\b\b\b\b\b\r",
      " 33  8 65.14 \b\b\b\b\b\b\b\b\b\b\b\r",
      " 33  9 65.24 \b\b\b\b\b\b\b\b\b\b\b\r",
      " 33 10 65.35 <iteration done>\n",
      "\b\b\b\b\b\b\b\b\b\b\b\r",
      " 34  1 66.45 \b\b\b\b\b\b\b\b\b\b\b\r",
      " 34  2 66.55 \b\b\b\b\b\b\b\b\b\b\b\r",
      " 34  3 66.65 \b\b\b\b\b\b\b\b\b\b\b\r",
      " 34  4 66.75 \b\b\b\b\b\b\b\b\b\b\b\r",
      " 34  5 66.85 \b\b\b\b\b\b\b\b\b\b\b\r",
      " 34  6 66.96 \b\b\b\b\b\b\b\b\b\b\b\r",
      " 34  7 67.06 \b\b\b\b\b\b\b\b\b\b\b\r",
      " 34  8 67.16 \b\b\b\b\b\b\b\b\b\b\b\r",
      " 34  9 67.26 \b\b\b\b\b\b\b\b\b\b\b\r",
      " 34 10 67.36 <iteration done>\n",
      "\b\b\b\b\b\b\b\b\b\b\b\r",
      " 35  1 68.46 \b\b\b\b\b\b\b\b\b\b\b\r",
      " 35  2 68.57 \b\b\b\b\b\b\b\b\b\b\b\r",
      " 35  3 68.67 \b\b\b\b\b\b\b\b\b\b\b\r",
      " 35  4 68.77 \b\b\b\b\b\b\b\b\b\b\b\r",
      " 35  5 68.87 \b\b\b\b\b\b\b\b\b\b\b\r",
      " 35  6 68.97 \b\b\b\b\b\b\b\b\b\b\b\r",
      " 35  7 69.07 \b\b\b\b\b\b\b\b\b\b\b\r",
      " 35  8 69.18 \b\b\b\b\b\b\b\b\b\b\b\r",
      " 35  9 69.28 \b\b\b\b\b\b\b\b\b\b\b\r",
      " 35 10 69.38 <iteration done>\n",
      "\b\b\b\b\b\b\b\b\b\b\b\r",
      " 36  1 70.48 \b\b\b\b\b\b\b\b\b\b\b\r",
      " 36  2 70.58 \b\b\b\b\b\b\b\b\b\b\b\r",
      " 36  3 70.69 \b\b\b\b\b\b\b\b\b\b\b\r",
      " 36  4 70.79 \b\b\b\b\b\b\b\b\b\b\b\r",
      " 36  5 70.89 \b\b\b\b\b\b\b\b\b\b\b\r",
      " 36  6 70.99 \b\b\b\b\b\b\b\b\b\b\b\r",
      " 36  7 71.09 \b\b\b\b\b\b\b\b\b\b\b\r",
      " 36  8 71.19 \b\b\b\b\b\b\b\b\b\b\b\r",
      " 36  9 71.29 \b\b\b\b\b\b\b\b\b\b\b\r",
      " 36 10 71.39 <iteration done>\n",
      "\b\b\b\b\b\b\b\b\b\b\b\r",
      " 37  1 72.50 \b\b\b\b\b\b\b\b\b\b\b\r",
      " 37  2 72.60 \b\b\b\b\b\b\b\b\b\b\b\r",
      " 37  3 72.70 \b\b\b\b\b\b\b\b\b\b\b\r",
      " 37  4 72.80 \b\b\b\b\b\b\b\b\b\b\b\r",
      " 37  5 72.90 \b\b\b\b\b\b\b\b\b\b\b\r",
      " 37  6 73.00 \b\b\b\b\b\b\b\b\b\b\b\r",
      " 37  7 73.10 \b\b\b\b\b\b\b\b\b\b\b\r",
      " 37  8 73.21 \b\b\b\b\b\b\b\b\b\b\b\r",
      " 37  9 73.31 \b\b\b\b\b\b\b\b\b\b\b\r",
      " 37 10 73.41 <iteration done>\n",
      "\b\b\b\b\b\b\b\b\b\b\b\r",
      " 38  1 74.51 \b\b\b\b\b\b\b\b\b\b\b\r",
      " 38  2 74.61 \b\b\b\b\b\b\b\b\b\b\b\r",
      " 38  3 74.72 \b\b\b\b\b\b\b\b\b\b\b\r",
      " 38  4 74.82 \b\b\b\b\b\b\b\b\b\b\b\r",
      " 38  5 74.92 \b\b\b\b\b\b\b\b\b\b\b\r",
      " 38  6 75.02 \b\b\b\b\b\b\b\b\b\b\b\r",
      " 38  7 75.12 \b\b\b\b\b\b\b\b\b\b\b\r",
      " 38  8 75.22 \b\b\b\b\b\b\b\b\b\b\b\r",
      " 38  9 75.32 \b\b\b\b\b\b\b\b\b\b\b\r",
      " 38 10 75.42 <iteration done>\n",
      "\b\b\b\b\b\b\b\b\b\b\b\r",
      " 39  1 76.53 \b\b\b\b\b\b\b\b\b\b\b\r",
      " 39  2 76.63 \b\b\b\b\b\b\b\b\b\b\b\r",
      " 39  3 76.73 \b\b\b\b\b\b\b\b\b\b\b\r",
      " 39  4 76.83 \b\b\b\b\b\b\b\b\b\b\b\r",
      " 39  5 76.93 \b\b\b\b\b\b\b\b\b\b\b\r",
      " 39  6 77.03 \b\b\b\b\b\b\b\b\b\b\b\r",
      " 39  7 77.14 \b\b\b\b\b\b\b\b\b\b\b\r",
      " 39  8 77.24 \b\b\b\b\b\b\b\b\b\b\b\r",
      " 39  9 77.34 \b\b\b\b\b\b\b\b\b\b\b\r",
      " 39 10 77.44 <iteration done>\n",
      "\b\b\b\b\b\b\b\b\b\b\b\r",
      " 40  1 78.54 \b\b\b\b\b\b\b\b\b\b\b\r",
      " 40  2 78.64 \b\b\b\b\b\b\b\b\b\b\b\r",
      " 40  3 78.74 \b\b\b\b\b\b\b\b\b\b\b\r",
      " 40  4 78.85 \b\b\b\b\b\b\b\b\b\b\b\r",
      " 40  5 78.95 \b\b\b\b\b\b\b\b\b\b\b\r",
      " 40  6 79.05 \b\b\b\b\b\b\b\b\b\b\b\r",
      " 40  7 79.15 \b\b\b\b\b\b\b\b\b\b\b\r",
      " 40  8 79.25 \b\b\b\b\b\b\b\b\b\b\b\r",
      " 40  9 79.35 \b\b\b\b\b\b\b\b\b\b\b\r",
      " 40 10 79.45 <iteration done>\n",
      "\b\b\b\b\b\b\b\b\b\b\b\r",
      " 41  1 80.56 \b\b\b\b\b\b\b\b\b\b\b\r",
      " 41  2 80.66 \b\b\b\b\b\b\b\b\b\b\b\r",
      " 41  3 80.76 \b\b\b\b\b\b\b\b\b\b\b\r",
      " 41  4 80.86 \b\b\b\b\b\b\b\b\b\b\b\r",
      " 41  5 80.96 \b\b\b\b\b\b\b\b\b\b\b\r",
      " 41  6 81.06 \b\b\b\b\b\b\b\b\b\b\b\r",
      " 41  7 81.16 \b\b\b\b\b\b\b\b\b\b\b\r",
      " 41  8 81.27 \b\b\b\b\b\b\b\b\b\b\b\r",
      " 41  9 81.37 \b\b\b\b\b\b\b\b\b\b\b\r",
      " 41 10 81.47 <iteration done>\n",
      "\b\b\b\b\b\b\b\b\b\b\b\r",
      " 42  1 82.57 \b\b\b\b\b\b\b\b\b\b\b\r",
      " 42  2 82.67 \b\b\b\b\b\b\b\b\b\b\b\r",
      " 42  3 82.77 \b\b\b\b\b\b\b\b\b\b\b\r",
      " 42  4 82.88 \b\b\b\b\b\b\b\b\b\b\b\r",
      " 42  5 82.98 \b\b\b\b\b\b\b\b\b\b\b\r",
      " 42  6 83.08 \b\b\b\b\b\b\b\b\b\b\b\r",
      " 42  7 83.18 \b\b\b\b\b\b\b\b\b\b\b\r",
      " 42  8 83.28 \b\b\b\b\b\b\b\b\b\b\b\r",
      " 42  9 83.38 \b\b\b\b\b\b\b\b\b\b\b\r",
      " 42 10 83.48 <iteration done>\n",
      "\b\b\b\b\b\b\b\b\b\b\b\r",
      " 43  1 84.59 \b\b\b\b\b\b\b\b\b\b\b\r",
      " 43  2 84.69 \b\b\b\b\b\b\b\b\b\b\b\r",
      " 43  3 84.79 \b\b\b\b\b\b\b\b\b\b\b\r",
      " 43  4 84.89 \b\b\b\b\b\b\b\b\b\b\b\r",
      " 43  5 84.99 \b\b\b\b\b\b\b\b\b\b\b\r",
      " 43  6 85.09 \b\b\b\b\b\b\b\b\b\b\b\r",
      " 43  7 85.20 \b\b\b\b\b\b\b\b\b\b\b\r",
      " 43  8 85.30 \b\b\b\b\b\b\b\b\b\b\b\r",
      " 43  9 85.40 \b\b\b\b\b\b\b\b\b\b\b\r",
      " 43 10 85.50 <iteration done>\n",
      "\b\b\b\b\b\b\b\b\b\b\b\r",
      " 44  1 86.60 \b\b\b\b\b\b\b\b\b\b\b\r",
      " 44  2 86.70 \b\b\b\b\b\b\b\b\b\b\b\r",
      " 44  3 86.80 \b\b\b\b\b\b\b\b\b\b\b\r",
      " 44  4 86.91 \b\b\b\b\b\b\b\b\b\b\b\r",
      " 44  5 87.01 \b\b\b\b\b\b\b\b\b\b\b\r",
      " 44  6 87.11 \b\b\b\b\b\b\b\b\b\b\b\r",
      " 44  7 87.21 \b\b\b\b\b\b\b\b\b\b\b\r",
      " 44  8 87.31 \b\b\b\b\b\b\b\b\b\b\b\r",
      " 44  9 87.41 \b\b\b\b\b\b\b\b\b\b\b\r",
      " 44 10 87.51 <iteration done>\n",
      "\b\b\b\b\b\b\b\b\b\b\b\r",
      " 45  1 88.62 \b\b\b\b\b\b\b\b\b\b\b\r",
      " 45  2 88.72 \b\b\b\b\b\b\b\b\b\b\b\r",
      " 45  3 88.82 \b\b\b\b\b\b\b\b\b\b\b\r",
      " 45  4 88.92 \b\b\b\b\b\b\b\b\b\b\b\r",
      " 45  5 89.02 \b\b\b\b\b\b\b\b\b\b\b\r",
      " 45  6 89.12 \b\b\b\b\b\b\b\b\b\b\b\r",
      " 45  7 89.22 \b\b\b\b\b\b\b\b\b\b\b\r",
      " 45  8 89.33 \b\b\b\b\b\b\b\b\b\b\b\r",
      " 45  9 89.43 \b\b\b\b\b\b\b\b\b\b\b\r",
      " 45 10 89.53 <iteration done>\n",
      "\b\b\b\b\b\b\b\b\b\b\b\r",
      " 46  1 90.63 \b\b\b\b\b\b\b\b\b\b\b\r",
      " 46  2 90.73 \b\b\b\b\b\b\b\b\b\b\b\r",
      " 46  3 90.83 \b\b\b\b\b\b\b\b\b\b\b\r",
      " 46  4 90.94 \b\b\b\b\b\b\b\b\b\b\b\r",
      " 46  5 91.04 \b\b\b\b\b\b\b\b\b\b\b\r",
      " 46  6 91.14 \b\b\b\b\b\b\b\b\b\b\b\r",
      " 46  7 91.24 \b\b\b\b\b\b\b\b\b\b\b\r",
      " 46  8 91.34 \b\b\b\b\b\b\b\b\b\b\b\r",
      " 46  9 91.44 \b\b\b\b\b\b\b\b\b\b\b\r",
      " 46 10 91.54 <iteration done>\n",
      "\b\b\b\b\b\b\b\b\b\b\b\r",
      " 47  1 92.65 \b\b\b\b\b\b\b\b\b\b\b\r",
      " 47  2 92.75 \b\b\b\b\b\b\b\b\b\b\b\r",
      " 47  3 92.85 \b\b\b\b\b\b\b\b\b\b\b\r",
      " 47  4 92.95 \b\b\b\b\b\b\b\b\b\b\b\r",
      " 47  5 93.05 \b\b\b\b\b\b\b\b\b\b\b\r",
      " 47  6 93.15 \b\b\b\b\b\b\b\b\b\b\b\r",
      " 47  7 93.25 \b\b\b\b\b\b\b\b\b\b\b\r",
      " 47  8 93.36 \b\b\b\b\b\b\b\b\b\b\b\r",
      " 47  9 93.46 \b\b\b\b\b\b\b\b\b\b\b\r",
      " 47 10 93.56 <iteration done>\n",
      "\b\b\b\b\b\b\b\b\b\b\b\r",
      " 48  1 94.66 \b\b\b\b\b\b\b\b\b\b\b\r",
      " 48  2 94.76 \b\b\b\b\b\b\b\b\b\b\b\r",
      " 48  3 94.86 \b\b\b\b\b\b\b\b\b\b\b\r",
      " 48  4 94.97 \b\b\b\b\b\b\b\b\b\b\b\r",
      " 48  5 95.07 \b\b\b\b\b\b\b\b\b\b\b\r",
      " 48  6 95.17 \b\b\b\b\b\b\b\b\b\b\b\r",
      " 48  7 95.27 \b\b\b\b\b\b\b\b\b\b\b\r",
      " 48  8 95.37 \b\b\b\b\b\b\b\b\b\b\b\r",
      " 48  9 95.47 \b\b\b\b\b\b\b\b\b\b\b\r",
      " 48 10 95.57 <iteration done>\n",
      "\b\b\b\b\b\b\b\b\b\b\b\r",
      " 49  1 96.68 \b\b\b\b\b\b\b\b\b\b\b\r",
      " 49  2 96.78 \b\b\b\b\b\b\b\b\b\b\b\r",
      " 49  3 96.88 \b\b\b\b\b\b\b\b\b\b\b\r",
      " 49  4 96.98 \b\b\b\b\b\b\b\b\b\b\b\r",
      " 49  5 97.08 \b\b\b\b\b\b\b\b\b\b\b\r",
      " 49  6 97.18 \b\b\b\b\b\b\b\b\b\b\b\r",
      " 49  7 97.28 \b\b\b\b\b\b\b\b\b\b\b\r",
      " 49  8 97.38 \b\b\b\b\b\b\b\b\b\b\b\r",
      " 49  9 97.49 \b\b\b\b\b\b\b\b\b\b\b\r",
      " 49 10 97.59 <iteration done>\n",
      "\b\b\b\b\b\b\b\b\b\b\b\r",
      " 50  1 98.69 \b\b\b\b\b\b\b\b\b\b\b\r",
      " 50  2 98.79 \b\b\b\b\b\b\b\b\b\b\b\r",
      " 50  3 98.89 \b\b\b\b\b\b\b\b\b\b\b\r",
      " 50  4 99.00 \b\b\b\b\b\b\b\b\b\b\b\r",
      " 50  5 99.10 \b\b\b\b\b\b\b\b\b\b\b\r",
      " 50  6 99.20 \b\b\b\b\b\b\b\b\b\b\b\r",
      " 50  7 99.30 \b\b\b\b\b\b\b\b\b\b\b\r",
      " 50  8 99.40 \b\b\b\b\b\b\b\b\b\b\b\r",
      " 50  9 99.50 \b\b\b\b\b\b\b\b\b\b\b\r",
      " 50 10 99.60 <iteration done>\n",
      "Done! Msg=Look! NonBlocking! Param={}\n"
     ]
    }
   ],
   "source": [
    "# We can still print the collected output, after it has finished\n",
    "pn.show()"
   ]
  },
  {
   "cell_type": "markdown",
   "metadata": {},
   "source": [
    "## Additional options\n",
    "\n",
    "### verbose\n",
    "\n",
    "Adding `verbose=False` to the `process()` method will suppress output (but still save to the temporal file)"
   ]
  },
  {
   "cell_type": "code",
   "execution_count": 17,
   "metadata": {
    "collapsed": false
   },
   "outputs": [],
   "source": [
    "pq = cc.ProcessWrap( processing_call, 3, \"Now Quiet!\" )\n",
    "pq.process( verbose=False )\n",
    "# This will take a few seconds to run, with no output produced while it is running"
   ]
  },
  {
   "cell_type": "code",
   "execution_count": 18,
   "metadata": {
    "collapsed": false
   },
   "outputs": [
    {
     "name": "stdout",
     "output_type": "stream",
     "text": [
      "\r",
      "----- DONE -----\n",
      "\b\b\b\b\b\b\b\b\b\b\b\r",
      "  1  1  0.00 \b\b\b\b\b\b\b\b\b\b\b\r",
      "  1  2  0.10 \b\b\b\b\b\b\b\b\b\b\b\r",
      "  1  3  0.20 \b\b\b\b\b\b\b\b\b\b\b\r",
      "  1  4  0.30 \b\b\b\b\b\b\b\b\b\b\b\r",
      "  1  5  0.40 \b\b\b\b\b\b\b\b\b\b\b\r",
      "  1  6  0.50 \b\b\b\b\b\b\b\b\b\b\b\r",
      "  1  7  0.60 \b\b\b\b\b\b\b\b\b\b\b\r",
      "  1  8  0.70 \b\b\b\b\b\b\b\b\b\b\b\r",
      "  1  9  0.80 \b\b\b\b\b\b\b\b\b\b\b\r",
      "  1 10  0.90 <iteration done>\n",
      "\b\b\b\b\b\b\b\b\b\b\b\r",
      "  2  1  2.00 \b\b\b\b\b\b\b\b\b\b\b\r",
      "  2  2  2.11 \b\b\b\b\b\b\b\b\b\b\b\r",
      "  2  3  2.21 \b\b\b\b\b\b\b\b\b\b\b\r",
      "  2  4  2.31 \b\b\b\b\b\b\b\b\b\b\b\r",
      "  2  5  2.41 \b\b\b\b\b\b\b\b\b\b\b\r",
      "  2  6  2.51 \b\b\b\b\b\b\b\b\b\b\b\r",
      "  2  7  2.61 \b\b\b\b\b\b\b\b\b\b\b\r",
      "  2  8  2.71 \b\b\b\b\b\b\b\b\b\b\b\r",
      "  2  9  2.81 \b\b\b\b\b\b\b\b\b\b\b\r",
      "  2 10  2.91 <iteration done>\n",
      "\b\b\b\b\b\b\b\b\b\b\b\r",
      "  3  1  4.01 \b\b\b\b\b\b\b\b\b\b\b\r",
      "  3  2  4.11 \b\b\b\b\b\b\b\b\b\b\b\r",
      "  3  3  4.21 \b\b\b\b\b\b\b\b\b\b\b\r",
      "  3  4  4.31 \b\b\b\b\b\b\b\b\b\b\b\r",
      "  3  5  4.41 \b\b\b\b\b\b\b\b\b\b\b\r",
      "  3  6  4.51 \b\b\b\b\b\b\b\b\b\b\b\r",
      "  3  7  4.61 \b\b\b\b\b\b\b\b\b\b\b\r",
      "  3  8  4.71 \b\b\b\b\b\b\b\b\b\b\b\r",
      "  3  9  4.81 \b\b\b\b\b\b\b\b\b\b\b\r",
      "  3 10  4.91 <iteration done>\n",
      "Done! Msg=Now Quiet! Param={}\n"
     ]
    }
   ],
   "source": [
    "# After finishing, we can now print the captured data\n",
    "pq.show()"
   ]
  },
  {
   "cell_type": "markdown",
   "metadata": {},
   "source": [
    "### delete\n",
    "\n",
    "The temporal file is automatically deleted upon task termination. This is usually not a problem because the data in the file is loaded onto the `ProcessWrap` object, and it can be printed via `show()` (or retrieved through the `data` attribute). But of course it will be lost if the notebook kernel is terminated. If the processing is very long or important, as a safety measure the `delete=False` parameter to `process()` will cancel file removal."
   ]
  },
  {
   "cell_type": "code",
   "execution_count": 19,
   "metadata": {
    "collapsed": false
   },
   "outputs": [
    {
     "name": "stdout",
     "output_type": "stream",
     "text": [
      "Launching process ... \n",
      "  1 10  0.91 \b\b\b\b\b\b\b\b\b\b\b\b\b\b\b\b\b\b\b\b\b\b\b\b\b\b\b\b\b\b\b\b\b\b\b\b\b\b\b\b\b\b\b\b\b\b\b\b\b\b\b\b\b\b\b<iteration done>\n",
      "  2 10  2.92 \b\b\b\b\b\b\b\b\b\b\b\b\b\b\b\b\b\b\b\b\b\b\b\b\b\b\b\b\b\b\b\b\b\b\b\b\b\b\b\b\b\b\b\b\b\b\b\b\b\b\b\b\b\b\b<iteration done>\n",
      "  3 10  4.94 \b\b\b\b\b\b\b\b\b\b\b\b\b\b\b\b\b\b\b\b\b\b\b\b\b\b\b\b\b\b\b\b\b\b\b\b\b\b\b\b\b\b\b\b\b\b\b\b\b\b\b\b\b\b\b<iteration done>\n",
      "Done! Msg=Not deleted! Param={}\n"
     ]
    }
   ],
   "source": [
    "pk = cc.ProcessWrap( processing_call, 3, \"Not deleted!\" )\n",
    "pk.process( delete=False )"
   ]
  },
  {
   "cell_type": "code",
   "execution_count": 20,
   "metadata": {
    "collapsed": false
   },
   "outputs": [
    {
     "data": {
      "text/plain": [
       "'/vm/Vagrant/machine-learning-vm/notebook/vmfiles/IPNB/MLCourse/07-DeepLearning/notebook-byatbif2.log'"
      ]
     },
     "execution_count": 20,
     "metadata": {},
     "output_type": "execute_result"
    }
   ],
   "source": [
    "# See the filename that was used\n",
    "pk.logname"
   ]
  },
  {
   "cell_type": "code",
   "execution_count": 21,
   "metadata": {
    "collapsed": false
   },
   "outputs": [
    {
     "name": "stdout",
     "output_type": "stream",
     "text": [
      "\b\b\b\b\b\b\b\b\b\b\b\r",
      "  1  1  0.00 \b\b\b\b\b\b\b\b\b\b\b\r",
      "  1  2  0.10 \b\b\b\b\b\b\b\b\b\b\b\r",
      "  1  3  0.20 \b\b\b\b\b\b\b\b\b\b\b\r",
      "  1  4  0.30 \b\b\b\b\b\b\b\b\b\b\b\r",
      "  1  5  0.40 \b\b\b\b\b\b\b\b\b\b\b\r",
      "  1  6  0.51 \b\b\b\b\b\b\b\b\b\b\b\r",
      "  1  7  0.61 \b\b\b\b\b\b\b\b\b\b\b\r",
      "  1  8  0.71 \b\b\b\b\b\b\b\b\b\b\b\r",
      "  1  9  0.81 \b\b\b\b\b\b\b\b\b\b\b\r",
      "  1 10  0.91 <iteration done>\n",
      "\b\b\b\b\b\b\b\b\b\b\b\r",
      "  2  1  2.01 \b\b\b\b\b\b\b\b\b\b\b\r",
      "  2  2  2.11 \b\b\b\b\b\b\b\b\b\b\b\r",
      "  2  3  2.22 \b\b\b\b\b\b\b\b\b\b\b\r",
      "  2  4  2.32 \b\b\b\b\b\b\b\b\b\b\b\r",
      "  2  5  2.42 \b\b\b\b\b\b\b\b\b\b\b\r",
      "  2  6  2.52 \b\b\b\b\b\b\b\b\b\b\b\r",
      "  2  7  2.62 \b\b\b\b\b\b\b\b\b\b\b\r",
      "  2  8  2.72 \b\b\b\b\b\b\b\b\b\b\b\r",
      "  2  9  2.82 \b\b\b\b\b\b\b\b\b\b\b\r",
      "  2 10  2.92 <iteration done>\n",
      "\b\b\b\b\b\b\b\b\b\b\b\r",
      "  3  1  4.03 \b\b\b\b\b\b\b\b\b\b\b\r",
      "  3  2  4.13 \b\b\b\b\b\b\b\b\b\b\b\r",
      "  3  3  4.23 \b\b\b\b\b\b\b\b\b\b\b\r",
      "  3  4  4.33 \b\b\b\b\b\b\b\b\b\b\b\r",
      "  3  5  4.43 \b\b\b\b\b\b\b\b\b\b\b\r",
      "  3  6  4.54 \b\b\b\b\b\b\b\b\b\b\b\r",
      "  3  7  4.64 \b\b\b\b\b\b\b\b\b\b\b\r",
      "  3  8  4.74 \b\b\b\b\b\b\b\b\b\b\b\r",
      "  3  9  4.84 \b\b\b\b\b\b\b\b\b\b\b\r",
      "  3 10  4.94 <iteration done>\n",
      "Done! Msg=Not deleted! Param={}\n",
      "\n"
     ]
    }
   ],
   "source": [
    "# The data is available for posterity in the logfile\n",
    "# We use the io.open 'newline' argument so that (in Python 3) we avoid newline translation\n",
    "import io\n",
    "with io.open(pk.logname,\"r\",newline='') as f:\n",
    "    print( f.read() )"
   ]
  },
  {
   "cell_type": "code",
   "execution_count": 22,
   "metadata": {
    "collapsed": true
   },
   "outputs": [],
   "source": [
    "# Or perhaps not\n",
    "import os\n",
    "os.unlink( pk.logname )"
   ]
  },
  {
   "cell_type": "markdown",
   "metadata": {},
   "source": [
    "# Low level API\n",
    "The `ProcessWrap` object functionality is implemented via lower level objects:\n",
    "\n",
    "* `OutputDest` is a file-like object that substitutes _stdout_ & _stderr_ to perform the data capture\n",
    "* `ConsoleCapture` provides an object that uses `OutputDest`, and `ConsoleCaptureCtx` a context manager for it\n",
    "* `ProcessingThread` provides the processing thread that encapsulates its output via `ConsoleCaptureCtx`\n",
    "\n",
    "These objects can be used directly if more specialised treatment is needed\n",
    "\n",
    "### ConsoleCaptureCtx\n"
   ]
  },
  {
   "cell_type": "code",
   "execution_count": 23,
   "metadata": {
    "collapsed": false
   },
   "outputs": [],
   "source": [
    "import datetime\n",
    "\n",
    "with cc.ConsoleCaptureCtx(verbose=False) as ll1:\n",
    "    for i in range(15):\n",
    "        print( '{:3}  {}'.format(i+1, datetime.datetime.now()) )"
   ]
  },
  {
   "cell_type": "code",
   "execution_count": 24,
   "metadata": {
    "collapsed": false
   },
   "outputs": [
    {
     "name": "stdout",
     "output_type": "stream",
     "text": [
      "  1  2017-01-09 12:30:01.216291\n",
      "  2  2017-01-09 12:30:01.218047\n",
      "  3  2017-01-09 12:30:01.218106\n",
      "  4  2017-01-09 12:30:01.218137\n",
      "  5  2017-01-09 12:30:01.218166\n",
      "  6  2017-01-09 12:30:01.218195\n",
      "  7  2017-01-09 12:30:01.218225\n",
      "  8  2017-01-09 12:30:01.218254\n",
      "  9  2017-01-09 12:30:01.218285\n",
      " 10  2017-01-09 12:30:01.218315\n",
      " 11  2017-01-09 12:30:01.218345\n",
      " 12  2017-01-09 12:30:01.218375\n",
      " 13  2017-01-09 12:30:01.218405\n",
      " 14  2017-01-09 12:30:01.218432\n",
      " 15  2017-01-09 12:30:01.218460\n"
     ]
    }
   ],
   "source": [
    "ll1.reprint();"
   ]
  },
  {
   "cell_type": "code",
   "execution_count": 25,
   "metadata": {
    "collapsed": false
   },
   "outputs": [
    {
     "data": {
      "text/plain": [
       "'  1  2017-01-09 12:30:01.216291\\n  2  2017-01-09 12:30:01.218047\\n  3  2017-01-09 12:30:01.218106\\n  4  2017-01-09 12:30:01.218137\\n  5  2017-01-09 12:30:01.218166\\n  6  2017-01-09 12:30:01.218195\\n  7  2017-01-09 12:30:01.218225\\n  8  2017-01-09 12:30:01.218254\\n  9  2017-01-09 12:30:01.218285\\n 10  2017-01-09 12:30:01.218315\\n 11  2017-01-09 12:30:01.218345\\n 12  2017-01-09 12:30:01.218375\\n 13  2017-01-09 12:30:01.218405\\n 14  2017-01-09 12:30:01.218432\\n 15  2017-01-09 12:30:01.218460\\n'"
      ]
     },
     "execution_count": 25,
     "metadata": {},
     "output_type": "execute_result"
    }
   ],
   "source": [
    "ll1.data"
   ]
  },
  {
   "cell_type": "markdown",
   "metadata": {},
   "source": [
    "### ConsoleCapture"
   ]
  },
  {
   "cell_type": "code",
   "execution_count": 26,
   "metadata": {
    "collapsed": false
   },
   "outputs": [],
   "source": [
    "ll2 = cc.ConsoleCapture()"
   ]
  },
  {
   "cell_type": "code",
   "execution_count": 27,
   "metadata": {
    "collapsed": false
   },
   "outputs": [
    {
     "name": "stdout",
     "output_type": "stream",
     "text": [
      "A\n",
      "B\n"
     ]
    }
   ],
   "source": [
    "# Print something (that will not be captured)\n",
    "print( \"A\")\n",
    "print( \"B\" )"
   ]
  },
  {
   "cell_type": "code",
   "execution_count": 33,
   "metadata": {
    "collapsed": false,
    "scrolled": true
   },
   "outputs": [
    {
     "name": "stdout",
     "output_type": "stream",
     "text": [
      "CDE...\r",
      "...FGH\n",
      "IJK\n"
     ]
    }
   ],
   "source": [
    "# Start capturing, write something and stop capturing\n",
    "ll2.start()\n",
    "\n",
    "print( \"CDE...\\r\", end='')\n",
    "print( \"...FGH\")\n",
    "print( \"IJK\")\n",
    "\n",
    "ll2.stop();"
   ]
  },
  {
   "cell_type": "code",
   "execution_count": 34,
   "metadata": {
    "collapsed": false
   },
   "outputs": [
    {
     "name": "stdout",
     "output_type": "stream",
     "text": [
      "CDE...\r",
      "...FGH\n",
      "IJK\n"
     ]
    }
   ],
   "source": [
    "# Print what was captured, and remove the logfile\n",
    "ll2.reprint().remove();"
   ]
  },
  {
   "cell_type": "code",
   "execution_count": null,
   "metadata": {
    "collapsed": true
   },
   "outputs": [],
   "source": []
  }
 ],
 "metadata": {
  "kernelspec": {
   "display_name": "Python 3",
   "language": "python",
   "name": "python3"
  },
  "language_info": {
   "codemirror_mode": {
    "name": "ipython",
    "version": 3
   },
   "file_extension": ".py",
   "mimetype": "text/x-python",
   "name": "python",
   "nbconvert_exporter": "python",
   "pygments_lexer": "ipython3",
   "version": "3.4.3"
  }
 },
 "nbformat": 4,
 "nbformat_minor": 2
}
